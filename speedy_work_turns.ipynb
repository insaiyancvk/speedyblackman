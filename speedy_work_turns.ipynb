{
  "nbformat": 4,
  "nbformat_minor": 0,
  "metadata": {
    "colab": {
      "name": "speedy work turns.ipynb",
      "provenance": [],
      "collapsed_sections": [],
      "machine_shape": "hm",
      "include_colab_link": true
    },
    "kernelspec": {
      "name": "python3",
      "display_name": "Python 3"
    },
    "language_info": {
      "name": "python"
    },
    "widgets": {
      "application/vnd.jupyter.widget-state+json": {
        "c5c778b79033406aa6cc96557e2d4e57": {
          "model_module": "@jupyter-widgets/controls",
          "model_name": "HBoxModel",
          "model_module_version": "1.5.0",
          "state": {
            "_view_name": "HBoxView",
            "_dom_classes": [],
            "_model_name": "HBoxModel",
            "_view_module": "@jupyter-widgets/controls",
            "_model_module_version": "1.5.0",
            "_view_count": null,
            "_view_module_version": "1.5.0",
            "box_style": "",
            "layout": "IPY_MODEL_bf5b05318e7f4e069aae04872e8328c5",
            "_model_module": "@jupyter-widgets/controls",
            "children": [
              "IPY_MODEL_1a72d1d73ac74f0bb0512a3da24df968",
              "IPY_MODEL_0ca9ebd30be345f787e34226d7523d79",
              "IPY_MODEL_b56f30c183ce467291a8a86338830aa8"
            ]
          }
        },
        "bf5b05318e7f4e069aae04872e8328c5": {
          "model_module": "@jupyter-widgets/base",
          "model_name": "LayoutModel",
          "model_module_version": "1.2.0",
          "state": {
            "_view_name": "LayoutView",
            "grid_template_rows": null,
            "right": null,
            "justify_content": null,
            "_view_module": "@jupyter-widgets/base",
            "overflow": null,
            "_model_module_version": "1.2.0",
            "_view_count": null,
            "flex_flow": null,
            "width": null,
            "min_width": null,
            "border": null,
            "align_items": null,
            "bottom": null,
            "_model_module": "@jupyter-widgets/base",
            "top": null,
            "grid_column": null,
            "overflow_y": null,
            "overflow_x": null,
            "grid_auto_flow": null,
            "grid_area": null,
            "grid_template_columns": null,
            "flex": null,
            "_model_name": "LayoutModel",
            "justify_items": null,
            "grid_row": null,
            "max_height": null,
            "align_content": null,
            "visibility": null,
            "align_self": null,
            "height": null,
            "min_height": null,
            "padding": null,
            "grid_auto_rows": null,
            "grid_gap": null,
            "max_width": null,
            "order": null,
            "_view_module_version": "1.2.0",
            "grid_template_areas": null,
            "object_position": null,
            "object_fit": null,
            "grid_auto_columns": null,
            "margin": null,
            "display": null,
            "left": null
          }
        },
        "1a72d1d73ac74f0bb0512a3da24df968": {
          "model_module": "@jupyter-widgets/controls",
          "model_name": "HTMLModel",
          "model_module_version": "1.5.0",
          "state": {
            "_view_name": "HTMLView",
            "style": "IPY_MODEL_d5e0b2c7844849c1a984a0170763a1ff",
            "_dom_classes": [],
            "description": "",
            "_model_name": "HTMLModel",
            "placeholder": "​",
            "_view_module": "@jupyter-widgets/controls",
            "_model_module_version": "1.5.0",
            "value": "Extracting: 100%",
            "_view_count": null,
            "_view_module_version": "1.5.0",
            "description_tooltip": null,
            "_model_module": "@jupyter-widgets/controls",
            "layout": "IPY_MODEL_c91c4d3d171d4b06ad75379f9cfdfc1e"
          }
        },
        "0ca9ebd30be345f787e34226d7523d79": {
          "model_module": "@jupyter-widgets/controls",
          "model_name": "FloatProgressModel",
          "model_module_version": "1.5.0",
          "state": {
            "_view_name": "ProgressView",
            "style": "IPY_MODEL_5ca9233e204b434b8e6c1fd7fbdfef06",
            "_dom_classes": [],
            "description": "",
            "_model_name": "FloatProgressModel",
            "bar_style": "success",
            "max": 34916,
            "_view_module": "@jupyter-widgets/controls",
            "_model_module_version": "1.5.0",
            "value": 34916,
            "_view_count": null,
            "_view_module_version": "1.5.0",
            "orientation": "horizontal",
            "min": 0,
            "description_tooltip": null,
            "_model_module": "@jupyter-widgets/controls",
            "layout": "IPY_MODEL_5e5e3052ce234890a56ad310575dfd98"
          }
        },
        "b56f30c183ce467291a8a86338830aa8": {
          "model_module": "@jupyter-widgets/controls",
          "model_name": "HTMLModel",
          "model_module_version": "1.5.0",
          "state": {
            "_view_name": "HTMLView",
            "style": "IPY_MODEL_349b8e07e5dd46a09aa0c761c40550e6",
            "_dom_classes": [],
            "description": "",
            "_model_name": "HTMLModel",
            "placeholder": "​",
            "_view_module": "@jupyter-widgets/controls",
            "_model_module_version": "1.5.0",
            "value": " 34916/34916 [01:08&lt;00:00, 541.42it/s]",
            "_view_count": null,
            "_view_module_version": "1.5.0",
            "description_tooltip": null,
            "_model_module": "@jupyter-widgets/controls",
            "layout": "IPY_MODEL_e5159295d869477397e8f00a3a666845"
          }
        },
        "d5e0b2c7844849c1a984a0170763a1ff": {
          "model_module": "@jupyter-widgets/controls",
          "model_name": "DescriptionStyleModel",
          "model_module_version": "1.5.0",
          "state": {
            "_view_name": "StyleView",
            "_model_name": "DescriptionStyleModel",
            "description_width": "",
            "_view_module": "@jupyter-widgets/base",
            "_model_module_version": "1.5.0",
            "_view_count": null,
            "_view_module_version": "1.2.0",
            "_model_module": "@jupyter-widgets/controls"
          }
        },
        "c91c4d3d171d4b06ad75379f9cfdfc1e": {
          "model_module": "@jupyter-widgets/base",
          "model_name": "LayoutModel",
          "model_module_version": "1.2.0",
          "state": {
            "_view_name": "LayoutView",
            "grid_template_rows": null,
            "right": null,
            "justify_content": null,
            "_view_module": "@jupyter-widgets/base",
            "overflow": null,
            "_model_module_version": "1.2.0",
            "_view_count": null,
            "flex_flow": null,
            "width": null,
            "min_width": null,
            "border": null,
            "align_items": null,
            "bottom": null,
            "_model_module": "@jupyter-widgets/base",
            "top": null,
            "grid_column": null,
            "overflow_y": null,
            "overflow_x": null,
            "grid_auto_flow": null,
            "grid_area": null,
            "grid_template_columns": null,
            "flex": null,
            "_model_name": "LayoutModel",
            "justify_items": null,
            "grid_row": null,
            "max_height": null,
            "align_content": null,
            "visibility": null,
            "align_self": null,
            "height": null,
            "min_height": null,
            "padding": null,
            "grid_auto_rows": null,
            "grid_gap": null,
            "max_width": null,
            "order": null,
            "_view_module_version": "1.2.0",
            "grid_template_areas": null,
            "object_position": null,
            "object_fit": null,
            "grid_auto_columns": null,
            "margin": null,
            "display": null,
            "left": null
          }
        },
        "5ca9233e204b434b8e6c1fd7fbdfef06": {
          "model_module": "@jupyter-widgets/controls",
          "model_name": "ProgressStyleModel",
          "model_module_version": "1.5.0",
          "state": {
            "_view_name": "StyleView",
            "_model_name": "ProgressStyleModel",
            "description_width": "",
            "_view_module": "@jupyter-widgets/base",
            "_model_module_version": "1.5.0",
            "_view_count": null,
            "_view_module_version": "1.2.0",
            "bar_color": null,
            "_model_module": "@jupyter-widgets/controls"
          }
        },
        "5e5e3052ce234890a56ad310575dfd98": {
          "model_module": "@jupyter-widgets/base",
          "model_name": "LayoutModel",
          "model_module_version": "1.2.0",
          "state": {
            "_view_name": "LayoutView",
            "grid_template_rows": null,
            "right": null,
            "justify_content": null,
            "_view_module": "@jupyter-widgets/base",
            "overflow": null,
            "_model_module_version": "1.2.0",
            "_view_count": null,
            "flex_flow": null,
            "width": null,
            "min_width": null,
            "border": null,
            "align_items": null,
            "bottom": null,
            "_model_module": "@jupyter-widgets/base",
            "top": null,
            "grid_column": null,
            "overflow_y": null,
            "overflow_x": null,
            "grid_auto_flow": null,
            "grid_area": null,
            "grid_template_columns": null,
            "flex": null,
            "_model_name": "LayoutModel",
            "justify_items": null,
            "grid_row": null,
            "max_height": null,
            "align_content": null,
            "visibility": null,
            "align_self": null,
            "height": null,
            "min_height": null,
            "padding": null,
            "grid_auto_rows": null,
            "grid_gap": null,
            "max_width": null,
            "order": null,
            "_view_module_version": "1.2.0",
            "grid_template_areas": null,
            "object_position": null,
            "object_fit": null,
            "grid_auto_columns": null,
            "margin": null,
            "display": null,
            "left": null
          }
        },
        "349b8e07e5dd46a09aa0c761c40550e6": {
          "model_module": "@jupyter-widgets/controls",
          "model_name": "DescriptionStyleModel",
          "model_module_version": "1.5.0",
          "state": {
            "_view_name": "StyleView",
            "_model_name": "DescriptionStyleModel",
            "description_width": "",
            "_view_module": "@jupyter-widgets/base",
            "_model_module_version": "1.5.0",
            "_view_count": null,
            "_view_module_version": "1.2.0",
            "_model_module": "@jupyter-widgets/controls"
          }
        },
        "e5159295d869477397e8f00a3a666845": {
          "model_module": "@jupyter-widgets/base",
          "model_name": "LayoutModel",
          "model_module_version": "1.2.0",
          "state": {
            "_view_name": "LayoutView",
            "grid_template_rows": null,
            "right": null,
            "justify_content": null,
            "_view_module": "@jupyter-widgets/base",
            "overflow": null,
            "_model_module_version": "1.2.0",
            "_view_count": null,
            "flex_flow": null,
            "width": null,
            "min_width": null,
            "border": null,
            "align_items": null,
            "bottom": null,
            "_model_module": "@jupyter-widgets/base",
            "top": null,
            "grid_column": null,
            "overflow_y": null,
            "overflow_x": null,
            "grid_auto_flow": null,
            "grid_area": null,
            "grid_template_columns": null,
            "flex": null,
            "_model_name": "LayoutModel",
            "justify_items": null,
            "grid_row": null,
            "max_height": null,
            "align_content": null,
            "visibility": null,
            "align_self": null,
            "height": null,
            "min_height": null,
            "padding": null,
            "grid_auto_rows": null,
            "grid_gap": null,
            "max_width": null,
            "order": null,
            "_view_module_version": "1.2.0",
            "grid_template_areas": null,
            "object_position": null,
            "object_fit": null,
            "grid_auto_columns": null,
            "margin": null,
            "display": null,
            "left": null
          }
        },
        "b8cf710231784df0abe571e410e19f6f": {
          "model_module": "@jupyter-widgets/controls",
          "model_name": "HBoxModel",
          "model_module_version": "1.5.0",
          "state": {
            "_view_name": "HBoxView",
            "_dom_classes": [],
            "_model_name": "HBoxModel",
            "_view_module": "@jupyter-widgets/controls",
            "_model_module_version": "1.5.0",
            "_view_count": null,
            "_view_module_version": "1.5.0",
            "box_style": "",
            "layout": "IPY_MODEL_1bae0310d9ac4db39206044229ad1ea5",
            "_model_module": "@jupyter-widgets/controls",
            "children": [
              "IPY_MODEL_6908a2a42f9942dfb274a6012c1ececf",
              "IPY_MODEL_dfd85d4ad0c141098881ff193179d9c0",
              "IPY_MODEL_60dd7dfb2fa34bbf9b718ccf29445e60"
            ]
          }
        },
        "1bae0310d9ac4db39206044229ad1ea5": {
          "model_module": "@jupyter-widgets/base",
          "model_name": "LayoutModel",
          "model_module_version": "1.2.0",
          "state": {
            "_view_name": "LayoutView",
            "grid_template_rows": null,
            "right": null,
            "justify_content": null,
            "_view_module": "@jupyter-widgets/base",
            "overflow": null,
            "_model_module_version": "1.2.0",
            "_view_count": null,
            "flex_flow": null,
            "width": null,
            "min_width": null,
            "border": null,
            "align_items": null,
            "bottom": null,
            "_model_module": "@jupyter-widgets/base",
            "top": null,
            "grid_column": null,
            "overflow_y": null,
            "overflow_x": null,
            "grid_auto_flow": null,
            "grid_area": null,
            "grid_template_columns": null,
            "flex": null,
            "_model_name": "LayoutModel",
            "justify_items": null,
            "grid_row": null,
            "max_height": null,
            "align_content": null,
            "visibility": null,
            "align_self": null,
            "height": null,
            "min_height": null,
            "padding": null,
            "grid_auto_rows": null,
            "grid_gap": null,
            "max_width": null,
            "order": null,
            "_view_module_version": "1.2.0",
            "grid_template_areas": null,
            "object_position": null,
            "object_fit": null,
            "grid_auto_columns": null,
            "margin": null,
            "display": null,
            "left": null
          }
        },
        "6908a2a42f9942dfb274a6012c1ececf": {
          "model_module": "@jupyter-widgets/controls",
          "model_name": "HTMLModel",
          "model_module_version": "1.5.0",
          "state": {
            "_view_name": "HTMLView",
            "style": "IPY_MODEL_d02761208d1f44498a5ddbf6e48d1156",
            "_dom_classes": [],
            "description": "",
            "_model_name": "HTMLModel",
            "placeholder": "​",
            "_view_module": "@jupyter-widgets/controls",
            "_model_module_version": "1.5.0",
            "value": "100%",
            "_view_count": null,
            "_view_module_version": "1.5.0",
            "description_tooltip": null,
            "_model_module": "@jupyter-widgets/controls",
            "layout": "IPY_MODEL_39d4dd8f0440428b993fd0e1d76fe65f"
          }
        },
        "dfd85d4ad0c141098881ff193179d9c0": {
          "model_module": "@jupyter-widgets/controls",
          "model_name": "FloatProgressModel",
          "model_module_version": "1.5.0",
          "state": {
            "_view_name": "ProgressView",
            "style": "IPY_MODEL_b26cb0b31e85486f870281944c08d5a4",
            "_dom_classes": [],
            "description": "",
            "_model_name": "FloatProgressModel",
            "bar_style": "success",
            "max": 14212972,
            "_view_module": "@jupyter-widgets/controls",
            "_model_module_version": "1.5.0",
            "value": 14212972,
            "_view_count": null,
            "_view_module_version": "1.5.0",
            "orientation": "horizontal",
            "min": 0,
            "description_tooltip": null,
            "_model_module": "@jupyter-widgets/controls",
            "layout": "IPY_MODEL_32f32a733ea84f6b894b266da2b52d9d"
          }
        },
        "60dd7dfb2fa34bbf9b718ccf29445e60": {
          "model_module": "@jupyter-widgets/controls",
          "model_name": "HTMLModel",
          "model_module_version": "1.5.0",
          "state": {
            "_view_name": "HTMLView",
            "style": "IPY_MODEL_f1cf6ef62651498fb838619f28f85c1f",
            "_dom_classes": [],
            "description": "",
            "_model_name": "HTMLModel",
            "placeholder": "​",
            "_view_module": "@jupyter-widgets/controls",
            "_model_module_version": "1.5.0",
            "value": " 13.6M/13.6M [00:00&lt;00:00, 11.7MB/s]",
            "_view_count": null,
            "_view_module_version": "1.5.0",
            "description_tooltip": null,
            "_model_module": "@jupyter-widgets/controls",
            "layout": "IPY_MODEL_a5e9cf0b96bb4618811035e24d8787e1"
          }
        },
        "d02761208d1f44498a5ddbf6e48d1156": {
          "model_module": "@jupyter-widgets/controls",
          "model_name": "DescriptionStyleModel",
          "model_module_version": "1.5.0",
          "state": {
            "_view_name": "StyleView",
            "_model_name": "DescriptionStyleModel",
            "description_width": "",
            "_view_module": "@jupyter-widgets/base",
            "_model_module_version": "1.5.0",
            "_view_count": null,
            "_view_module_version": "1.2.0",
            "_model_module": "@jupyter-widgets/controls"
          }
        },
        "39d4dd8f0440428b993fd0e1d76fe65f": {
          "model_module": "@jupyter-widgets/base",
          "model_name": "LayoutModel",
          "model_module_version": "1.2.0",
          "state": {
            "_view_name": "LayoutView",
            "grid_template_rows": null,
            "right": null,
            "justify_content": null,
            "_view_module": "@jupyter-widgets/base",
            "overflow": null,
            "_model_module_version": "1.2.0",
            "_view_count": null,
            "flex_flow": null,
            "width": null,
            "min_width": null,
            "border": null,
            "align_items": null,
            "bottom": null,
            "_model_module": "@jupyter-widgets/base",
            "top": null,
            "grid_column": null,
            "overflow_y": null,
            "overflow_x": null,
            "grid_auto_flow": null,
            "grid_area": null,
            "grid_template_columns": null,
            "flex": null,
            "_model_name": "LayoutModel",
            "justify_items": null,
            "grid_row": null,
            "max_height": null,
            "align_content": null,
            "visibility": null,
            "align_self": null,
            "height": null,
            "min_height": null,
            "padding": null,
            "grid_auto_rows": null,
            "grid_gap": null,
            "max_width": null,
            "order": null,
            "_view_module_version": "1.2.0",
            "grid_template_areas": null,
            "object_position": null,
            "object_fit": null,
            "grid_auto_columns": null,
            "margin": null,
            "display": null,
            "left": null
          }
        },
        "b26cb0b31e85486f870281944c08d5a4": {
          "model_module": "@jupyter-widgets/controls",
          "model_name": "ProgressStyleModel",
          "model_module_version": "1.5.0",
          "state": {
            "_view_name": "StyleView",
            "_model_name": "ProgressStyleModel",
            "description_width": "",
            "_view_module": "@jupyter-widgets/base",
            "_model_module_version": "1.5.0",
            "_view_count": null,
            "_view_module_version": "1.2.0",
            "bar_color": null,
            "_model_module": "@jupyter-widgets/controls"
          }
        },
        "32f32a733ea84f6b894b266da2b52d9d": {
          "model_module": "@jupyter-widgets/base",
          "model_name": "LayoutModel",
          "model_module_version": "1.2.0",
          "state": {
            "_view_name": "LayoutView",
            "grid_template_rows": null,
            "right": null,
            "justify_content": null,
            "_view_module": "@jupyter-widgets/base",
            "overflow": null,
            "_model_module_version": "1.2.0",
            "_view_count": null,
            "flex_flow": null,
            "width": null,
            "min_width": null,
            "border": null,
            "align_items": null,
            "bottom": null,
            "_model_module": "@jupyter-widgets/base",
            "top": null,
            "grid_column": null,
            "overflow_y": null,
            "overflow_x": null,
            "grid_auto_flow": null,
            "grid_area": null,
            "grid_template_columns": null,
            "flex": null,
            "_model_name": "LayoutModel",
            "justify_items": null,
            "grid_row": null,
            "max_height": null,
            "align_content": null,
            "visibility": null,
            "align_self": null,
            "height": null,
            "min_height": null,
            "padding": null,
            "grid_auto_rows": null,
            "grid_gap": null,
            "max_width": null,
            "order": null,
            "_view_module_version": "1.2.0",
            "grid_template_areas": null,
            "object_position": null,
            "object_fit": null,
            "grid_auto_columns": null,
            "margin": null,
            "display": null,
            "left": null
          }
        },
        "f1cf6ef62651498fb838619f28f85c1f": {
          "model_module": "@jupyter-widgets/controls",
          "model_name": "DescriptionStyleModel",
          "model_module_version": "1.5.0",
          "state": {
            "_view_name": "StyleView",
            "_model_name": "DescriptionStyleModel",
            "description_width": "",
            "_view_module": "@jupyter-widgets/base",
            "_model_module_version": "1.5.0",
            "_view_count": null,
            "_view_module_version": "1.2.0",
            "_model_module": "@jupyter-widgets/controls"
          }
        },
        "a5e9cf0b96bb4618811035e24d8787e1": {
          "model_module": "@jupyter-widgets/base",
          "model_name": "LayoutModel",
          "model_module_version": "1.2.0",
          "state": {
            "_view_name": "LayoutView",
            "grid_template_rows": null,
            "right": null,
            "justify_content": null,
            "_view_module": "@jupyter-widgets/base",
            "overflow": null,
            "_model_module_version": "1.2.0",
            "_view_count": null,
            "flex_flow": null,
            "width": null,
            "min_width": null,
            "border": null,
            "align_items": null,
            "bottom": null,
            "_model_module": "@jupyter-widgets/base",
            "top": null,
            "grid_column": null,
            "overflow_y": null,
            "overflow_x": null,
            "grid_auto_flow": null,
            "grid_area": null,
            "grid_template_columns": null,
            "flex": null,
            "_model_name": "LayoutModel",
            "justify_items": null,
            "grid_row": null,
            "max_height": null,
            "align_content": null,
            "visibility": null,
            "align_self": null,
            "height": null,
            "min_height": null,
            "padding": null,
            "grid_auto_rows": null,
            "grid_gap": null,
            "max_width": null,
            "order": null,
            "_view_module_version": "1.2.0",
            "grid_template_areas": null,
            "object_position": null,
            "object_fit": null,
            "grid_auto_columns": null,
            "margin": null,
            "display": null,
            "left": null
          }
        },
        "889136c76eb740fc95f3470983e31598": {
          "model_module": "@jupyter-widgets/controls",
          "model_name": "HBoxModel",
          "model_module_version": "1.5.0",
          "state": {
            "_view_name": "HBoxView",
            "_dom_classes": [],
            "_model_name": "HBoxModel",
            "_view_module": "@jupyter-widgets/controls",
            "_model_module_version": "1.5.0",
            "_view_count": null,
            "_view_module_version": "1.5.0",
            "box_style": "",
            "layout": "IPY_MODEL_960d31eb30b644d5b019f612e92f9bf7",
            "_model_module": "@jupyter-widgets/controls",
            "children": [
              "IPY_MODEL_24850aefdc304ddabc31891b6fb18bcc",
              "IPY_MODEL_cdd919828ead422999b1e61e6b065870",
              "IPY_MODEL_cd7a0c39b483435e96b5ed1cdb482175"
            ]
          }
        },
        "960d31eb30b644d5b019f612e92f9bf7": {
          "model_module": "@jupyter-widgets/base",
          "model_name": "LayoutModel",
          "model_module_version": "1.2.0",
          "state": {
            "_view_name": "LayoutView",
            "grid_template_rows": null,
            "right": null,
            "justify_content": null,
            "_view_module": "@jupyter-widgets/base",
            "overflow": null,
            "_model_module_version": "1.2.0",
            "_view_count": null,
            "flex_flow": null,
            "width": null,
            "min_width": null,
            "border": null,
            "align_items": null,
            "bottom": null,
            "_model_module": "@jupyter-widgets/base",
            "top": null,
            "grid_column": null,
            "overflow_y": null,
            "overflow_x": null,
            "grid_auto_flow": null,
            "grid_area": null,
            "grid_template_columns": null,
            "flex": null,
            "_model_name": "LayoutModel",
            "justify_items": null,
            "grid_row": null,
            "max_height": null,
            "align_content": null,
            "visibility": null,
            "align_self": null,
            "height": null,
            "min_height": null,
            "padding": null,
            "grid_auto_rows": null,
            "grid_gap": null,
            "max_width": null,
            "order": null,
            "_view_module_version": "1.2.0",
            "grid_template_areas": null,
            "object_position": null,
            "object_fit": null,
            "grid_auto_columns": null,
            "margin": null,
            "display": null,
            "left": null
          }
        },
        "24850aefdc304ddabc31891b6fb18bcc": {
          "model_module": "@jupyter-widgets/controls",
          "model_name": "HTMLModel",
          "model_module_version": "1.5.0",
          "state": {
            "_view_name": "HTMLView",
            "style": "IPY_MODEL_862b618e789b4b6e9b059096e7684688",
            "_dom_classes": [],
            "description": "",
            "_model_name": "HTMLModel",
            "placeholder": "​",
            "_view_module": "@jupyter-widgets/controls",
            "_model_module_version": "1.5.0",
            "value": "  6%",
            "_view_count": null,
            "_view_module_version": "1.5.0",
            "description_tooltip": null,
            "_model_module": "@jupyter-widgets/controls",
            "layout": "IPY_MODEL_a374437e0091479cb89cee89475f4a97"
          }
        },
        "cdd919828ead422999b1e61e6b065870": {
          "model_module": "@jupyter-widgets/controls",
          "model_name": "FloatProgressModel",
          "model_module_version": "1.5.0",
          "state": {
            "_view_name": "ProgressView",
            "style": "IPY_MODEL_ceae5bdad7c54b91a8aa71ded1d47ebd",
            "_dom_classes": [],
            "description": "",
            "_model_name": "FloatProgressModel",
            "bar_style": "",
            "max": 873,
            "_view_module": "@jupyter-widgets/controls",
            "_model_module_version": "1.5.0",
            "value": 52,
            "_view_count": null,
            "_view_module_version": "1.5.0",
            "orientation": "horizontal",
            "min": 0,
            "description_tooltip": null,
            "_model_module": "@jupyter-widgets/controls",
            "layout": "IPY_MODEL_7725cff6e2264851847630aa177c5d5d"
          }
        },
        "cd7a0c39b483435e96b5ed1cdb482175": {
          "model_module": "@jupyter-widgets/controls",
          "model_name": "HTMLModel",
          "model_module_version": "1.5.0",
          "state": {
            "_view_name": "HTMLView",
            "style": "IPY_MODEL_1d862c3cd5664b09bf3692c04aa39c50",
            "_dom_classes": [],
            "description": "",
            "_model_name": "HTMLModel",
            "placeholder": "​",
            "_view_module": "@jupyter-widgets/controls",
            "_model_module_version": "1.5.0",
            "value": " 52/873 [01:00&lt;15:47,  1.15s/it]",
            "_view_count": null,
            "_view_module_version": "1.5.0",
            "description_tooltip": null,
            "_model_module": "@jupyter-widgets/controls",
            "layout": "IPY_MODEL_7cd0c34c3bc342d98d66ba334deacc22"
          }
        },
        "862b618e789b4b6e9b059096e7684688": {
          "model_module": "@jupyter-widgets/controls",
          "model_name": "DescriptionStyleModel",
          "model_module_version": "1.5.0",
          "state": {
            "_view_name": "StyleView",
            "_model_name": "DescriptionStyleModel",
            "description_width": "",
            "_view_module": "@jupyter-widgets/base",
            "_model_module_version": "1.5.0",
            "_view_count": null,
            "_view_module_version": "1.2.0",
            "_model_module": "@jupyter-widgets/controls"
          }
        },
        "a374437e0091479cb89cee89475f4a97": {
          "model_module": "@jupyter-widgets/base",
          "model_name": "LayoutModel",
          "model_module_version": "1.2.0",
          "state": {
            "_view_name": "LayoutView",
            "grid_template_rows": null,
            "right": null,
            "justify_content": null,
            "_view_module": "@jupyter-widgets/base",
            "overflow": null,
            "_model_module_version": "1.2.0",
            "_view_count": null,
            "flex_flow": null,
            "width": null,
            "min_width": null,
            "border": null,
            "align_items": null,
            "bottom": null,
            "_model_module": "@jupyter-widgets/base",
            "top": null,
            "grid_column": null,
            "overflow_y": null,
            "overflow_x": null,
            "grid_auto_flow": null,
            "grid_area": null,
            "grid_template_columns": null,
            "flex": null,
            "_model_name": "LayoutModel",
            "justify_items": null,
            "grid_row": null,
            "max_height": null,
            "align_content": null,
            "visibility": null,
            "align_self": null,
            "height": null,
            "min_height": null,
            "padding": null,
            "grid_auto_rows": null,
            "grid_gap": null,
            "max_width": null,
            "order": null,
            "_view_module_version": "1.2.0",
            "grid_template_areas": null,
            "object_position": null,
            "object_fit": null,
            "grid_auto_columns": null,
            "margin": null,
            "display": null,
            "left": null
          }
        },
        "ceae5bdad7c54b91a8aa71ded1d47ebd": {
          "model_module": "@jupyter-widgets/controls",
          "model_name": "ProgressStyleModel",
          "model_module_version": "1.5.0",
          "state": {
            "_view_name": "StyleView",
            "_model_name": "ProgressStyleModel",
            "description_width": "",
            "_view_module": "@jupyter-widgets/base",
            "_model_module_version": "1.5.0",
            "_view_count": null,
            "_view_module_version": "1.2.0",
            "bar_color": null,
            "_model_module": "@jupyter-widgets/controls"
          }
        },
        "7725cff6e2264851847630aa177c5d5d": {
          "model_module": "@jupyter-widgets/base",
          "model_name": "LayoutModel",
          "model_module_version": "1.2.0",
          "state": {
            "_view_name": "LayoutView",
            "grid_template_rows": null,
            "right": null,
            "justify_content": null,
            "_view_module": "@jupyter-widgets/base",
            "overflow": null,
            "_model_module_version": "1.2.0",
            "_view_count": null,
            "flex_flow": null,
            "width": null,
            "min_width": null,
            "border": null,
            "align_items": null,
            "bottom": null,
            "_model_module": "@jupyter-widgets/base",
            "top": null,
            "grid_column": null,
            "overflow_y": null,
            "overflow_x": null,
            "grid_auto_flow": null,
            "grid_area": null,
            "grid_template_columns": null,
            "flex": null,
            "_model_name": "LayoutModel",
            "justify_items": null,
            "grid_row": null,
            "max_height": null,
            "align_content": null,
            "visibility": null,
            "align_self": null,
            "height": null,
            "min_height": null,
            "padding": null,
            "grid_auto_rows": null,
            "grid_gap": null,
            "max_width": null,
            "order": null,
            "_view_module_version": "1.2.0",
            "grid_template_areas": null,
            "object_position": null,
            "object_fit": null,
            "grid_auto_columns": null,
            "margin": null,
            "display": null,
            "left": null
          }
        },
        "1d862c3cd5664b09bf3692c04aa39c50": {
          "model_module": "@jupyter-widgets/controls",
          "model_name": "DescriptionStyleModel",
          "model_module_version": "1.5.0",
          "state": {
            "_view_name": "StyleView",
            "_model_name": "DescriptionStyleModel",
            "description_width": "",
            "_view_module": "@jupyter-widgets/base",
            "_model_module_version": "1.5.0",
            "_view_count": null,
            "_view_module_version": "1.2.0",
            "_model_module": "@jupyter-widgets/controls"
          }
        },
        "7cd0c34c3bc342d98d66ba334deacc22": {
          "model_module": "@jupyter-widgets/base",
          "model_name": "LayoutModel",
          "model_module_version": "1.2.0",
          "state": {
            "_view_name": "LayoutView",
            "grid_template_rows": null,
            "right": null,
            "justify_content": null,
            "_view_module": "@jupyter-widgets/base",
            "overflow": null,
            "_model_module_version": "1.2.0",
            "_view_count": null,
            "flex_flow": null,
            "width": null,
            "min_width": null,
            "border": null,
            "align_items": null,
            "bottom": null,
            "_model_module": "@jupyter-widgets/base",
            "top": null,
            "grid_column": null,
            "overflow_y": null,
            "overflow_x": null,
            "grid_auto_flow": null,
            "grid_area": null,
            "grid_template_columns": null,
            "flex": null,
            "_model_name": "LayoutModel",
            "justify_items": null,
            "grid_row": null,
            "max_height": null,
            "align_content": null,
            "visibility": null,
            "align_self": null,
            "height": null,
            "min_height": null,
            "padding": null,
            "grid_auto_rows": null,
            "grid_gap": null,
            "max_width": null,
            "order": null,
            "_view_module_version": "1.2.0",
            "grid_template_areas": null,
            "object_position": null,
            "object_fit": null,
            "grid_auto_columns": null,
            "margin": null,
            "display": null,
            "left": null
          }
        }
      }
    },
    "accelerator": "GPU"
  },
  "cells": [
    {
      "cell_type": "markdown",
      "metadata": {
        "id": "view-in-github",
        "colab_type": "text"
      },
      "source": [
        "<a href=\"https://colab.research.google.com/github/insaiyancvk/speedyblackman/blob/main/speedy_work_turns.ipynb\" target=\"_parent\"><img src=\"https://colab.research.google.com/assets/colab-badge.svg\" alt=\"Open In Colab\"/></a>"
      ]
    },
    {
      "cell_type": "markdown",
      "metadata": {
        "id": "4UjHGrv6t_tj"
      },
      "source": [
        "## Starting with Left/Right work"
      ]
    },
    {
      "cell_type": "code",
      "metadata": {
        "colab": {
          "base_uri": "https://localhost:8080/"
        },
        "id": "C0Nm05DdZax3",
        "outputId": "ac2e10a3-af4e-440a-846a-17fbd93eee2c"
      },
      "source": [
        "from google.colab import drive\n",
        "drive.mount('/content/drive')\n",
        "# from IPython.display import Image\n",
        "!pip install -q python-telegram-bot"
      ],
      "execution_count": 1,
      "outputs": [
        {
          "output_type": "stream",
          "name": "stdout",
          "text": [
            "Mounted at /content/drive\n",
            "\u001b[K     |████████████████████████████████| 490 kB 4.1 MB/s \n",
            "\u001b[K     |████████████████████████████████| 428 kB 57.3 MB/s \n",
            "\u001b[K     |████████████████████████████████| 58 kB 8.0 MB/s \n",
            "\u001b[31mERROR: pip's dependency resolver does not currently take into account all the packages that are installed. This behaviour is the source of the following dependency conflicts.\n",
            "google-colab 1.0.0 requires tornado~=5.1.0; python_version >= \"3.0\", but you have tornado 6.1 which is incompatible.\u001b[0m\n",
            "\u001b[?25h"
          ]
        }
      ]
    },
    {
      "cell_type": "markdown",
      "metadata": {
        "id": "BEL1oDsaDU_Z"
      },
      "source": [
        "TRY MOBILENETV2"
      ]
    },
    {
      "cell_type": "code",
      "metadata": {
        "colab": {
          "base_uri": "https://localhost:8080/"
        },
        "id": "8W_vojderBBd",
        "outputId": "bbc31334-1b56-4507-86a3-61125751a4b5"
      },
      "source": [
        "import numpy as np\n",
        "import matplotlib.pyplot as plt\n",
        "import os, telegram, json, cv2, time, random, zipfile, shutil\n",
        "from math import floor\n",
        "from PIL import Image\n",
        "\n",
        "import torch\n",
        "import torchvision\n",
        "\n",
        "from torch.utils.data import DataLoader\n",
        "from torch.cuda.amp import autocast\n",
        "import torch.nn as nn\n",
        "import torch.nn.functional as F\n",
        "import torch.optim as optim\n",
        "\n",
        "# from torchvision.models.resnet import resnet50\n",
        "import torchvision.transforms as transforms\n",
        "import torchvision.datasets as datasets\n",
        "\n",
        "from tqdm.notebook import tqdm\n",
        "import warnings\n",
        "warnings.filterwarnings(\"ignore\")\n",
        "\n",
        "device = 'cuda' if torch.cuda.is_available() else 'cpu'\n",
        "print(f\"{device} activated.\")"
      ],
      "execution_count": 2,
      "outputs": [
        {
          "output_type": "stream",
          "name": "stdout",
          "text": [
            "cuda activated.\n"
          ]
        }
      ]
    },
    {
      "cell_type": "code",
      "metadata": {
        "colab": {
          "base_uri": "https://localhost:8080/",
          "height": 150,
          "referenced_widgets": [
            "c5c778b79033406aa6cc96557e2d4e57",
            "bf5b05318e7f4e069aae04872e8328c5",
            "1a72d1d73ac74f0bb0512a3da24df968",
            "0ca9ebd30be345f787e34226d7523d79",
            "b56f30c183ce467291a8a86338830aa8",
            "d5e0b2c7844849c1a984a0170763a1ff",
            "c91c4d3d171d4b06ad75379f9cfdfc1e",
            "5ca9233e204b434b8e6c1fd7fbdfef06",
            "5e5e3052ce234890a56ad310575dfd98",
            "349b8e07e5dd46a09aa0c761c40550e6",
            "e5159295d869477397e8f00a3a666845"
          ]
        },
        "id": "urcq2PHu87jE",
        "outputId": "124c07c3-7236-406c-ee5b-9bcff8887075"
      },
      "source": [
        "print(\"Initializing kaggle\")\n",
        "!rm -rf /root/.kaggle && mkdir /root/.kaggle && cp /content/drive/MyDrive/kaggle.json . && mv kaggle.json /root/.kaggle/kaggle.json\n",
        "\n",
        "print(\"Downloading the dataset\")\n",
        "!kaggle datasets download insaiyancvk/nfs-rivals-left-and-right-turn-data\n",
        "\n",
        "print(\"Extracting the dataset\")\n",
        "with zipfile.ZipFile(\"nfs-rivals-left-and-right-turn-data.zip\") as zf:\n",
        "  for member in tqdm(zf.infolist(), desc='Extracting'):\n",
        "    try:\n",
        "      zf.extract(member, \"/content\")\n",
        "    except zipfile.error:\n",
        "      pass\n",
        "!rm nfs-rivals-left-and-right-turn-data.zip"
      ],
      "execution_count": 3,
      "outputs": [
        {
          "output_type": "stream",
          "name": "stdout",
          "text": [
            "Initializing kaggle\n",
            "Downloading the dataset\n",
            "Downloading nfs-rivals-left-and-right-turn-data.zip to /content\n",
            "100% 6.87G/6.88G [03:20<00:00, 51.9MB/s]\n",
            "100% 6.88G/6.88G [03:20<00:00, 36.8MB/s]\n",
            "Extracting the dataset\n"
          ]
        },
        {
          "output_type": "display_data",
          "data": {
            "application/vnd.jupyter.widget-view+json": {
              "model_id": "c5c778b79033406aa6cc96557e2d4e57",
              "version_minor": 0,
              "version_major": 2
            },
            "text/plain": [
              "Extracting:   0%|          | 0/34916 [00:00<?, ?it/s]"
            ]
          },
          "metadata": {}
        }
      ]
    },
    {
      "cell_type": "code",
      "metadata": {
        "id": "56WwgEYv76sC",
        "cellView": "form"
      },
      "source": [
        "#@title Telegram bot\n",
        "class send(): \n",
        "\n",
        "  def __init__(self):\n",
        "    f = open ('/content/drive/MyDrive/tel.json', 'r')\n",
        "    self.tel = json.load(f)\n",
        "    f.close()\n",
        "    self.bot = telegram.Bot(token=self.tel['token']) \n",
        "\n",
        "  def msg(self, mesg):\n",
        "    self.bot.sendMessage(chat_id=self.tel['nnboiid'], text=mesg)\n",
        "\n",
        "  def pic(self, path):\n",
        "    self.bot.sendPhoto(chat_id=self.tel['nnboiid'], photo=open(path, 'rb'))\n",
        "bot = send()"
      ],
      "execution_count": 4,
      "outputs": []
    },
    {
      "cell_type": "code",
      "metadata": {
        "colab": {
          "base_uri": "https://localhost:8080/"
        },
        "id": "oBMrWsusv0_H",
        "outputId": "48882114-7164-4fe2-b35e-7a280d7bcc4e"
      },
      "source": [
        "print(\"Initializing classes\")\n",
        "\n",
        "class_list = [\n",
        "              'a',\n",
        "              'd']\n",
        "\n",
        "print(\"Creating workspace\")\n",
        "\n",
        "drive = os.path.join(\"drive\",\"MyDrive\")\n",
        "FOLDERS = {\n",
        "    \"TRAIN\": os.path.join(\"set2\",\"train\"),\n",
        "    \"TEST\": os.path.join(\"set2\",\"test\"),\n",
        "    \"WORKSPACE\": os.path.join(drive,\"speedata\",\"workspace\"),\n",
        "    \"MODELS\": os.path.join(drive,\"speedata\",\"workspace\",\"models\"),\n",
        "    \"PERFORMANCE\": os.path.join(drive,\"speedata\",\"workspace\",\"performance\")\n",
        "}\n",
        "\n",
        "for key in FOLDERS:\n",
        "  if not os.path.isdir(FOLDERS[key]):\n",
        "    print(key, \"directory doesn't exist. Creating one.\")\n",
        "    os.mkdir(FOLDERS[key])\n",
        "    print(key, \"directory created.\")"
      ],
      "execution_count": 5,
      "outputs": [
        {
          "output_type": "stream",
          "name": "stdout",
          "text": [
            "Initializing classes\n",
            "Creating workspace\n"
          ]
        }
      ]
    },
    {
      "cell_type": "code",
      "metadata": {
        "id": "VUiCqxbOZ7_7"
      },
      "source": [
        "# SPLIT_FOLDERS = {\n",
        "#     'TRAIN': os.path.join(\"set1\",\"train\"),\n",
        "#     'TRAIN_w': os.path.join(\"set1\",\"train\",\"w\"),\n",
        "#     'TRAIN_s': os.path.join(\"set1\",\"train\",\"s\"),\n",
        "#     'TEST': os.path.join(\"set1\",\"test\"),\n",
        "#     'TEST_w': os.path.join(\"set1\",\"test\",\"w\"),\n",
        "#     'TEST_s': os.path.join(\"set1\",\"test\",\"s\")\n",
        "# }\n",
        "# move_a = os.listdir(SPLIT_FOLDERS['TRAIN_w'])[:floor((len(os.listdir(SPLIT_FOLDERS['TRAIN_a'])))*0.375)]\n",
        "# move_d = os.listdir(SPLIT_FOLDERS['TRAIN_s'])[:floor((len(os.listdir(SPLIT_FOLDERS['TRAIN_d'])))*0.375)]\n",
        "\n",
        "# print(\"Moving 37.5% of train data of set 'a' to test set\")\n",
        "# for path in move_a:\n",
        "#   shutil.move(SPLIT_FOLDERS['TRAIN_a']+\"/\"+path, SPLIT_FOLDERS['TEST_a'])\n",
        "# print(\"Moving 37.5% of train data of set 'd' to test set\")\n",
        "# for path in move_d:\n",
        "#   shutil.move(SPLIT_FOLDERS['TRAIN_d']+\"/\"+path, SPLIT_FOLDERS['TEST_d'])"
      ],
      "execution_count": null,
      "outputs": []
    },
    {
      "cell_type": "markdown",
      "metadata": {
        "id": "kGdmtDrgLNrV"
      },
      "source": [
        "### Defining the transformations on train and test data"
      ]
    },
    {
      "cell_type": "code",
      "metadata": {
        "colab": {
          "base_uri": "https://localhost:8080/"
        },
        "id": "xJseNya9-gMC",
        "outputId": "8c98b045-adaf-4012-ba67-544803f28d36"
      },
      "source": [
        "print(\"Defining the transformations for the speedy data\")\n",
        "transformations = {\n",
        "    \"TRAIN\": transforms.Compose([\n",
        "                        transforms.Resize([256,256]),\n",
        "                        transforms.ColorJitter(brightness=(0.8,1.5), contrast=(0.8,1.5), saturation=(0.8,1.5)),\n",
        "                        # transforms.RandomInvert(0.5),\n",
        "                        # transforms.RandomRotation(degrees=(-10,10)),\n",
        "                        transforms.ToTensor(),\n",
        "                        transforms.Normalize((0.5,0.5,0.5),(0.5,0.5,0.5))\n",
        "    ]),\n",
        "    \"TEST\": transforms.Compose([\n",
        "                      transforms.Resize([256,256]),\n",
        "                      transforms.ToTensor(),\n",
        "                      transforms.Normalize((0.5,0.5,0.5),(0.5,0.5,0.5))\n",
        "    ])\n",
        "}"
      ],
      "execution_count": 6,
      "outputs": [
        {
          "output_type": "stream",
          "name": "stdout",
          "text": [
            "Defining the transformations for the speedy data\n"
          ]
        }
      ]
    },
    {
      "cell_type": "markdown",
      "metadata": {
        "id": "8iJCW7NkLVTc"
      },
      "source": [
        "### Define dataset of the _speedata_"
      ]
    },
    {
      "cell_type": "code",
      "metadata": {
        "id": "whCbQCikKP39",
        "colab": {
          "base_uri": "https://localhost:8080/"
        },
        "outputId": "7a327b02-ff42-4194-f7a5-f9dc9ebd3b11"
      },
      "source": [
        "\n",
        "print(\"Creating a dataset of the speedata\")\n",
        "dataset = {\n",
        "    \"TRAIN\": datasets.ImageFolder(\n",
        "        FOLDERS[\"TRAIN\"],\n",
        "        transform = transformations[\"TRAIN\"]\n",
        "    ),\n",
        "    \"TEST\": datasets.ImageFolder(\n",
        "        FOLDERS[\"TEST\"],\n",
        "        transform = transformations[\"TEST\"]\n",
        "    )\n",
        "}"
      ],
      "execution_count": 7,
      "outputs": [
        {
          "output_type": "stream",
          "name": "stdout",
          "text": [
            "Creating a dataset of the speedata\n"
          ]
        }
      ]
    },
    {
      "cell_type": "markdown",
      "metadata": {
        "id": "LMSmSZ9FLlle"
      },
      "source": [
        "### Create Dataloader of the _speedata_"
      ]
    },
    {
      "cell_type": "code",
      "metadata": {
        "cellView": "form",
        "id": "17ElGBFu9lbZ"
      },
      "source": [
        "BATCH =  64#@param {type:\"integer\"}"
      ],
      "execution_count": 10,
      "outputs": []
    },
    {
      "cell_type": "code",
      "metadata": {
        "colab": {
          "base_uri": "https://localhost:8080/"
        },
        "id": "0XLulVJfKvg-",
        "outputId": "05c89a0b-4a19-49c4-a5c3-2e79cf93f276"
      },
      "source": [
        "print(\"Creating dataloaders\")\n",
        "dataloader = {\n",
        "    \"TRAIN\": DataLoader(\n",
        "        dataset[\"TRAIN\"],\n",
        "        batch_size = BATCH,\n",
        "        shuffle = True\n",
        "    ),\n",
        "    \"TEST\": DataLoader(\n",
        "        dataset[\"TEST\"],\n",
        "        batch_size = BATCH,\n",
        "        shuffle = True\n",
        "    )\n",
        "}\n",
        "print(\"Data preprocessing completed.\")"
      ],
      "execution_count": 9,
      "outputs": [
        {
          "output_type": "stream",
          "name": "stdout",
          "text": [
            "Creating dataloaders\n",
            "Data preprocessing completed.\n"
          ]
        }
      ]
    },
    {
      "cell_type": "markdown",
      "metadata": {
        "id": "q-154QhrLH4m"
      },
      "source": [
        "# The G"
      ]
    },
    {
      "cell_type": "code",
      "metadata": {
        "id": "OEpKt51fMU7V"
      },
      "source": [
        "#@title Epoch function\n",
        "\n",
        "def epoch(model, test_loader ,train_loader, loss_func, optim, device):\n",
        "\n",
        "  test_loss = 0\n",
        "  test_accuracy = 0\n",
        "  train_loss = 0\n",
        "  train_accuracy = 0\n",
        "\n",
        "  model = model.to(device)\n",
        "\n",
        "  print(\"\\t\\tTraining the Neural Network\")\n",
        "  model.train(True)\n",
        "  for image, label in tqdm(train_loader):\n",
        "      optim.zero_grad()      \n",
        "      with autocast():\n",
        "        output = model.forward(image.to(device).half())\n",
        "      # output = model(image.to(device))\n",
        "      loss = loss_func(\n",
        "        output,\n",
        "        label.to(device)\n",
        "        )\n",
        "      loss.backward()\n",
        "      optim.step()\n",
        "\n",
        "      accuracy = np.average(\n",
        "            np.argmax(\n",
        "              output.cpu().detach().numpy(), axis=1) == label.cpu().detach().numpy()\n",
        "        )\n",
        "\n",
        "      train_loss += loss.item()/len(train_loader) # training average loss\n",
        "      train_accuracy += accuracy/len(train_loader) # training average accuracy\n",
        "  model.train(False)\n",
        "\n",
        "  print(\"\\t\\tValidating Neural Network\")\n",
        "  model.eval()\n",
        "\n",
        "  for image, label in tqdm(test_loader):\n",
        "      with autocast():\n",
        "        output = model.forward(image.to(device).half())\n",
        "      # output = model(image.to(device))\n",
        "      loss = loss_func(\n",
        "        output,\n",
        "        label.to(device)\n",
        "      )\n",
        "      \n",
        "      accuracy = np.average(\n",
        "        np.argmax(\n",
        "            output.cpu().detach().numpy(), axis=1) == label.cpu().detach().numpy()\n",
        "        )\n",
        "\n",
        "      test_loss += loss.item()/len(test_loader) # Validation average loss\n",
        "      test_accuracy += accuracy/len(test_loader) # Validation average accuracy\n",
        "      \n",
        "  return (\n",
        "\n",
        "    # TRAIN LOSS\n",
        "    train_loss,\n",
        "\n",
        "    # TRAIN ACCURACY\n",
        "    train_accuracy,\n",
        "\n",
        "    # TEST LOSS, ACCURACY\n",
        "    test_loss,\n",
        "    test_accuracy\n",
        "  )"
      ],
      "execution_count": 13,
      "outputs": []
    },
    {
      "cell_type": "code",
      "metadata": {
        "id": "zUCpviHGNDnU",
        "cellView": "form"
      },
      "source": [
        "EPOCH =  15#@param {type:\"integer\"}"
      ],
      "execution_count": 12,
      "outputs": []
    },
    {
      "cell_type": "code",
      "metadata": {
        "id": "K63sU1ZMzrQ4"
      },
      "source": [
        "!pip install -q pretrainedmodels\n",
        "import pretrainedmodels"
      ],
      "execution_count": null,
      "outputs": []
    },
    {
      "cell_type": "markdown",
      "metadata": {
        "id": "tXaArWWLuQuA"
      },
      "source": [
        "[Reference](https://medium.com/analytics-vidhya/how-to-add-additional-layers-in-a-pre-trained-model-using-pytorch-5627002c75a5)"
      ]
    },
    {
      "cell_type": "code",
      "metadata": {
        "id": "HamY2oshzhrD",
        "cellView": "form"
      },
      "source": [
        "#@title Resnet18 extra layers\n",
        "\n",
        "class Resnet18(nn.Module):\n",
        "  def __init__(self):\n",
        "      super(Resnet18, self).__init__()\n",
        "      self.model =  pretrainedmodels.__dict__['resnet18'](pretrained='imagenet')\n",
        "      \n",
        "      self.classifier_layer = nn.Sequential(\n",
        "          nn.Linear(512 , 256),\n",
        "          nn.BatchNorm1d(256),\n",
        "          nn.Dropout(0.2),\n",
        "          nn.Linear(256 , 128),\n",
        "          nn.Linear(128 , 2)\n",
        "      )\n",
        "\n",
        "  def forward(self, x):\n",
        "    batch_size ,_,_,_ = x.shape     #taking out batch_size from input image\n",
        "    x = self.model.features(x)\n",
        "    x = torch.nn.functional.adaptive_avg_pool2d(x,1).reshape(batch_size,-1)     # then reshaping the batch_size\n",
        "    x = self.classifier_layer(x)\n",
        "    return x\n",
        "# model = Resnet18()\n",
        "# model.fc = nn.Linear(model.fc.in_features,2)\n",
        "# model.fc.register_forward_hook(lambda m, inp, out: F.dropout(out, p=0.5, training=m.training)) # add a dropout layer"
      ],
      "execution_count": null,
      "outputs": []
    },
    {
      "cell_type": "code",
      "metadata": {
        "id": "V1_vNQnWjn9d",
        "cellView": "form"
      },
      "source": [
        "#@title install efficientnet\n",
        "!pip install efficientnet_pytorch"
      ],
      "execution_count": null,
      "outputs": []
    },
    {
      "cell_type": "code",
      "metadata": {
        "id": "NvmYMDUuj7k_",
        "cellView": "form"
      },
      "source": [
        "#@title import efficientnet\n",
        "from efficientnet_pytorch import EfficientNet\n",
        "model = EfficientNet.from_pretrained('efficientnet-b0', num_classes=2)"
      ],
      "execution_count": null,
      "outputs": []
    },
    {
      "cell_type": "code",
      "metadata": {
        "id": "_gnb6GdCql58",
        "cellView": "form"
      },
      "source": [
        "#@title AlexNet [reference](https://github.com/dansuh17/alexnet-pytorch/blob/master/model.py)\n",
        "class AlexNet(nn.Module):\n",
        "    \"\"\"\n",
        "    Neural network model consisting of layers propsed by AlexNet paper.\n",
        "    \"\"\"\n",
        "    def __init__(self, num_classes=2):\n",
        "        \"\"\"\n",
        "        Define and allocate layers for this neural net.\n",
        "        Args:\n",
        "            num_classes (int): number of classes to predict with this model\n",
        "        \"\"\"\n",
        "        super().__init__()\n",
        "        # input size should be : (b x 3 x 227 x 227)\n",
        "        # The image in the original paper states that width and height are 224 pixels, but\n",
        "        # the dimensions after first convolution layer do not lead to 55 x 55.\n",
        "        self.net = nn.Sequential(\n",
        "            nn.Conv2d(in_channels=3, out_channels=96, kernel_size=11, stride=4),  # (b x 96 x 55 x 55)\n",
        "            nn.ReLU(),\n",
        "            nn.LocalResponseNorm(size=5, alpha=0.0001, beta=0.75, k=2),  # section 3.3\n",
        "            nn.MaxPool2d(kernel_size=3, stride=2),  # (b x 96 x 27 x 27)\n",
        "            nn.Conv2d(96, 256, 5, padding=2),  # (b x 256 x 27 x 27)\n",
        "            nn.ReLU(),\n",
        "            nn.LocalResponseNorm(size=5, alpha=0.0001, beta=0.75, k=2),\n",
        "            nn.MaxPool2d(kernel_size=3, stride=2),  # (b x 256 x 13 x 13)\n",
        "            nn.Conv2d(256, 384, 3, padding=1),  # (b x 384 x 13 x 13)\n",
        "            nn.ReLU(),\n",
        "            nn.Conv2d(384, 384, 3, padding=1),  # (b x 384 x 13 x 13)\n",
        "            nn.ReLU(),\n",
        "            nn.Conv2d(384, 256, 3, padding=1),  # (b x 256 x 13 x 13)\n",
        "            nn.ReLU(),\n",
        "            nn.MaxPool2d(kernel_size=3, stride=2),  # (b x 256 x 6 x 6)\n",
        "        )\n",
        "        # classifier is just a name for linear layers\n",
        "        self.classifier = nn.Sequential(\n",
        "            nn.Dropout(p=0.5, inplace=True),\n",
        "            nn.Linear(in_features=(256 * 6 * 6), out_features=4096),\n",
        "            nn.ReLU(),\n",
        "            nn.Dropout(p=0.5, inplace=True),\n",
        "            nn.Linear(in_features=4096, out_features=4096),\n",
        "            nn.ReLU(),\n",
        "            nn.Linear(in_features=4096, out_features=num_classes),\n",
        "        )\n",
        "        self.init_bias()  # initialize bias\n",
        "\n",
        "    def init_bias(self):\n",
        "        for layer in self.net:\n",
        "            if isinstance(layer, nn.Conv2d):\n",
        "                nn.init.normal_(layer.weight, mean=0, std=0.01)\n",
        "                nn.init.constant_(layer.bias, 0)\n",
        "        # original paper = 1 for Conv2d layers 2nd, 4th, and 5th conv layers\n",
        "        nn.init.constant_(self.net[4].bias, 1)\n",
        "        nn.init.constant_(self.net[10].bias, 1)\n",
        "        nn.init.constant_(self.net[12].bias, 1)\n",
        "\n",
        "    def forward(self, x):\n",
        "        \"\"\"\n",
        "        Pass the input through the net.\n",
        "        Args:\n",
        "            x (Tensor): input tensor\n",
        "        Returns:\n",
        "            output (Tensor): output tensor\n",
        "        \"\"\"\n",
        "        x = self.net(x)\n",
        "        x = x.view(-1, 256 * 6 * 6)  # reduce the dimensions for linear layer input\n",
        "        return self.classifier(x)\n",
        "alexnet = AlexNet()"
      ],
      "execution_count": null,
      "outputs": []
    },
    {
      "cell_type": "code",
      "metadata": {
        "colab": {
          "base_uri": "https://localhost:8080/",
          "height": 82,
          "referenced_widgets": [
            "b8cf710231784df0abe571e410e19f6f",
            "1bae0310d9ac4db39206044229ad1ea5",
            "6908a2a42f9942dfb274a6012c1ececf",
            "dfd85d4ad0c141098881ff193179d9c0",
            "60dd7dfb2fa34bbf9b718ccf29445e60",
            "d02761208d1f44498a5ddbf6e48d1156",
            "39d4dd8f0440428b993fd0e1d76fe65f",
            "b26cb0b31e85486f870281944c08d5a4",
            "32f32a733ea84f6b894b266da2b52d9d",
            "f1cf6ef62651498fb838619f28f85c1f",
            "a5e9cf0b96bb4618811035e24d8787e1"
          ]
        },
        "id": "sZzZIhWC0JCm",
        "outputId": "60b604d5-7239-404f-e34b-93f4223d83fc"
      },
      "source": [
        "#@title MobileNetV2\n",
        "torch.hub._validate_not_a_forked_repo=lambda a,b,c: True\n",
        "model = torch.hub.load('pytorch/vision:v0.10.0', 'mobilenet_v2', pretrained=True)\n",
        "model.classifier = nn.Sequential(\n",
        "    nn.Dropout(p=0.2, inplace=False),\n",
        "    nn.Linear(in_features=1280, out_features = 2)\n",
        ")"
      ],
      "execution_count": 15,
      "outputs": [
        {
          "output_type": "stream",
          "name": "stderr",
          "text": [
            "Downloading: \"https://github.com/pytorch/vision/archive/v0.10.0.zip\" to /root/.cache/torch/hub/v0.10.0.zip\n",
            "Downloading: \"https://download.pytorch.org/models/mobilenet_v2-b0353104.pth\" to /root/.cache/torch/hub/checkpoints/mobilenet_v2-b0353104.pth\n"
          ]
        },
        {
          "output_type": "display_data",
          "data": {
            "application/vnd.jupyter.widget-view+json": {
              "model_id": "b8cf710231784df0abe571e410e19f6f",
              "version_minor": 0,
              "version_major": 2
            },
            "text/plain": [
              "  0%|          | 0.00/13.6M [00:00<?, ?B/s]"
            ]
          },
          "metadata": {}
        }
      ]
    },
    {
      "cell_type": "code",
      "metadata": {
        "id": "rjiaRU7izpem"
      },
      "source": [
        "NAME = f\"MobileNetV2turns\"\n",
        "LR = 0.001\n",
        "\n",
        "# model.load_state_dict(torch.load(f\"/content/drive/MyDrive/speedata/workspace/models/{NAME}.pth\"))\n",
        "\n",
        "for layer in model.modules():\n",
        "  if isinstance(layer, nn.BatchNorm2d):\n",
        "    layer.float()\n",
        "model.half()"
      ],
      "execution_count": null,
      "outputs": []
    },
    {
      "cell_type": "code",
      "metadata": {
        "id": "lcotW3IhNmar",
        "colab": {
          "base_uri": "https://localhost:8080/",
          "height": 116,
          "referenced_widgets": [
            "889136c76eb740fc95f3470983e31598",
            "960d31eb30b644d5b019f612e92f9bf7",
            "24850aefdc304ddabc31891b6fb18bcc",
            "cdd919828ead422999b1e61e6b065870",
            "cd7a0c39b483435e96b5ed1cdb482175",
            "862b618e789b4b6e9b059096e7684688",
            "a374437e0091479cb89cee89475f4a97",
            "ceae5bdad7c54b91a8aa71ded1d47ebd",
            "7725cff6e2264851847630aa177c5d5d",
            "1d862c3cd5664b09bf3692c04aa39c50",
            "7cd0c34c3bc342d98d66ba334deacc22"
          ]
        },
        "outputId": "e4559d68-5e46-4bd4-d446-4f78dbd2f2a7"
      },
      "source": [
        "done = False\n",
        "\n",
        "model = model.to(device)\n",
        "\n",
        "print(f\"{NAME} INITIALIZED\")\n",
        "send().msg(f\"{NAME} INITIALIZED\")\n",
        "\n",
        "loss_func = nn.CrossEntropyLoss()\n",
        "optimizer = optim.SGD(model.parameters(), lr=LR, momentum=0.9)\n",
        "\n",
        "train_loss_vals = []\n",
        "train_accuracy_vals = []\n",
        "test_loss_vals = []\n",
        "test_accuracy_vals = []\n",
        "\n",
        "start = time.time()\n",
        "for ep in range(EPOCH):\n",
        "  messages = ''\n",
        "\n",
        "  print(f\"Epoch: {ep+1}/{EPOCH}\\nLR: {optimizer.param_groups[0]['lr']}\")\n",
        "  messages += f\"\\nEpoch: {ep+1}/{EPOCH}\\nLR: {optimizer.param_groups[0]['lr']}\" # for telegram\n",
        "\n",
        "  vals = epoch(model, dataloader[\"TEST\"], dataloader[\"TRAIN\"], loss_func, optimizer, device)\n",
        "  train_loss_vals.append(vals[0])\n",
        "  train_accuracy_vals.append(vals[1])\n",
        "  test_loss_vals.append(vals[2])\n",
        "  test_accuracy_vals.append(vals[3])\n",
        "\n",
        "  print(f\"Test Loss: {test_loss_vals[-1]:.3f} Test Accuracy: {test_accuracy_vals[-1]:.3f}\")\n",
        "  print(f\"Train Loss: {train_loss_vals[-1]:.3f} Train Accuracy: {train_accuracy_vals[-1]:.3f}\")\n",
        "  messages += f\"\\nTest Loss: {test_loss_vals[-1]:.3f} Test Accuracy: {test_accuracy_vals[-1]:.3f}\" # for telegram\n",
        "  messages += f\"\\nTrain Loss: {train_loss_vals[-1]:.3f} Train Accuracy: {train_accuracy_vals[-1]:.3f}\"\n",
        "  print(f\"Time: {(time.time()-start)/60:.2f} min(s)\")\n",
        "  messages += f\"\\nTime elapsed: {(time.time()-start)/60:.2f} min(s)\" # for telegram\n",
        "  \n",
        "  if len(test_loss_vals)>2:\n",
        "    if all(x > test_loss_vals[-1] for x in test_loss_vals[:-1]):\n",
        "      model_name = os.path.join(FOLDERS[\"MODELS\"],f\"{NAME}.pth\")\n",
        "      \n",
        "      print(f\"Improvement detected. Saving the model\\n\")\n",
        "      messages += f\"\\nImprovement detected. Saving the model\" # for telegram\n",
        "\n",
        "      torch.save(model.state_dict(),model_name)\n",
        "  fig, a = plt.subplots(2,2, squeeze=False, figsize=(14,7))\n",
        "  a[0][0].plot(train_loss_vals)\n",
        "  a[0][0].set_title(\"Train Loss\")\n",
        "  a[0][0].grid(True)\n",
        "  a[0][1].plot(train_accuracy_vals)\n",
        "  a[0][1].set_title(\"Train accuracy\")\n",
        "  a[0][1].grid(True)\n",
        "  a[1][0].plot(test_loss_vals)\n",
        "  a[1][0].set_title(\"Test loss\")\n",
        "  a[1][0].grid(True)\n",
        "  a[1][1].plot(test_accuracy_vals)\n",
        "  a[1][1].set_title(\"Test accuracy\")\n",
        "  a[1][1].grid(True)\n",
        "  fig.suptitle(f\"{NAME} {BATCH}/batch, {EPOCH} Epochs, LR: {str(optimizer.param_groups[0]['lr']).replace('0.','')}\\n\")\n",
        "  # plt.show()\n",
        "  if ep>2:\n",
        "    performanceplot = f\"PERFORMANCE.jpg\"\n",
        "    fig.savefig(performanceplot)\n",
        "    send().pic(performanceplot)\n",
        "  send().msg(messages)\n",
        "  send().msg('———————————————————————')\n",
        "\n",
        "print(f\"Total time taken to train for {EPOCH} epochs on {NAME}: {(time.time()-start)/60:.2f} min(s)\")\n",
        "send().msg(f\"Total time taken to train for {EPOCH} epochs {NAME}: {(time.time()-start)/60:.2f} min(s)\")\n",
        "print(f\"{max(train_accuracy_vals)*100:.2f}% highest train accuracy at {train_accuracy_vals.index(max(train_accuracy_vals))} epoch and {max(test_accuracy_vals)*100:.2f}% highest test accuracy at {test_accuracy_vals.index(max(test_accuracy_vals))} epoch\")\n",
        "send().msg(f\"{max(train_accuracy_vals)*100:.2f}% highest train accuracy at {train_accuracy_vals.index(max(train_accuracy_vals))} epoch and {max(test_accuracy_vals)*100:.2f}% highest test accuracy at {test_accuracy_vals.index(max(test_accuracy_vals))} epoch\")\n",
        "done = True"
      ],
      "execution_count": null,
      "outputs": [
        {
          "output_type": "stream",
          "name": "stdout",
          "text": [
            "MobileNetV2turns INITIALIZED\n",
            "Epoch: 1/15\n",
            "LR: 0.001\n",
            "\t\tTraining the Neural Network\n"
          ]
        },
        {
          "output_type": "display_data",
          "data": {
            "application/vnd.jupyter.widget-view+json": {
              "model_id": "889136c76eb740fc95f3470983e31598",
              "version_minor": 0,
              "version_major": 2
            },
            "text/plain": [
              "  0%|          | 0/873 [00:00<?, ?it/s]"
            ]
          },
          "metadata": {}
        }
      ]
    },
    {
      "cell_type": "code",
      "metadata": {
        "id": "Fg8bNpYhR2E4"
      },
      "source": [
        "fig, a = plt.subplots(2,2, squeeze=False, figsize=(14,7))\n",
        "a[0][0].plot(train_loss_vals)\n",
        "a[0][0].set_title(\"Train Loss\")\n",
        "a[0][0].grid(True)\n",
        "a[0][1].plot(train_accuracy_vals)\n",
        "a[0][1].set_title(\"Train accuracy\")\n",
        "a[0][1].grid(True)\n",
        "a[1][0].plot(test_loss_vals)\n",
        "a[1][0].set_title(\"Test loss\")\n",
        "a[1][0].grid(True)\n",
        "a[1][1].plot(test_accuracy_vals)\n",
        "a[1][1].set_title(\"Test accuracy\")\n",
        "a[1][1].grid(True)\n",
        "fig.suptitle(f\"RESNET18 {BATCH}/batch, {EPOCH} Epochs, LR: {str(optimizer.param_groups[0]['lr']).replace('0.','')}\\n\")\n",
        "plt.show()\n",
        "performanceplot = f\"{FOLDERS['PERFORMANCE']}/{NAME}.jpg\"\n",
        "fig.savefig(performanceplot)\n",
        "send().pic(performanceplot)"
      ],
      "execution_count": null,
      "outputs": []
    },
    {
      "cell_type": "code",
      "metadata": {
        "id": "2azNA-n62vi2"
      },
      "source": [
        "%reset"
      ],
      "execution_count": null,
      "outputs": []
    }
  ]
}