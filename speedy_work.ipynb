{
  "nbformat": 4,
  "nbformat_minor": 0,
  "metadata": {
    "colab": {
      "name": "speedy work.ipynb",
      "provenance": [],
      "mount_file_id": "10nguMwR3pbHYlLfE-Uh70vLFLOA9lCYS",
      "authorship_tag": "ABX9TyPrL1akbzxd0LVFToGWGYIB",
      "include_colab_link": true
    },
    "kernelspec": {
      "name": "python3",
      "display_name": "Python 3"
    },
    "language_info": {
      "name": "python"
    },
    "accelerator": "GPU"
  },
  "cells": [
    {
      "cell_type": "markdown",
      "metadata": {
        "id": "view-in-github",
        "colab_type": "text"
      },
      "source": [
        "<a href=\"https://colab.research.google.com/github/insaiyancvk/speedyblackman/blob/main/speedy_work.ipynb\" target=\"_parent\"><img src=\"https://colab.research.google.com/assets/colab-badge.svg\" alt=\"Open In Colab\"/></a>"
      ]
    },
    {
      "cell_type": "markdown",
      "metadata": {
        "id": "4UjHGrv6t_tj"
      },
      "source": [
        "## Starting with Left/Right work"
      ]
    },
    {
      "cell_type": "code",
      "metadata": {
        "colab": {
          "base_uri": "https://localhost:8080/"
        },
        "id": "C0Nm05DdZax3",
        "outputId": "325669ec-12e0-4d1e-836c-0c51c5fa4c2e"
      },
      "source": [
        "from google.colab import drive\n",
        "drive.mount('/content/drive')\n",
        "from IPython.display import Image\n",
        "from PIL import Image\n",
        "import os"
      ],
      "execution_count": 1,
      "outputs": [
        {
          "output_type": "stream",
          "name": "stdout",
          "text": [
            "Drive already mounted at /content/drive; to attempt to forcibly remount, call drive.mount(\"/content/drive\", force_remount=True).\n"
          ]
        }
      ]
    },
    {
      "cell_type": "code",
      "metadata": {
        "id": "HKryQziRUVqh"
      },
      "source": [
        "# path to set 2 dataset\n",
        "data = \"/content/drive/MyDrive/speedata/set2fixed.zip\""
      ],
      "execution_count": 2,
      "outputs": []
    },
    {
      "cell_type": "code",
      "metadata": {
        "id": "4HtFEr3ruIip",
        "colab": {
          "base_uri": "https://localhost:8080/"
        },
        "outputId": "2cf16a26-0365-4f67-c995-8b1386b046fb"
      },
      "source": [
        "# copy the dataset to the RAM\n",
        "# !mkdir /content/set2\n",
        "# !zip -FF $data --out /content/set2.zip\n",
        "# !unzip $data -d /content/\n",
        "!cp /content/set2/ /content/drive/MyDrive/speedata/"
      ],
      "execution_count": 60,
      "outputs": [
        {
          "output_type": "stream",
          "name": "stdout",
          "text": [
            "cp: -r not specified; omitting directory '/content/set2/'\n"
          ]
        }
      ]
    },
    {
      "cell_type": "code",
      "metadata": {
        "id": "n3-jLooRd5AP"
      },
      "source": [
        "def cropper(path):\n",
        "  im = Image.open(path)\n",
        "  im = im.crop((0,0,1920,920))\n",
        "  im.save(path)\n",
        "  del im"
      ],
      "execution_count": 5,
      "outputs": []
    },
    {
      "cell_type": "code",
      "metadata": {
        "id": "E87pwdn9gtpS"
      },
      "source": [
        "paths = {\n",
        "    'a':[],\n",
        "    'd':[]\n",
        "    }"
      ],
      "execution_count": 21,
      "outputs": []
    },
    {
      "cell_type": "code",
      "metadata": {
        "id": "PqY7pw8Hg0c9"
      },
      "source": [
        "paths['a'] += os.listdir('set2/a/')\n",
        "paths['d'] += os.listdir('set2/d/')"
      ],
      "execution_count": 28,
      "outputs": []
    },
    {
      "cell_type": "code",
      "metadata": {
        "id": "LOEfeC6U6dZy"
      },
      "source": [
        "base_path_a = '/content/set2/a/'\n",
        "base_path_d = '/content/set2/d/'"
      ],
      "execution_count": 34,
      "outputs": []
    },
    {
      "cell_type": "code",
      "metadata": {
        "id": "_Temuu8N71z7"
      },
      "source": [
        "!pip install -q python-telegram-bot\n",
        "import telegram"
      ],
      "execution_count": null,
      "outputs": []
    },
    {
      "cell_type": "code",
      "metadata": {
        "id": "B54mribc88Fn"
      },
      "source": [
        "import json"
      ],
      "execution_count": 38,
      "outputs": []
    },
    {
      "cell_type": "code",
      "metadata": {
        "id": "56WwgEYv76sC"
      },
      "source": [
        "class send(): \n",
        "\n",
        "  def __init__(self):\n",
        "    f = open ('/content/drive/MyDrive/tel.json', 'r')\n",
        "    self.tel = json.load(f)\n",
        "    f.close()\n",
        "    self.bot = telegram.Bot(token=self.tel['token']) \n",
        "\n",
        "  def msg(self, mesg):\n",
        "    self.bot.sendMessage(chat_id=self.tel['nnboiid'], text=mesg)\n",
        "\n",
        "  def pic(self, path):\n",
        "    self.bot.sendPhoto(chat_id=self.tel['nnboiid'], photo=open(path, 'rb'))"
      ],
      "execution_count": 36,
      "outputs": []
    },
    {
      "cell_type": "code",
      "metadata": {
        "id": "Dgr2sGxp8l2t"
      },
      "source": [
        "bot = send()"
      ],
      "execution_count": 39,
      "outputs": []
    },
    {
      "cell_type": "code",
      "metadata": {
        "id": "mqkBwka_6kFx"
      },
      "source": [
        "for value in paths['a']:\n",
        "  cropper(base_path_a+value)\n",
        "bot.msg('Completed cropping in a')\n",
        "for value in paths['d']:\n",
        "  cropper(base_path_d+value)\n",
        "bot.msg('Completed cropping in d')"
      ],
      "execution_count": null,
      "outputs": []
    },
    {
      "cell_type": "code",
      "metadata": {
        "id": "ewgvAutfHOQU"
      },
      "source": [
        "cim = Image.open(base_path_a+paths['a'][1000])"
      ],
      "execution_count": 44,
      "outputs": []
    },
    {
      "cell_type": "code",
      "metadata": {
        "id": "uOGHoBYZSi5g"
      },
      "source": [
        "cim.show()"
      ],
      "execution_count": 45,
      "outputs": []
    },
    {
      "cell_type": "code",
      "metadata": {
        "id": "LamUYqg3TIQY"
      },
      "source": [
        "import cv2"
      ],
      "execution_count": null,
      "outputs": []
    },
    {
      "cell_type": "code",
      "metadata": {
        "id": "9NcsXrpHTDk2"
      },
      "source": [
        "from google.colab.patches import cv2_imshow"
      ],
      "execution_count": 52,
      "outputs": []
    },
    {
      "cell_type": "code",
      "metadata": {
        "id": "8AMFIh_WSjz4"
      },
      "source": [
        "img = cv2.imread(base_path_d+paths['d'][10000])"
      ],
      "execution_count": 58,
      "outputs": []
    },
    {
      "cell_type": "code",
      "metadata": {
        "id": "RQ3x3wcfSlMg"
      },
      "source": [
        "cv2_imshow(img)"
      ],
      "execution_count": null,
      "outputs": []
    },
    {
      "cell_type": "code",
      "metadata": {
        "id": "hUXiSkRMS8w4"
      },
      "source": [
        "import shutil"
      ],
      "execution_count": 1,
      "outputs": []
    },
    {
      "cell_type": "code",
      "metadata": {
        "colab": {
          "base_uri": "https://localhost:8080/",
          "height": 162
        },
        "id": "AUIzZD7SUiBj",
        "outputId": "cf88a595-05c9-4d6f-ce2f-3157da55f8f2"
      },
      "source": [
        "bot.msg(\"DONE\")"
      ],
      "execution_count": 2,
      "outputs": [
        {
          "output_type": "error",
          "ename": "NameError",
          "evalue": "ignored",
          "traceback": [
            "\u001b[0;31m---------------------------------------------------------------------------\u001b[0m",
            "\u001b[0;31mNameError\u001b[0m                                 Traceback (most recent call last)",
            "\u001b[0;32m<ipython-input-2-b850a430ff5d>\u001b[0m in \u001b[0;36m<module>\u001b[0;34m()\u001b[0m\n\u001b[0;32m----> 1\u001b[0;31m \u001b[0mbot\u001b[0m\u001b[0;34m.\u001b[0m\u001b[0mmsg\u001b[0m\u001b[0;34m(\u001b[0m\u001b[0;34m\"DONE\"\u001b[0m\u001b[0;34m)\u001b[0m\u001b[0;34m\u001b[0m\u001b[0;34m\u001b[0m\u001b[0m\n\u001b[0m",
            "\u001b[0;31mNameError\u001b[0m: name 'bot' is not defined"
          ]
        }
      ]
    },
    {
      "cell_type": "code",
      "metadata": {
        "id": "9HFyeUI0T86P"
      },
      "source": [
        "shutil.make_archive()"
      ],
      "execution_count": null,
      "outputs": []
    }
  ]
}