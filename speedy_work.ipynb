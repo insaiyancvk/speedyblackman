{
  "nbformat": 4,
  "nbformat_minor": 0,
  "metadata": {
    "colab": {
      "name": "speedy work.ipynb",
      "provenance": [],
      "collapsed_sections": [],
      "machine_shape": "hm",
      "include_colab_link": true
    },
    "kernelspec": {
      "name": "python3",
      "display_name": "Python 3"
    },
    "language_info": {
      "name": "python"
    },
    "widgets": {
      "application/vnd.jupyter.widget-state+json": {
        "1fec727c2c1046e2bef525c24fb7772d": {
          "model_module": "@jupyter-widgets/controls",
          "model_name": "HBoxModel",
          "model_module_version": "1.5.0",
          "state": {
            "_view_name": "HBoxView",
            "_dom_classes": [],
            "_model_name": "HBoxModel",
            "_view_module": "@jupyter-widgets/controls",
            "_model_module_version": "1.5.0",
            "_view_count": null,
            "_view_module_version": "1.5.0",
            "box_style": "",
            "layout": "IPY_MODEL_eb257be4835048798a11a55b01967c57",
            "_model_module": "@jupyter-widgets/controls",
            "children": [
              "IPY_MODEL_02abadf556e84d0a9d906c86772cdcdb",
              "IPY_MODEL_44b96f3a5e7e4a4a842ee6956554d15a",
              "IPY_MODEL_0090074147314355bf1488981de928db"
            ]
          }
        },
        "eb257be4835048798a11a55b01967c57": {
          "model_module": "@jupyter-widgets/base",
          "model_name": "LayoutModel",
          "model_module_version": "1.2.0",
          "state": {
            "_view_name": "LayoutView",
            "grid_template_rows": null,
            "right": null,
            "justify_content": null,
            "_view_module": "@jupyter-widgets/base",
            "overflow": null,
            "_model_module_version": "1.2.0",
            "_view_count": null,
            "flex_flow": null,
            "width": null,
            "min_width": null,
            "border": null,
            "align_items": null,
            "bottom": null,
            "_model_module": "@jupyter-widgets/base",
            "top": null,
            "grid_column": null,
            "overflow_y": null,
            "overflow_x": null,
            "grid_auto_flow": null,
            "grid_area": null,
            "grid_template_columns": null,
            "flex": null,
            "_model_name": "LayoutModel",
            "justify_items": null,
            "grid_row": null,
            "max_height": null,
            "align_content": null,
            "visibility": null,
            "align_self": null,
            "height": null,
            "min_height": null,
            "padding": null,
            "grid_auto_rows": null,
            "grid_gap": null,
            "max_width": null,
            "order": null,
            "_view_module_version": "1.2.0",
            "grid_template_areas": null,
            "object_position": null,
            "object_fit": null,
            "grid_auto_columns": null,
            "margin": null,
            "display": null,
            "left": null
          }
        },
        "02abadf556e84d0a9d906c86772cdcdb": {
          "model_module": "@jupyter-widgets/controls",
          "model_name": "HTMLModel",
          "model_module_version": "1.5.0",
          "state": {
            "_view_name": "HTMLView",
            "style": "IPY_MODEL_ad5ac623adbb48aba085ee0293757db1",
            "_dom_classes": [],
            "description": "",
            "_model_name": "HTMLModel",
            "placeholder": "​",
            "_view_module": "@jupyter-widgets/controls",
            "_model_module_version": "1.5.0",
            "value": "Extracting: 100%",
            "_view_count": null,
            "_view_module_version": "1.5.0",
            "description_tooltip": null,
            "_model_module": "@jupyter-widgets/controls",
            "layout": "IPY_MODEL_6cc4711914bb43c0b04fa8e597669854"
          }
        },
        "44b96f3a5e7e4a4a842ee6956554d15a": {
          "model_module": "@jupyter-widgets/controls",
          "model_name": "FloatProgressModel",
          "model_module_version": "1.5.0",
          "state": {
            "_view_name": "ProgressView",
            "style": "IPY_MODEL_e85ca9720c5c4e4eb478866c369052dd",
            "_dom_classes": [],
            "description": "",
            "_model_name": "FloatProgressModel",
            "bar_style": "success",
            "max": 34916,
            "_view_module": "@jupyter-widgets/controls",
            "_model_module_version": "1.5.0",
            "value": 34916,
            "_view_count": null,
            "_view_module_version": "1.5.0",
            "orientation": "horizontal",
            "min": 0,
            "description_tooltip": null,
            "_model_module": "@jupyter-widgets/controls",
            "layout": "IPY_MODEL_0bc74e2534854d97817b392efba3bb08"
          }
        },
        "0090074147314355bf1488981de928db": {
          "model_module": "@jupyter-widgets/controls",
          "model_name": "HTMLModel",
          "model_module_version": "1.5.0",
          "state": {
            "_view_name": "HTMLView",
            "style": "IPY_MODEL_1bb9c8e712174643bc7f85a2e596e378",
            "_dom_classes": [],
            "description": "",
            "_model_name": "HTMLModel",
            "placeholder": "​",
            "_view_module": "@jupyter-widgets/controls",
            "_model_module_version": "1.5.0",
            "value": " 34916/34916 [01:22&lt;00:00, 360.36it/s]",
            "_view_count": null,
            "_view_module_version": "1.5.0",
            "description_tooltip": null,
            "_model_module": "@jupyter-widgets/controls",
            "layout": "IPY_MODEL_f4323ce66b9c4438a5cb3d4d92a7b57b"
          }
        },
        "ad5ac623adbb48aba085ee0293757db1": {
          "model_module": "@jupyter-widgets/controls",
          "model_name": "DescriptionStyleModel",
          "model_module_version": "1.5.0",
          "state": {
            "_view_name": "StyleView",
            "_model_name": "DescriptionStyleModel",
            "description_width": "",
            "_view_module": "@jupyter-widgets/base",
            "_model_module_version": "1.5.0",
            "_view_count": null,
            "_view_module_version": "1.2.0",
            "_model_module": "@jupyter-widgets/controls"
          }
        },
        "6cc4711914bb43c0b04fa8e597669854": {
          "model_module": "@jupyter-widgets/base",
          "model_name": "LayoutModel",
          "model_module_version": "1.2.0",
          "state": {
            "_view_name": "LayoutView",
            "grid_template_rows": null,
            "right": null,
            "justify_content": null,
            "_view_module": "@jupyter-widgets/base",
            "overflow": null,
            "_model_module_version": "1.2.0",
            "_view_count": null,
            "flex_flow": null,
            "width": null,
            "min_width": null,
            "border": null,
            "align_items": null,
            "bottom": null,
            "_model_module": "@jupyter-widgets/base",
            "top": null,
            "grid_column": null,
            "overflow_y": null,
            "overflow_x": null,
            "grid_auto_flow": null,
            "grid_area": null,
            "grid_template_columns": null,
            "flex": null,
            "_model_name": "LayoutModel",
            "justify_items": null,
            "grid_row": null,
            "max_height": null,
            "align_content": null,
            "visibility": null,
            "align_self": null,
            "height": null,
            "min_height": null,
            "padding": null,
            "grid_auto_rows": null,
            "grid_gap": null,
            "max_width": null,
            "order": null,
            "_view_module_version": "1.2.0",
            "grid_template_areas": null,
            "object_position": null,
            "object_fit": null,
            "grid_auto_columns": null,
            "margin": null,
            "display": null,
            "left": null
          }
        },
        "e85ca9720c5c4e4eb478866c369052dd": {
          "model_module": "@jupyter-widgets/controls",
          "model_name": "ProgressStyleModel",
          "model_module_version": "1.5.0",
          "state": {
            "_view_name": "StyleView",
            "_model_name": "ProgressStyleModel",
            "description_width": "",
            "_view_module": "@jupyter-widgets/base",
            "_model_module_version": "1.5.0",
            "_view_count": null,
            "_view_module_version": "1.2.0",
            "bar_color": null,
            "_model_module": "@jupyter-widgets/controls"
          }
        },
        "0bc74e2534854d97817b392efba3bb08": {
          "model_module": "@jupyter-widgets/base",
          "model_name": "LayoutModel",
          "model_module_version": "1.2.0",
          "state": {
            "_view_name": "LayoutView",
            "grid_template_rows": null,
            "right": null,
            "justify_content": null,
            "_view_module": "@jupyter-widgets/base",
            "overflow": null,
            "_model_module_version": "1.2.0",
            "_view_count": null,
            "flex_flow": null,
            "width": null,
            "min_width": null,
            "border": null,
            "align_items": null,
            "bottom": null,
            "_model_module": "@jupyter-widgets/base",
            "top": null,
            "grid_column": null,
            "overflow_y": null,
            "overflow_x": null,
            "grid_auto_flow": null,
            "grid_area": null,
            "grid_template_columns": null,
            "flex": null,
            "_model_name": "LayoutModel",
            "justify_items": null,
            "grid_row": null,
            "max_height": null,
            "align_content": null,
            "visibility": null,
            "align_self": null,
            "height": null,
            "min_height": null,
            "padding": null,
            "grid_auto_rows": null,
            "grid_gap": null,
            "max_width": null,
            "order": null,
            "_view_module_version": "1.2.0",
            "grid_template_areas": null,
            "object_position": null,
            "object_fit": null,
            "grid_auto_columns": null,
            "margin": null,
            "display": null,
            "left": null
          }
        },
        "1bb9c8e712174643bc7f85a2e596e378": {
          "model_module": "@jupyter-widgets/controls",
          "model_name": "DescriptionStyleModel",
          "model_module_version": "1.5.0",
          "state": {
            "_view_name": "StyleView",
            "_model_name": "DescriptionStyleModel",
            "description_width": "",
            "_view_module": "@jupyter-widgets/base",
            "_model_module_version": "1.5.0",
            "_view_count": null,
            "_view_module_version": "1.2.0",
            "_model_module": "@jupyter-widgets/controls"
          }
        },
        "f4323ce66b9c4438a5cb3d4d92a7b57b": {
          "model_module": "@jupyter-widgets/base",
          "model_name": "LayoutModel",
          "model_module_version": "1.2.0",
          "state": {
            "_view_name": "LayoutView",
            "grid_template_rows": null,
            "right": null,
            "justify_content": null,
            "_view_module": "@jupyter-widgets/base",
            "overflow": null,
            "_model_module_version": "1.2.0",
            "_view_count": null,
            "flex_flow": null,
            "width": null,
            "min_width": null,
            "border": null,
            "align_items": null,
            "bottom": null,
            "_model_module": "@jupyter-widgets/base",
            "top": null,
            "grid_column": null,
            "overflow_y": null,
            "overflow_x": null,
            "grid_auto_flow": null,
            "grid_area": null,
            "grid_template_columns": null,
            "flex": null,
            "_model_name": "LayoutModel",
            "justify_items": null,
            "grid_row": null,
            "max_height": null,
            "align_content": null,
            "visibility": null,
            "align_self": null,
            "height": null,
            "min_height": null,
            "padding": null,
            "grid_auto_rows": null,
            "grid_gap": null,
            "max_width": null,
            "order": null,
            "_view_module_version": "1.2.0",
            "grid_template_areas": null,
            "object_position": null,
            "object_fit": null,
            "grid_auto_columns": null,
            "margin": null,
            "display": null,
            "left": null
          }
        },
        "c31c80f2565f4ba7a0984d85432e60c1": {
          "model_module": "@jupyter-widgets/controls",
          "model_name": "HBoxModel",
          "model_module_version": "1.5.0",
          "state": {
            "_view_name": "HBoxView",
            "_dom_classes": [],
            "_model_name": "HBoxModel",
            "_view_module": "@jupyter-widgets/controls",
            "_model_module_version": "1.5.0",
            "_view_count": null,
            "_view_module_version": "1.5.0",
            "box_style": "",
            "layout": "IPY_MODEL_e601c5f795504da3b84f9eda999fa0d2",
            "_model_module": "@jupyter-widgets/controls",
            "children": [
              "IPY_MODEL_c425fe46078e425bb69fabd40598b8c5",
              "IPY_MODEL_c9342a2140d04b24b1249cb63a450532",
              "IPY_MODEL_be4c6c2a966945478d0407be11f9f1b1"
            ]
          }
        },
        "e601c5f795504da3b84f9eda999fa0d2": {
          "model_module": "@jupyter-widgets/base",
          "model_name": "LayoutModel",
          "model_module_version": "1.2.0",
          "state": {
            "_view_name": "LayoutView",
            "grid_template_rows": null,
            "right": null,
            "justify_content": null,
            "_view_module": "@jupyter-widgets/base",
            "overflow": null,
            "_model_module_version": "1.2.0",
            "_view_count": null,
            "flex_flow": null,
            "width": null,
            "min_width": null,
            "border": null,
            "align_items": null,
            "bottom": null,
            "_model_module": "@jupyter-widgets/base",
            "top": null,
            "grid_column": null,
            "overflow_y": null,
            "overflow_x": null,
            "grid_auto_flow": null,
            "grid_area": null,
            "grid_template_columns": null,
            "flex": null,
            "_model_name": "LayoutModel",
            "justify_items": null,
            "grid_row": null,
            "max_height": null,
            "align_content": null,
            "visibility": null,
            "align_self": null,
            "height": null,
            "min_height": null,
            "padding": null,
            "grid_auto_rows": null,
            "grid_gap": null,
            "max_width": null,
            "order": null,
            "_view_module_version": "1.2.0",
            "grid_template_areas": null,
            "object_position": null,
            "object_fit": null,
            "grid_auto_columns": null,
            "margin": null,
            "display": null,
            "left": null
          }
        },
        "c425fe46078e425bb69fabd40598b8c5": {
          "model_module": "@jupyter-widgets/controls",
          "model_name": "HTMLModel",
          "model_module_version": "1.5.0",
          "state": {
            "_view_name": "HTMLView",
            "style": "IPY_MODEL_7bdeef5d674d4e7db2d649f26e9eee93",
            "_dom_classes": [],
            "description": "",
            "_model_name": "HTMLModel",
            "placeholder": "​",
            "_view_module": "@jupyter-widgets/controls",
            "_model_module_version": "1.5.0",
            "value": "100%",
            "_view_count": null,
            "_view_module_version": "1.5.0",
            "description_tooltip": null,
            "_model_module": "@jupyter-widgets/controls",
            "layout": "IPY_MODEL_30dc6c1768fd44c3a5975156fdaf52c9"
          }
        },
        "c9342a2140d04b24b1249cb63a450532": {
          "model_module": "@jupyter-widgets/controls",
          "model_name": "FloatProgressModel",
          "model_module_version": "1.5.0",
          "state": {
            "_view_name": "ProgressView",
            "style": "IPY_MODEL_1a8fbaf60be94539bb6996329dc35baf",
            "_dom_classes": [],
            "description": "",
            "_model_name": "FloatProgressModel",
            "bar_style": "success",
            "max": 1092,
            "_view_module": "@jupyter-widgets/controls",
            "_model_module_version": "1.5.0",
            "value": 1092,
            "_view_count": null,
            "_view_module_version": "1.5.0",
            "orientation": "horizontal",
            "min": 0,
            "description_tooltip": null,
            "_model_module": "@jupyter-widgets/controls",
            "layout": "IPY_MODEL_4f7d438b19a7476296674a56381591fc"
          }
        },
        "be4c6c2a966945478d0407be11f9f1b1": {
          "model_module": "@jupyter-widgets/controls",
          "model_name": "HTMLModel",
          "model_module_version": "1.5.0",
          "state": {
            "_view_name": "HTMLView",
            "style": "IPY_MODEL_99b9c0ddf64c40b1a19e71b40297ce7a",
            "_dom_classes": [],
            "description": "",
            "_model_name": "HTMLModel",
            "placeholder": "​",
            "_view_module": "@jupyter-widgets/controls",
            "_model_module_version": "1.5.0",
            "value": " 1092/1092 [10:47&lt;00:00,  2.20it/s]",
            "_view_count": null,
            "_view_module_version": "1.5.0",
            "description_tooltip": null,
            "_model_module": "@jupyter-widgets/controls",
            "layout": "IPY_MODEL_e14732dfef83468ba2f8318cacfeb112"
          }
        },
        "7bdeef5d674d4e7db2d649f26e9eee93": {
          "model_module": "@jupyter-widgets/controls",
          "model_name": "DescriptionStyleModel",
          "model_module_version": "1.5.0",
          "state": {
            "_view_name": "StyleView",
            "_model_name": "DescriptionStyleModel",
            "description_width": "",
            "_view_module": "@jupyter-widgets/base",
            "_model_module_version": "1.5.0",
            "_view_count": null,
            "_view_module_version": "1.2.0",
            "_model_module": "@jupyter-widgets/controls"
          }
        },
        "30dc6c1768fd44c3a5975156fdaf52c9": {
          "model_module": "@jupyter-widgets/base",
          "model_name": "LayoutModel",
          "model_module_version": "1.2.0",
          "state": {
            "_view_name": "LayoutView",
            "grid_template_rows": null,
            "right": null,
            "justify_content": null,
            "_view_module": "@jupyter-widgets/base",
            "overflow": null,
            "_model_module_version": "1.2.0",
            "_view_count": null,
            "flex_flow": null,
            "width": null,
            "min_width": null,
            "border": null,
            "align_items": null,
            "bottom": null,
            "_model_module": "@jupyter-widgets/base",
            "top": null,
            "grid_column": null,
            "overflow_y": null,
            "overflow_x": null,
            "grid_auto_flow": null,
            "grid_area": null,
            "grid_template_columns": null,
            "flex": null,
            "_model_name": "LayoutModel",
            "justify_items": null,
            "grid_row": null,
            "max_height": null,
            "align_content": null,
            "visibility": null,
            "align_self": null,
            "height": null,
            "min_height": null,
            "padding": null,
            "grid_auto_rows": null,
            "grid_gap": null,
            "max_width": null,
            "order": null,
            "_view_module_version": "1.2.0",
            "grid_template_areas": null,
            "object_position": null,
            "object_fit": null,
            "grid_auto_columns": null,
            "margin": null,
            "display": null,
            "left": null
          }
        },
        "1a8fbaf60be94539bb6996329dc35baf": {
          "model_module": "@jupyter-widgets/controls",
          "model_name": "ProgressStyleModel",
          "model_module_version": "1.5.0",
          "state": {
            "_view_name": "StyleView",
            "_model_name": "ProgressStyleModel",
            "description_width": "",
            "_view_module": "@jupyter-widgets/base",
            "_model_module_version": "1.5.0",
            "_view_count": null,
            "_view_module_version": "1.2.0",
            "bar_color": null,
            "_model_module": "@jupyter-widgets/controls"
          }
        },
        "4f7d438b19a7476296674a56381591fc": {
          "model_module": "@jupyter-widgets/base",
          "model_name": "LayoutModel",
          "model_module_version": "1.2.0",
          "state": {
            "_view_name": "LayoutView",
            "grid_template_rows": null,
            "right": null,
            "justify_content": null,
            "_view_module": "@jupyter-widgets/base",
            "overflow": null,
            "_model_module_version": "1.2.0",
            "_view_count": null,
            "flex_flow": null,
            "width": null,
            "min_width": null,
            "border": null,
            "align_items": null,
            "bottom": null,
            "_model_module": "@jupyter-widgets/base",
            "top": null,
            "grid_column": null,
            "overflow_y": null,
            "overflow_x": null,
            "grid_auto_flow": null,
            "grid_area": null,
            "grid_template_columns": null,
            "flex": null,
            "_model_name": "LayoutModel",
            "justify_items": null,
            "grid_row": null,
            "max_height": null,
            "align_content": null,
            "visibility": null,
            "align_self": null,
            "height": null,
            "min_height": null,
            "padding": null,
            "grid_auto_rows": null,
            "grid_gap": null,
            "max_width": null,
            "order": null,
            "_view_module_version": "1.2.0",
            "grid_template_areas": null,
            "object_position": null,
            "object_fit": null,
            "grid_auto_columns": null,
            "margin": null,
            "display": null,
            "left": null
          }
        },
        "99b9c0ddf64c40b1a19e71b40297ce7a": {
          "model_module": "@jupyter-widgets/controls",
          "model_name": "DescriptionStyleModel",
          "model_module_version": "1.5.0",
          "state": {
            "_view_name": "StyleView",
            "_model_name": "DescriptionStyleModel",
            "description_width": "",
            "_view_module": "@jupyter-widgets/base",
            "_model_module_version": "1.5.0",
            "_view_count": null,
            "_view_module_version": "1.2.0",
            "_model_module": "@jupyter-widgets/controls"
          }
        },
        "e14732dfef83468ba2f8318cacfeb112": {
          "model_module": "@jupyter-widgets/base",
          "model_name": "LayoutModel",
          "model_module_version": "1.2.0",
          "state": {
            "_view_name": "LayoutView",
            "grid_template_rows": null,
            "right": null,
            "justify_content": null,
            "_view_module": "@jupyter-widgets/base",
            "overflow": null,
            "_model_module_version": "1.2.0",
            "_view_count": null,
            "flex_flow": null,
            "width": null,
            "min_width": null,
            "border": null,
            "align_items": null,
            "bottom": null,
            "_model_module": "@jupyter-widgets/base",
            "top": null,
            "grid_column": null,
            "overflow_y": null,
            "overflow_x": null,
            "grid_auto_flow": null,
            "grid_area": null,
            "grid_template_columns": null,
            "flex": null,
            "_model_name": "LayoutModel",
            "justify_items": null,
            "grid_row": null,
            "max_height": null,
            "align_content": null,
            "visibility": null,
            "align_self": null,
            "height": null,
            "min_height": null,
            "padding": null,
            "grid_auto_rows": null,
            "grid_gap": null,
            "max_width": null,
            "order": null,
            "_view_module_version": "1.2.0",
            "grid_template_areas": null,
            "object_position": null,
            "object_fit": null,
            "grid_auto_columns": null,
            "margin": null,
            "display": null,
            "left": null
          }
        },
        "516f90f05b64471ebaa50f5d97aac2b4": {
          "model_module": "@jupyter-widgets/controls",
          "model_name": "HBoxModel",
          "model_module_version": "1.5.0",
          "state": {
            "_view_name": "HBoxView",
            "_dom_classes": [],
            "_model_name": "HBoxModel",
            "_view_module": "@jupyter-widgets/controls",
            "_model_module_version": "1.5.0",
            "_view_count": null,
            "_view_module_version": "1.5.0",
            "box_style": "",
            "layout": "IPY_MODEL_dea9c127fb794a1cb0ee26328b69e606",
            "_model_module": "@jupyter-widgets/controls",
            "children": [
              "IPY_MODEL_9b408d8f3b3f43809ae629bd85badacc",
              "IPY_MODEL_fd406a3e620a403eab33152314c89991",
              "IPY_MODEL_3930c29f2e8548358becf7d4586d58fb"
            ]
          }
        },
        "dea9c127fb794a1cb0ee26328b69e606": {
          "model_module": "@jupyter-widgets/base",
          "model_name": "LayoutModel",
          "model_module_version": "1.2.0",
          "state": {
            "_view_name": "LayoutView",
            "grid_template_rows": null,
            "right": null,
            "justify_content": null,
            "_view_module": "@jupyter-widgets/base",
            "overflow": null,
            "_model_module_version": "1.2.0",
            "_view_count": null,
            "flex_flow": null,
            "width": null,
            "min_width": null,
            "border": null,
            "align_items": null,
            "bottom": null,
            "_model_module": "@jupyter-widgets/base",
            "top": null,
            "grid_column": null,
            "overflow_y": null,
            "overflow_x": null,
            "grid_auto_flow": null,
            "grid_area": null,
            "grid_template_columns": null,
            "flex": null,
            "_model_name": "LayoutModel",
            "justify_items": null,
            "grid_row": null,
            "max_height": null,
            "align_content": null,
            "visibility": null,
            "align_self": null,
            "height": null,
            "min_height": null,
            "padding": null,
            "grid_auto_rows": null,
            "grid_gap": null,
            "max_width": null,
            "order": null,
            "_view_module_version": "1.2.0",
            "grid_template_areas": null,
            "object_position": null,
            "object_fit": null,
            "grid_auto_columns": null,
            "margin": null,
            "display": null,
            "left": null
          }
        },
        "9b408d8f3b3f43809ae629bd85badacc": {
          "model_module": "@jupyter-widgets/controls",
          "model_name": "HTMLModel",
          "model_module_version": "1.5.0",
          "state": {
            "_view_name": "HTMLView",
            "style": "IPY_MODEL_39583f04b68d41a7aac573c0be24b528",
            "_dom_classes": [],
            "description": "",
            "_model_name": "HTMLModel",
            "placeholder": "​",
            "_view_module": "@jupyter-widgets/controls",
            "_model_module_version": "1.5.0",
            "value": "100%",
            "_view_count": null,
            "_view_module_version": "1.5.0",
            "description_tooltip": null,
            "_model_module": "@jupyter-widgets/controls",
            "layout": "IPY_MODEL_225ce4671b5549009733893cb2ea2891"
          }
        },
        "fd406a3e620a403eab33152314c89991": {
          "model_module": "@jupyter-widgets/controls",
          "model_name": "FloatProgressModel",
          "model_module_version": "1.5.0",
          "state": {
            "_view_name": "ProgressView",
            "style": "IPY_MODEL_3c2d50b234a74dffabb88f5eef38f3ca",
            "_dom_classes": [],
            "description": "",
            "_model_name": "FloatProgressModel",
            "bar_style": "success",
            "max": 1092,
            "_view_module": "@jupyter-widgets/controls",
            "_model_module_version": "1.5.0",
            "value": 1092,
            "_view_count": null,
            "_view_module_version": "1.5.0",
            "orientation": "horizontal",
            "min": 0,
            "description_tooltip": null,
            "_model_module": "@jupyter-widgets/controls",
            "layout": "IPY_MODEL_58cd5ed29d5a492dac876cdd3a10d640"
          }
        },
        "3930c29f2e8548358becf7d4586d58fb": {
          "model_module": "@jupyter-widgets/controls",
          "model_name": "HTMLModel",
          "model_module_version": "1.5.0",
          "state": {
            "_view_name": "HTMLView",
            "style": "IPY_MODEL_6956010bcf954693b05dee11baedcbf4",
            "_dom_classes": [],
            "description": "",
            "_model_name": "HTMLModel",
            "placeholder": "​",
            "_view_module": "@jupyter-widgets/controls",
            "_model_module_version": "1.5.0",
            "value": " 1092/1092 [09:04&lt;00:00,  2.02it/s]",
            "_view_count": null,
            "_view_module_version": "1.5.0",
            "description_tooltip": null,
            "_model_module": "@jupyter-widgets/controls",
            "layout": "IPY_MODEL_8beeacb0ed3a4a5f8a78367ce28beec9"
          }
        },
        "39583f04b68d41a7aac573c0be24b528": {
          "model_module": "@jupyter-widgets/controls",
          "model_name": "DescriptionStyleModel",
          "model_module_version": "1.5.0",
          "state": {
            "_view_name": "StyleView",
            "_model_name": "DescriptionStyleModel",
            "description_width": "",
            "_view_module": "@jupyter-widgets/base",
            "_model_module_version": "1.5.0",
            "_view_count": null,
            "_view_module_version": "1.2.0",
            "_model_module": "@jupyter-widgets/controls"
          }
        },
        "225ce4671b5549009733893cb2ea2891": {
          "model_module": "@jupyter-widgets/base",
          "model_name": "LayoutModel",
          "model_module_version": "1.2.0",
          "state": {
            "_view_name": "LayoutView",
            "grid_template_rows": null,
            "right": null,
            "justify_content": null,
            "_view_module": "@jupyter-widgets/base",
            "overflow": null,
            "_model_module_version": "1.2.0",
            "_view_count": null,
            "flex_flow": null,
            "width": null,
            "min_width": null,
            "border": null,
            "align_items": null,
            "bottom": null,
            "_model_module": "@jupyter-widgets/base",
            "top": null,
            "grid_column": null,
            "overflow_y": null,
            "overflow_x": null,
            "grid_auto_flow": null,
            "grid_area": null,
            "grid_template_columns": null,
            "flex": null,
            "_model_name": "LayoutModel",
            "justify_items": null,
            "grid_row": null,
            "max_height": null,
            "align_content": null,
            "visibility": null,
            "align_self": null,
            "height": null,
            "min_height": null,
            "padding": null,
            "grid_auto_rows": null,
            "grid_gap": null,
            "max_width": null,
            "order": null,
            "_view_module_version": "1.2.0",
            "grid_template_areas": null,
            "object_position": null,
            "object_fit": null,
            "grid_auto_columns": null,
            "margin": null,
            "display": null,
            "left": null
          }
        },
        "3c2d50b234a74dffabb88f5eef38f3ca": {
          "model_module": "@jupyter-widgets/controls",
          "model_name": "ProgressStyleModel",
          "model_module_version": "1.5.0",
          "state": {
            "_view_name": "StyleView",
            "_model_name": "ProgressStyleModel",
            "description_width": "",
            "_view_module": "@jupyter-widgets/base",
            "_model_module_version": "1.5.0",
            "_view_count": null,
            "_view_module_version": "1.2.0",
            "bar_color": null,
            "_model_module": "@jupyter-widgets/controls"
          }
        },
        "58cd5ed29d5a492dac876cdd3a10d640": {
          "model_module": "@jupyter-widgets/base",
          "model_name": "LayoutModel",
          "model_module_version": "1.2.0",
          "state": {
            "_view_name": "LayoutView",
            "grid_template_rows": null,
            "right": null,
            "justify_content": null,
            "_view_module": "@jupyter-widgets/base",
            "overflow": null,
            "_model_module_version": "1.2.0",
            "_view_count": null,
            "flex_flow": null,
            "width": null,
            "min_width": null,
            "border": null,
            "align_items": null,
            "bottom": null,
            "_model_module": "@jupyter-widgets/base",
            "top": null,
            "grid_column": null,
            "overflow_y": null,
            "overflow_x": null,
            "grid_auto_flow": null,
            "grid_area": null,
            "grid_template_columns": null,
            "flex": null,
            "_model_name": "LayoutModel",
            "justify_items": null,
            "grid_row": null,
            "max_height": null,
            "align_content": null,
            "visibility": null,
            "align_self": null,
            "height": null,
            "min_height": null,
            "padding": null,
            "grid_auto_rows": null,
            "grid_gap": null,
            "max_width": null,
            "order": null,
            "_view_module_version": "1.2.0",
            "grid_template_areas": null,
            "object_position": null,
            "object_fit": null,
            "grid_auto_columns": null,
            "margin": null,
            "display": null,
            "left": null
          }
        },
        "6956010bcf954693b05dee11baedcbf4": {
          "model_module": "@jupyter-widgets/controls",
          "model_name": "DescriptionStyleModel",
          "model_module_version": "1.5.0",
          "state": {
            "_view_name": "StyleView",
            "_model_name": "DescriptionStyleModel",
            "description_width": "",
            "_view_module": "@jupyter-widgets/base",
            "_model_module_version": "1.5.0",
            "_view_count": null,
            "_view_module_version": "1.2.0",
            "_model_module": "@jupyter-widgets/controls"
          }
        },
        "8beeacb0ed3a4a5f8a78367ce28beec9": {
          "model_module": "@jupyter-widgets/base",
          "model_name": "LayoutModel",
          "model_module_version": "1.2.0",
          "state": {
            "_view_name": "LayoutView",
            "grid_template_rows": null,
            "right": null,
            "justify_content": null,
            "_view_module": "@jupyter-widgets/base",
            "overflow": null,
            "_model_module_version": "1.2.0",
            "_view_count": null,
            "flex_flow": null,
            "width": null,
            "min_width": null,
            "border": null,
            "align_items": null,
            "bottom": null,
            "_model_module": "@jupyter-widgets/base",
            "top": null,
            "grid_column": null,
            "overflow_y": null,
            "overflow_x": null,
            "grid_auto_flow": null,
            "grid_area": null,
            "grid_template_columns": null,
            "flex": null,
            "_model_name": "LayoutModel",
            "justify_items": null,
            "grid_row": null,
            "max_height": null,
            "align_content": null,
            "visibility": null,
            "align_self": null,
            "height": null,
            "min_height": null,
            "padding": null,
            "grid_auto_rows": null,
            "grid_gap": null,
            "max_width": null,
            "order": null,
            "_view_module_version": "1.2.0",
            "grid_template_areas": null,
            "object_position": null,
            "object_fit": null,
            "grid_auto_columns": null,
            "margin": null,
            "display": null,
            "left": null
          }
        },
        "3adac82e12da456e97663863f9353b89": {
          "model_module": "@jupyter-widgets/controls",
          "model_name": "HBoxModel",
          "model_module_version": "1.5.0",
          "state": {
            "_view_name": "HBoxView",
            "_dom_classes": [],
            "_model_name": "HBoxModel",
            "_view_module": "@jupyter-widgets/controls",
            "_model_module_version": "1.5.0",
            "_view_count": null,
            "_view_module_version": "1.5.0",
            "box_style": "",
            "layout": "IPY_MODEL_0e6a65ecc78043bfa6e0a8a88c46cf9e",
            "_model_module": "@jupyter-widgets/controls",
            "children": [
              "IPY_MODEL_dd3a890c976d445c97d5f9699224663b",
              "IPY_MODEL_c55a49dabe9846cfbfb301b19d64f289",
              "IPY_MODEL_0b6e928627644b9eb51a159beb917f6c"
            ]
          }
        },
        "0e6a65ecc78043bfa6e0a8a88c46cf9e": {
          "model_module": "@jupyter-widgets/base",
          "model_name": "LayoutModel",
          "model_module_version": "1.2.0",
          "state": {
            "_view_name": "LayoutView",
            "grid_template_rows": null,
            "right": null,
            "justify_content": null,
            "_view_module": "@jupyter-widgets/base",
            "overflow": null,
            "_model_module_version": "1.2.0",
            "_view_count": null,
            "flex_flow": null,
            "width": null,
            "min_width": null,
            "border": null,
            "align_items": null,
            "bottom": null,
            "_model_module": "@jupyter-widgets/base",
            "top": null,
            "grid_column": null,
            "overflow_y": null,
            "overflow_x": null,
            "grid_auto_flow": null,
            "grid_area": null,
            "grid_template_columns": null,
            "flex": null,
            "_model_name": "LayoutModel",
            "justify_items": null,
            "grid_row": null,
            "max_height": null,
            "align_content": null,
            "visibility": null,
            "align_self": null,
            "height": null,
            "min_height": null,
            "padding": null,
            "grid_auto_rows": null,
            "grid_gap": null,
            "max_width": null,
            "order": null,
            "_view_module_version": "1.2.0",
            "grid_template_areas": null,
            "object_position": null,
            "object_fit": null,
            "grid_auto_columns": null,
            "margin": null,
            "display": null,
            "left": null
          }
        },
        "dd3a890c976d445c97d5f9699224663b": {
          "model_module": "@jupyter-widgets/controls",
          "model_name": "HTMLModel",
          "model_module_version": "1.5.0",
          "state": {
            "_view_name": "HTMLView",
            "style": "IPY_MODEL_deb3b4b755434d2ab9ea117767ba4ad9",
            "_dom_classes": [],
            "description": "",
            "_model_name": "HTMLModel",
            "placeholder": "​",
            "_view_module": "@jupyter-widgets/controls",
            "_model_module_version": "1.5.0",
            "value": "100%",
            "_view_count": null,
            "_view_module_version": "1.5.0",
            "description_tooltip": null,
            "_model_module": "@jupyter-widgets/controls",
            "layout": "IPY_MODEL_e682c478d89248d58ffa388230dd4a3d"
          }
        },
        "c55a49dabe9846cfbfb301b19d64f289": {
          "model_module": "@jupyter-widgets/controls",
          "model_name": "FloatProgressModel",
          "model_module_version": "1.5.0",
          "state": {
            "_view_name": "ProgressView",
            "style": "IPY_MODEL_38e4ea4a62ab4d12b1f79e0f9d4d29fc",
            "_dom_classes": [],
            "description": "",
            "_model_name": "FloatProgressModel",
            "bar_style": "success",
            "max": 1092,
            "_view_module": "@jupyter-widgets/controls",
            "_model_module_version": "1.5.0",
            "value": 1092,
            "_view_count": null,
            "_view_module_version": "1.5.0",
            "orientation": "horizontal",
            "min": 0,
            "description_tooltip": null,
            "_model_module": "@jupyter-widgets/controls",
            "layout": "IPY_MODEL_c69d8a95d14242d29580c92d8ff0f58b"
          }
        },
        "0b6e928627644b9eb51a159beb917f6c": {
          "model_module": "@jupyter-widgets/controls",
          "model_name": "HTMLModel",
          "model_module_version": "1.5.0",
          "state": {
            "_view_name": "HTMLView",
            "style": "IPY_MODEL_cdc2cfdb0df645dfb91363710228435c",
            "_dom_classes": [],
            "description": "",
            "_model_name": "HTMLModel",
            "placeholder": "​",
            "_view_module": "@jupyter-widgets/controls",
            "_model_module_version": "1.5.0",
            "value": " 1092/1092 [10:43&lt;00:00,  2.21it/s]",
            "_view_count": null,
            "_view_module_version": "1.5.0",
            "description_tooltip": null,
            "_model_module": "@jupyter-widgets/controls",
            "layout": "IPY_MODEL_3f168d5d91f14ea2aa96abdf455dda3d"
          }
        },
        "deb3b4b755434d2ab9ea117767ba4ad9": {
          "model_module": "@jupyter-widgets/controls",
          "model_name": "DescriptionStyleModel",
          "model_module_version": "1.5.0",
          "state": {
            "_view_name": "StyleView",
            "_model_name": "DescriptionStyleModel",
            "description_width": "",
            "_view_module": "@jupyter-widgets/base",
            "_model_module_version": "1.5.0",
            "_view_count": null,
            "_view_module_version": "1.2.0",
            "_model_module": "@jupyter-widgets/controls"
          }
        },
        "e682c478d89248d58ffa388230dd4a3d": {
          "model_module": "@jupyter-widgets/base",
          "model_name": "LayoutModel",
          "model_module_version": "1.2.0",
          "state": {
            "_view_name": "LayoutView",
            "grid_template_rows": null,
            "right": null,
            "justify_content": null,
            "_view_module": "@jupyter-widgets/base",
            "overflow": null,
            "_model_module_version": "1.2.0",
            "_view_count": null,
            "flex_flow": null,
            "width": null,
            "min_width": null,
            "border": null,
            "align_items": null,
            "bottom": null,
            "_model_module": "@jupyter-widgets/base",
            "top": null,
            "grid_column": null,
            "overflow_y": null,
            "overflow_x": null,
            "grid_auto_flow": null,
            "grid_area": null,
            "grid_template_columns": null,
            "flex": null,
            "_model_name": "LayoutModel",
            "justify_items": null,
            "grid_row": null,
            "max_height": null,
            "align_content": null,
            "visibility": null,
            "align_self": null,
            "height": null,
            "min_height": null,
            "padding": null,
            "grid_auto_rows": null,
            "grid_gap": null,
            "max_width": null,
            "order": null,
            "_view_module_version": "1.2.0",
            "grid_template_areas": null,
            "object_position": null,
            "object_fit": null,
            "grid_auto_columns": null,
            "margin": null,
            "display": null,
            "left": null
          }
        },
        "38e4ea4a62ab4d12b1f79e0f9d4d29fc": {
          "model_module": "@jupyter-widgets/controls",
          "model_name": "ProgressStyleModel",
          "model_module_version": "1.5.0",
          "state": {
            "_view_name": "StyleView",
            "_model_name": "ProgressStyleModel",
            "description_width": "",
            "_view_module": "@jupyter-widgets/base",
            "_model_module_version": "1.5.0",
            "_view_count": null,
            "_view_module_version": "1.2.0",
            "bar_color": null,
            "_model_module": "@jupyter-widgets/controls"
          }
        },
        "c69d8a95d14242d29580c92d8ff0f58b": {
          "model_module": "@jupyter-widgets/base",
          "model_name": "LayoutModel",
          "model_module_version": "1.2.0",
          "state": {
            "_view_name": "LayoutView",
            "grid_template_rows": null,
            "right": null,
            "justify_content": null,
            "_view_module": "@jupyter-widgets/base",
            "overflow": null,
            "_model_module_version": "1.2.0",
            "_view_count": null,
            "flex_flow": null,
            "width": null,
            "min_width": null,
            "border": null,
            "align_items": null,
            "bottom": null,
            "_model_module": "@jupyter-widgets/base",
            "top": null,
            "grid_column": null,
            "overflow_y": null,
            "overflow_x": null,
            "grid_auto_flow": null,
            "grid_area": null,
            "grid_template_columns": null,
            "flex": null,
            "_model_name": "LayoutModel",
            "justify_items": null,
            "grid_row": null,
            "max_height": null,
            "align_content": null,
            "visibility": null,
            "align_self": null,
            "height": null,
            "min_height": null,
            "padding": null,
            "grid_auto_rows": null,
            "grid_gap": null,
            "max_width": null,
            "order": null,
            "_view_module_version": "1.2.0",
            "grid_template_areas": null,
            "object_position": null,
            "object_fit": null,
            "grid_auto_columns": null,
            "margin": null,
            "display": null,
            "left": null
          }
        },
        "cdc2cfdb0df645dfb91363710228435c": {
          "model_module": "@jupyter-widgets/controls",
          "model_name": "DescriptionStyleModel",
          "model_module_version": "1.5.0",
          "state": {
            "_view_name": "StyleView",
            "_model_name": "DescriptionStyleModel",
            "description_width": "",
            "_view_module": "@jupyter-widgets/base",
            "_model_module_version": "1.5.0",
            "_view_count": null,
            "_view_module_version": "1.2.0",
            "_model_module": "@jupyter-widgets/controls"
          }
        },
        "3f168d5d91f14ea2aa96abdf455dda3d": {
          "model_module": "@jupyter-widgets/base",
          "model_name": "LayoutModel",
          "model_module_version": "1.2.0",
          "state": {
            "_view_name": "LayoutView",
            "grid_template_rows": null,
            "right": null,
            "justify_content": null,
            "_view_module": "@jupyter-widgets/base",
            "overflow": null,
            "_model_module_version": "1.2.0",
            "_view_count": null,
            "flex_flow": null,
            "width": null,
            "min_width": null,
            "border": null,
            "align_items": null,
            "bottom": null,
            "_model_module": "@jupyter-widgets/base",
            "top": null,
            "grid_column": null,
            "overflow_y": null,
            "overflow_x": null,
            "grid_auto_flow": null,
            "grid_area": null,
            "grid_template_columns": null,
            "flex": null,
            "_model_name": "LayoutModel",
            "justify_items": null,
            "grid_row": null,
            "max_height": null,
            "align_content": null,
            "visibility": null,
            "align_self": null,
            "height": null,
            "min_height": null,
            "padding": null,
            "grid_auto_rows": null,
            "grid_gap": null,
            "max_width": null,
            "order": null,
            "_view_module_version": "1.2.0",
            "grid_template_areas": null,
            "object_position": null,
            "object_fit": null,
            "grid_auto_columns": null,
            "margin": null,
            "display": null,
            "left": null
          }
        },
        "ebada7e2f3d14cb99f75bafbd804b3aa": {
          "model_module": "@jupyter-widgets/controls",
          "model_name": "HBoxModel",
          "model_module_version": "1.5.0",
          "state": {
            "_view_name": "HBoxView",
            "_dom_classes": [],
            "_model_name": "HBoxModel",
            "_view_module": "@jupyter-widgets/controls",
            "_model_module_version": "1.5.0",
            "_view_count": null,
            "_view_module_version": "1.5.0",
            "box_style": "",
            "layout": "IPY_MODEL_8a789e54c89c4d06aa06a2c55f7c30bd",
            "_model_module": "@jupyter-widgets/controls",
            "children": [
              "IPY_MODEL_392e5f1ee62849f1be90b1cdcde1fdb2",
              "IPY_MODEL_93980486228445b0ab4b72e0c09683e2",
              "IPY_MODEL_59334d4d646f4b5987c53c41d70b85ed"
            ]
          }
        },
        "8a789e54c89c4d06aa06a2c55f7c30bd": {
          "model_module": "@jupyter-widgets/base",
          "model_name": "LayoutModel",
          "model_module_version": "1.2.0",
          "state": {
            "_view_name": "LayoutView",
            "grid_template_rows": null,
            "right": null,
            "justify_content": null,
            "_view_module": "@jupyter-widgets/base",
            "overflow": null,
            "_model_module_version": "1.2.0",
            "_view_count": null,
            "flex_flow": null,
            "width": null,
            "min_width": null,
            "border": null,
            "align_items": null,
            "bottom": null,
            "_model_module": "@jupyter-widgets/base",
            "top": null,
            "grid_column": null,
            "overflow_y": null,
            "overflow_x": null,
            "grid_auto_flow": null,
            "grid_area": null,
            "grid_template_columns": null,
            "flex": null,
            "_model_name": "LayoutModel",
            "justify_items": null,
            "grid_row": null,
            "max_height": null,
            "align_content": null,
            "visibility": null,
            "align_self": null,
            "height": null,
            "min_height": null,
            "padding": null,
            "grid_auto_rows": null,
            "grid_gap": null,
            "max_width": null,
            "order": null,
            "_view_module_version": "1.2.0",
            "grid_template_areas": null,
            "object_position": null,
            "object_fit": null,
            "grid_auto_columns": null,
            "margin": null,
            "display": null,
            "left": null
          }
        },
        "392e5f1ee62849f1be90b1cdcde1fdb2": {
          "model_module": "@jupyter-widgets/controls",
          "model_name": "HTMLModel",
          "model_module_version": "1.5.0",
          "state": {
            "_view_name": "HTMLView",
            "style": "IPY_MODEL_ddec56bb95e54e5fa180eff760f5287f",
            "_dom_classes": [],
            "description": "",
            "_model_name": "HTMLModel",
            "placeholder": "​",
            "_view_module": "@jupyter-widgets/controls",
            "_model_module_version": "1.5.0",
            "value": " 58%",
            "_view_count": null,
            "_view_module_version": "1.5.0",
            "description_tooltip": null,
            "_model_module": "@jupyter-widgets/controls",
            "layout": "IPY_MODEL_a8bbb4db24f44e52b134e40c26446014"
          }
        },
        "93980486228445b0ab4b72e0c09683e2": {
          "model_module": "@jupyter-widgets/controls",
          "model_name": "FloatProgressModel",
          "model_module_version": "1.5.0",
          "state": {
            "_view_name": "ProgressView",
            "style": "IPY_MODEL_29fa9ff2c3f54ce8bca315b793cb1699",
            "_dom_classes": [],
            "description": "",
            "_model_name": "FloatProgressModel",
            "bar_style": "",
            "max": 1092,
            "_view_module": "@jupyter-widgets/controls",
            "_model_module_version": "1.5.0",
            "value": 629,
            "_view_count": null,
            "_view_module_version": "1.5.0",
            "orientation": "horizontal",
            "min": 0,
            "description_tooltip": null,
            "_model_module": "@jupyter-widgets/controls",
            "layout": "IPY_MODEL_af634145485447e8b379cf8e4f91a266"
          }
        },
        "59334d4d646f4b5987c53c41d70b85ed": {
          "model_module": "@jupyter-widgets/controls",
          "model_name": "HTMLModel",
          "model_module_version": "1.5.0",
          "state": {
            "_view_name": "HTMLView",
            "style": "IPY_MODEL_ca15903ccb3a42d3bb24cf9b6531777f",
            "_dom_classes": [],
            "description": "",
            "_model_name": "HTMLModel",
            "placeholder": "​",
            "_view_module": "@jupyter-widgets/controls",
            "_model_module_version": "1.5.0",
            "value": " 629/1092 [05:13&lt;03:54,  1.98it/s]",
            "_view_count": null,
            "_view_module_version": "1.5.0",
            "description_tooltip": null,
            "_model_module": "@jupyter-widgets/controls",
            "layout": "IPY_MODEL_b2a5959e360146d99d2317e7ed455d52"
          }
        },
        "ddec56bb95e54e5fa180eff760f5287f": {
          "model_module": "@jupyter-widgets/controls",
          "model_name": "DescriptionStyleModel",
          "model_module_version": "1.5.0",
          "state": {
            "_view_name": "StyleView",
            "_model_name": "DescriptionStyleModel",
            "description_width": "",
            "_view_module": "@jupyter-widgets/base",
            "_model_module_version": "1.5.0",
            "_view_count": null,
            "_view_module_version": "1.2.0",
            "_model_module": "@jupyter-widgets/controls"
          }
        },
        "a8bbb4db24f44e52b134e40c26446014": {
          "model_module": "@jupyter-widgets/base",
          "model_name": "LayoutModel",
          "model_module_version": "1.2.0",
          "state": {
            "_view_name": "LayoutView",
            "grid_template_rows": null,
            "right": null,
            "justify_content": null,
            "_view_module": "@jupyter-widgets/base",
            "overflow": null,
            "_model_module_version": "1.2.0",
            "_view_count": null,
            "flex_flow": null,
            "width": null,
            "min_width": null,
            "border": null,
            "align_items": null,
            "bottom": null,
            "_model_module": "@jupyter-widgets/base",
            "top": null,
            "grid_column": null,
            "overflow_y": null,
            "overflow_x": null,
            "grid_auto_flow": null,
            "grid_area": null,
            "grid_template_columns": null,
            "flex": null,
            "_model_name": "LayoutModel",
            "justify_items": null,
            "grid_row": null,
            "max_height": null,
            "align_content": null,
            "visibility": null,
            "align_self": null,
            "height": null,
            "min_height": null,
            "padding": null,
            "grid_auto_rows": null,
            "grid_gap": null,
            "max_width": null,
            "order": null,
            "_view_module_version": "1.2.0",
            "grid_template_areas": null,
            "object_position": null,
            "object_fit": null,
            "grid_auto_columns": null,
            "margin": null,
            "display": null,
            "left": null
          }
        },
        "29fa9ff2c3f54ce8bca315b793cb1699": {
          "model_module": "@jupyter-widgets/controls",
          "model_name": "ProgressStyleModel",
          "model_module_version": "1.5.0",
          "state": {
            "_view_name": "StyleView",
            "_model_name": "ProgressStyleModel",
            "description_width": "",
            "_view_module": "@jupyter-widgets/base",
            "_model_module_version": "1.5.0",
            "_view_count": null,
            "_view_module_version": "1.2.0",
            "bar_color": null,
            "_model_module": "@jupyter-widgets/controls"
          }
        },
        "af634145485447e8b379cf8e4f91a266": {
          "model_module": "@jupyter-widgets/base",
          "model_name": "LayoutModel",
          "model_module_version": "1.2.0",
          "state": {
            "_view_name": "LayoutView",
            "grid_template_rows": null,
            "right": null,
            "justify_content": null,
            "_view_module": "@jupyter-widgets/base",
            "overflow": null,
            "_model_module_version": "1.2.0",
            "_view_count": null,
            "flex_flow": null,
            "width": null,
            "min_width": null,
            "border": null,
            "align_items": null,
            "bottom": null,
            "_model_module": "@jupyter-widgets/base",
            "top": null,
            "grid_column": null,
            "overflow_y": null,
            "overflow_x": null,
            "grid_auto_flow": null,
            "grid_area": null,
            "grid_template_columns": null,
            "flex": null,
            "_model_name": "LayoutModel",
            "justify_items": null,
            "grid_row": null,
            "max_height": null,
            "align_content": null,
            "visibility": null,
            "align_self": null,
            "height": null,
            "min_height": null,
            "padding": null,
            "grid_auto_rows": null,
            "grid_gap": null,
            "max_width": null,
            "order": null,
            "_view_module_version": "1.2.0",
            "grid_template_areas": null,
            "object_position": null,
            "object_fit": null,
            "grid_auto_columns": null,
            "margin": null,
            "display": null,
            "left": null
          }
        },
        "ca15903ccb3a42d3bb24cf9b6531777f": {
          "model_module": "@jupyter-widgets/controls",
          "model_name": "DescriptionStyleModel",
          "model_module_version": "1.5.0",
          "state": {
            "_view_name": "StyleView",
            "_model_name": "DescriptionStyleModel",
            "description_width": "",
            "_view_module": "@jupyter-widgets/base",
            "_model_module_version": "1.5.0",
            "_view_count": null,
            "_view_module_version": "1.2.0",
            "_model_module": "@jupyter-widgets/controls"
          }
        },
        "b2a5959e360146d99d2317e7ed455d52": {
          "model_module": "@jupyter-widgets/base",
          "model_name": "LayoutModel",
          "model_module_version": "1.2.0",
          "state": {
            "_view_name": "LayoutView",
            "grid_template_rows": null,
            "right": null,
            "justify_content": null,
            "_view_module": "@jupyter-widgets/base",
            "overflow": null,
            "_model_module_version": "1.2.0",
            "_view_count": null,
            "flex_flow": null,
            "width": null,
            "min_width": null,
            "border": null,
            "align_items": null,
            "bottom": null,
            "_model_module": "@jupyter-widgets/base",
            "top": null,
            "grid_column": null,
            "overflow_y": null,
            "overflow_x": null,
            "grid_auto_flow": null,
            "grid_area": null,
            "grid_template_columns": null,
            "flex": null,
            "_model_name": "LayoutModel",
            "justify_items": null,
            "grid_row": null,
            "max_height": null,
            "align_content": null,
            "visibility": null,
            "align_self": null,
            "height": null,
            "min_height": null,
            "padding": null,
            "grid_auto_rows": null,
            "grid_gap": null,
            "max_width": null,
            "order": null,
            "_view_module_version": "1.2.0",
            "grid_template_areas": null,
            "object_position": null,
            "object_fit": null,
            "grid_auto_columns": null,
            "margin": null,
            "display": null,
            "left": null
          }
        }
      }
    },
    "accelerator": "GPU"
  },
  "cells": [
    {
      "cell_type": "markdown",
      "metadata": {
        "id": "view-in-github",
        "colab_type": "text"
      },
      "source": [
        "<a href=\"https://colab.research.google.com/github/insaiyancvk/speedyblackman/blob/main/speedy_work.ipynb\" target=\"_parent\"><img src=\"https://colab.research.google.com/assets/colab-badge.svg\" alt=\"Open In Colab\"/></a>"
      ]
    },
    {
      "cell_type": "markdown",
      "metadata": {
        "id": "4UjHGrv6t_tj"
      },
      "source": [
        "## Starting with Left/Right work"
      ]
    },
    {
      "cell_type": "code",
      "metadata": {
        "colab": {
          "base_uri": "https://localhost:8080/"
        },
        "id": "C0Nm05DdZax3",
        "outputId": "f612159a-688d-455a-baba-b6fc4005d78f"
      },
      "source": [
        "from google.colab import drive\n",
        "drive.mount('/content/drive')\n",
        "# from IPython.display import Image\n",
        "!pip install -q python-telegram-bot"
      ],
      "execution_count": 1,
      "outputs": [
        {
          "output_type": "stream",
          "name": "stdout",
          "text": [
            "Mounted at /content/drive\n",
            "\u001b[K     |████████████████████████████████| 490 kB 7.2 MB/s \n",
            "\u001b[K     |████████████████████████████████| 428 kB 76.8 MB/s \n",
            "\u001b[K     |████████████████████████████████| 58 kB 7.4 MB/s \n",
            "\u001b[31mERROR: pip's dependency resolver does not currently take into account all the packages that are installed. This behaviour is the source of the following dependency conflicts.\n",
            "google-colab 1.0.0 requires tornado~=5.1.0; python_version >= \"3.0\", but you have tornado 6.1 which is incompatible.\u001b[0m\n",
            "\u001b[?25h"
          ]
        }
      ]
    },
    {
      "cell_type": "markdown",
      "metadata": {
        "id": "BEL1oDsaDU_Z"
      },
      "source": [
        ""
      ]
    },
    {
      "cell_type": "code",
      "metadata": {
        "colab": {
          "base_uri": "https://localhost:8080/"
        },
        "id": "8W_vojderBBd",
        "outputId": "a964799c-320e-4713-8679-9f6cd9364a4e"
      },
      "source": [
        "import numpy as np\n",
        "import matplotlib.pyplot as plt\n",
        "import os, telegram, json, cv2, time, random, zipfile\n",
        "from PIL import Image\n",
        "\n",
        "import torch\n",
        "import torchvision\n",
        "\n",
        "from torch.utils.data import DataLoader\n",
        "from torchvision.utils import make_grid\n",
        "import torch.nn as nn\n",
        "import torch.nn.functional as F\n",
        "import torch.optim as optim\n",
        "\n",
        "from torchvision.models.resnet import resnet18\n",
        "import torchvision.transforms as transforms\n",
        "import torchvision.datasets as datasets\n",
        "\n",
        "from tqdm.notebook import tqdm\n",
        "import warnings\n",
        "warnings.filterwarnings(\"ignore\")\n",
        "\n",
        "device = 'cuda' if torch.cuda.is_available() else 'cpu'\n",
        "print(f\"{device} activated.\")"
      ],
      "execution_count": 2,
      "outputs": [
        {
          "output_type": "stream",
          "name": "stdout",
          "text": [
            "cuda activated.\n"
          ]
        }
      ]
    },
    {
      "cell_type": "code",
      "metadata": {
        "colab": {
          "base_uri": "https://localhost:8080/",
          "height": 150,
          "referenced_widgets": [
            "1fec727c2c1046e2bef525c24fb7772d",
            "eb257be4835048798a11a55b01967c57",
            "02abadf556e84d0a9d906c86772cdcdb",
            "44b96f3a5e7e4a4a842ee6956554d15a",
            "0090074147314355bf1488981de928db",
            "ad5ac623adbb48aba085ee0293757db1",
            "6cc4711914bb43c0b04fa8e597669854",
            "e85ca9720c5c4e4eb478866c369052dd",
            "0bc74e2534854d97817b392efba3bb08",
            "1bb9c8e712174643bc7f85a2e596e378",
            "f4323ce66b9c4438a5cb3d4d92a7b57b"
          ]
        },
        "id": "urcq2PHu87jE",
        "outputId": "138ed224-e793-4c84-8298-f9b01bcb8e19"
      },
      "source": [
        "print(\"Initializing kaggle\")\n",
        "!rm -rf /root/.kaggle && mkdir /root/.kaggle && cp /content/drive/MyDrive/kaggle.json . && mv kaggle.json /root/.kaggle/kaggle.json\n",
        "\n",
        "print(\"Downloading the dataset\")\n",
        "!kaggle datasets download insaiyancvk/nfs-rivals-left-and-right-turn-data\n",
        "\n",
        "print(\"Extracting the dataset\")\n",
        "with zipfile.ZipFile(\"nfs-rivals-left-and-right-turn-data.zip\") as zf:\n",
        "  for member in tqdm(zf.infolist(), desc='Extracting'):\n",
        "    try:\n",
        "      zf.extract(member, \"/content\")\n",
        "    except zipfile.error:\n",
        "      pass\n",
        "!rm nfs-rivals-left-and-right-turn-data.zip"
      ],
      "execution_count": 3,
      "outputs": [
        {
          "output_type": "stream",
          "name": "stdout",
          "text": [
            "Initializing kaggle\n",
            "Downloading the dataset\n",
            "Downloading nfs-rivals-left-and-right-turn-data.zip to /content\n",
            "100% 6.87G/6.88G [01:10<00:00, 91.6MB/s]\n",
            "100% 6.88G/6.88G [01:11<00:00, 104MB/s] \n",
            "Extracting the dataset\n"
          ]
        },
        {
          "output_type": "display_data",
          "data": {
            "application/vnd.jupyter.widget-view+json": {
              "model_id": "1fec727c2c1046e2bef525c24fb7772d",
              "version_minor": 0,
              "version_major": 2
            },
            "text/plain": [
              "Extracting:   0%|          | 0/34916 [00:00<?, ?it/s]"
            ]
          },
          "metadata": {}
        }
      ]
    },
    {
      "cell_type": "code",
      "metadata": {
        "id": "56WwgEYv76sC",
        "cellView": "form"
      },
      "source": [
        "#@title Telegram bot\n",
        "class send(): \n",
        "\n",
        "  def __init__(self):\n",
        "    f = open ('/content/drive/MyDrive/tel.json', 'r')\n",
        "    self.tel = json.load(f)\n",
        "    f.close()\n",
        "    self.bot = telegram.Bot(token=self.tel['token']) \n",
        "\n",
        "  def msg(self, mesg):\n",
        "    self.bot.sendMessage(chat_id=self.tel['nnboiid'], text=mesg)\n",
        "\n",
        "  def pic(self, path):\n",
        "    self.bot.sendPhoto(chat_id=self.tel['nnboiid'], photo=open(path, 'rb'))\n",
        "bot = send()"
      ],
      "execution_count": 4,
      "outputs": []
    },
    {
      "cell_type": "markdown",
      "metadata": {
        "id": "ccbNVWvmytly"
      },
      "source": [
        "### Defining some constants"
      ]
    },
    {
      "cell_type": "code",
      "metadata": {
        "colab": {
          "base_uri": "https://localhost:8080/"
        },
        "id": "oBMrWsusv0_H",
        "outputId": "f73125fa-1393-46e0-9dde-54597d566eb8"
      },
      "source": [
        "#@title\n",
        "print(\"Initializing classes\")\n",
        "\n",
        "class_list = [\n",
        "              'a',\n",
        "              'd']\n",
        "\n",
        "print(\"Creating workspace\")\n",
        "\n",
        "drive = os.path.join(\"drive\",\"MyDrive\")\n",
        "FOLDERS = {\n",
        "    \"TRAIN\": os.path.join(\"set2\",\"train\"),\n",
        "    \"TEST\": os.path.join(\"set2\",\"test\"),\n",
        "    \"WORKSPACE\": os.path.join(drive,\"speedata\",\"workspace\"),\n",
        "    \"MODELS\": os.path.join(drive,\"speedata\",\"workspace\",\"models\"),\n",
        "    \"PERFORMANCE\": os.path.join(drive,\"speedata\",\"workspace\",\"performance\")\n",
        "}\n",
        "\n",
        "for key in FOLDERS:\n",
        "  if not os.path.isdir(FOLDERS[key]):\n",
        "    print(key, \"directory doesn't exist. Creating one.\")\n",
        "    os.mkdir(FOLDERS[key])\n",
        "    print(key, \"directory created.\")"
      ],
      "execution_count": 5,
      "outputs": [
        {
          "output_type": "stream",
          "name": "stdout",
          "text": [
            "Initializing classes\n",
            "Creating workspace\n"
          ]
        }
      ]
    },
    {
      "cell_type": "code",
      "metadata": {
        "id": "XlbmtFNWAbcA"
      },
      "source": [
        "from math import floor"
      ],
      "execution_count": 6,
      "outputs": []
    },
    {
      "cell_type": "code",
      "metadata": {
        "id": "ahLlaeKnArfV"
      },
      "source": [
        "import shutil"
      ],
      "execution_count": 7,
      "outputs": []
    },
    {
      "cell_type": "code",
      "metadata": {
        "id": "VUiCqxbOZ7_7"
      },
      "source": [
        "SPLIT_FOLDERS = {\n",
        "    'TRAIN': os.path.join(\"set2\",\"train\"),\n",
        "    'TRAIN_a': os.path.join(\"set2\",\"train\",\"a\"),\n",
        "    'TRAIN_d': os.path.join(\"set2\",\"train\",\"d\"),\n",
        "    'TEST': os.path.join(\"set2\",\"test\"),\n",
        "    'TEST_a': os.path.join(\"set2\",\"test\",\"a\"),\n",
        "    'TEST_d': os.path.join(\"set2\",\"test\",\"d\")\n",
        "}\n",
        "move_a = os.listdir(SPLIT_FOLDERS['TRAIN_a'])[:floor((len(os.listdir(SPLIT_FOLDERS['TRAIN_a'])))*0.375)]\n",
        "move_d = os.listdir(SPLIT_FOLDERS['TRAIN_d'])[:floor((len(os.listdir(SPLIT_FOLDERS['TRAIN_d'])))*0.375)]\n",
        "\n",
        "print(\"Moving 37.5% of train data of set 'a' to test set\")\n",
        "for path in move_a:\n",
        "  shutil.move(SPLIT_FOLDERS['TRAIN_a']+\"/\"+path, SPLIT_FOLDERS['TEST_a'])\n",
        "print(\"Moving 37.5% of train data of set 'd' to test set\")\n",
        "for path in move_d:\n",
        "  shutil.move(SPLIT_FOLDERS['TRAIN_d']+\"/\"+path, SPLIT_FOLDERS['TEST_d'])"
      ],
      "execution_count": null,
      "outputs": []
    },
    {
      "cell_type": "markdown",
      "metadata": {
        "id": "kGdmtDrgLNrV"
      },
      "source": [
        "### Defining the transformations on train and test data"
      ]
    },
    {
      "cell_type": "code",
      "metadata": {
        "colab": {
          "base_uri": "https://localhost:8080/"
        },
        "id": "xJseNya9-gMC",
        "outputId": "da798c51-3787-4183-d4cc-645a6d36605e"
      },
      "source": [
        "print(\"Defining the transformations for the speedy data\")\n",
        "transformations = {\n",
        "    \"TRAIN\": transforms.Compose([\n",
        "                        transforms.Resize([256,256]),\n",
        "                        transforms.ColorJitter(brightness=(0.8,1.5), contrast=(0.8,1.5), saturation=(0.8,1.5)),\n",
        "                        # transforms.RandomInvert(0.5),\n",
        "                        # transforms.RandomRotation(degrees=(-10,10)),\n",
        "                        transforms.ToTensor(),\n",
        "                        transforms.Normalize((0.5,0.5,0.5),(0.5,0.5,0.5))\n",
        "    ]),\n",
        "    \"TEST\": transforms.Compose([\n",
        "                      transforms.Resize([256,256]),\n",
        "                      transforms.ToTensor(),\n",
        "                      transforms.Normalize((0.5,0.5,0.5),(0.5,0.5,0.5))\n",
        "    ])\n",
        "}"
      ],
      "execution_count": 19,
      "outputs": [
        {
          "output_type": "stream",
          "name": "stdout",
          "text": [
            "Defining the transformations for the speedy data\n"
          ]
        }
      ]
    },
    {
      "cell_type": "markdown",
      "metadata": {
        "id": "8iJCW7NkLVTc"
      },
      "source": [
        "### Define dataset of the _speedata_"
      ]
    },
    {
      "cell_type": "code",
      "metadata": {
        "id": "whCbQCikKP39",
        "colab": {
          "base_uri": "https://localhost:8080/"
        },
        "outputId": "27ce4064-2057-472e-fcd3-e96862d9a954"
      },
      "source": [
        "#@title\n",
        "print(\"Creating a dataset of the speedata\")\n",
        "dataset = {\n",
        "    \"TRAIN\": datasets.ImageFolder(\n",
        "        FOLDERS[\"TRAIN\"],\n",
        "        transform = transformations[\"TRAIN\"]\n",
        "    ),\n",
        "    \"TEST\": datasets.ImageFolder(\n",
        "        FOLDERS[\"TEST\"],\n",
        "        transform = transformations[\"TEST\"]\n",
        "    )\n",
        "}"
      ],
      "execution_count": 20,
      "outputs": [
        {
          "output_type": "stream",
          "name": "stdout",
          "text": [
            "Creating a dataset of the speedata\n"
          ]
        }
      ]
    },
    {
      "cell_type": "markdown",
      "metadata": {
        "id": "LMSmSZ9FLlle"
      },
      "source": [
        "### Create Dataloader of the _speedata_"
      ]
    },
    {
      "cell_type": "code",
      "metadata": {
        "cellView": "form",
        "id": "17ElGBFu9lbZ"
      },
      "source": [
        "BATCH =  16#@param {type:\"integer\"}"
      ],
      "execution_count": 21,
      "outputs": []
    },
    {
      "cell_type": "code",
      "metadata": {
        "colab": {
          "base_uri": "https://localhost:8080/"
        },
        "id": "0XLulVJfKvg-",
        "outputId": "24b44310-8271-47e9-8ea4-10a1fc2b02fd"
      },
      "source": [
        "#@title\n",
        "print(\"Creating dataloaders\")\n",
        "dataloader = {\n",
        "    \"TRAIN\": DataLoader(\n",
        "        dataset[\"TRAIN\"],\n",
        "        batch_size = BATCH,\n",
        "        shuffle = True\n",
        "    ),\n",
        "    \"TEST\": DataLoader(\n",
        "        dataset[\"TEST\"],\n",
        "        batch_size = BATCH,\n",
        "        shuffle = True\n",
        "    )\n",
        "}\n",
        "print(\"Data preprocessing completed.\")"
      ],
      "execution_count": 22,
      "outputs": [
        {
          "output_type": "stream",
          "name": "stdout",
          "text": [
            "Creating dataloaders\n",
            "Data preprocessing completed.\n"
          ]
        }
      ]
    },
    {
      "cell_type": "markdown",
      "metadata": {
        "id": "q-154QhrLH4m"
      },
      "source": [
        "# The G"
      ]
    },
    {
      "cell_type": "code",
      "metadata": {
        "id": "OEpKt51fMU7V",
        "cellView": "form"
      },
      "source": [
        "#@title Epoch function\n",
        "\n",
        "def epoch(model, test_loader ,train_loader, loss_func, optim, device):\n",
        "\n",
        "  test_loss = 0\n",
        "  test_accuracy = 0\n",
        "  train_loss = 0\n",
        "  train_accuracy = 0\n",
        "\n",
        "  model = model.to(device)\n",
        "\n",
        "  print(\"\\t\\tTraining the Neural Network\")\n",
        "  model.train(True)\n",
        "  for image, label in tqdm(train_loader):\n",
        "      optim.zero_grad()      \n",
        "      output = model(image.to(device))\n",
        "      loss = loss_func(\n",
        "        output,\n",
        "        label.to(device)\n",
        "        )\n",
        "      loss.backward()\n",
        "      optim.step()\n",
        "\n",
        "      accuracy = np.average(\n",
        "            np.argmax(\n",
        "              output.cpu().detach().numpy(), axis=1) == label.cpu().detach().numpy()\n",
        "        )\n",
        "\n",
        "      train_loss += loss.item()/len(train_loader) # training average loss\n",
        "      train_accuracy += accuracy/len(train_loader) # training average accuracy\n",
        "  model.train(False)\n",
        "\n",
        "  print(\"\\t\\tValidating Neural Network\")\n",
        "  model.eval()\n",
        "\n",
        "  for image, label in tqdm(test_loader):\n",
        "\n",
        "      output = model(image.to(device))\n",
        "      loss = loss_func(\n",
        "        output,\n",
        "        label.to(device)\n",
        "      )\n",
        "      \n",
        "      accuracy = np.average(\n",
        "        np.argmax(\n",
        "            output.cpu().detach().numpy(), axis=1) == label.cpu().detach().numpy()\n",
        "        )\n",
        "\n",
        "      test_loss += loss.item()/len(test_loader) # Validation average loss\n",
        "      test_accuracy += accuracy/len(test_loader) # Validation average accuracy\n",
        "      \n",
        "  return (\n",
        "\n",
        "    # TRAIN LOSS\n",
        "    train_loss,\n",
        "\n",
        "    # TRAIN ACCURACY\n",
        "    train_accuracy,\n",
        "\n",
        "    # TEST LOSS, ACCURACY\n",
        "    test_loss,\n",
        "    test_accuracy\n",
        "  )"
      ],
      "execution_count": 23,
      "outputs": []
    },
    {
      "cell_type": "code",
      "metadata": {
        "id": "zUCpviHGNDnU",
        "cellView": "form"
      },
      "source": [
        "EPOCH =  15#@param {type:\"integer\"}"
      ],
      "execution_count": 24,
      "outputs": []
    },
    {
      "cell_type": "code",
      "metadata": {
        "id": "K63sU1ZMzrQ4"
      },
      "source": [
        "# !pip install pretrainedmodels\n",
        "# import pretrainedmodels"
      ],
      "execution_count": null,
      "outputs": []
    },
    {
      "cell_type": "code",
      "metadata": {
        "id": "HamY2oshzhrD"
      },
      "source": [
        "# class Resnet18(nn.Module):\n",
        "#   def __init__(self):\n",
        "#       super(EfficientNet_b0, self).__init__()\n",
        "#       self.model =  pretrainedmodels.__dict__['resnet18'](pretrained='imagenet')\n",
        "      \n",
        "#       self.classifier_layer = nn.Sequential(\n",
        "#           nn.Linear(512 , 256),\n",
        "#           nn.BatchNorm1d(256),\n",
        "#           nn.Dropout(0.2),\n",
        "#           nn.Linear(256 , 128),\n",
        "#           nn.Linear(128 , 2)\n",
        "#       )\n",
        "\n",
        "#   def forward(self, x):\n",
        "#     batch_size ,_,_,_ = x.shape     #taking out batch_size from input image\n",
        "#     x = self.model.features(x)\n",
        "#     x = torch.nn.functional.adaptive_avg_pool2d(x,1).reshape(batch_size,-1)     # then reshaping the batch_size\n",
        "#     x = self.classifier_layer(x)\n",
        "#     return x"
      ],
      "execution_count": null,
      "outputs": []
    },
    {
      "cell_type": "code",
      "metadata": {
        "colab": {
          "base_uri": "https://localhost:8080/",
          "height": 346,
          "referenced_widgets": [
            "c31c80f2565f4ba7a0984d85432e60c1",
            "e601c5f795504da3b84f9eda999fa0d2",
            "c425fe46078e425bb69fabd40598b8c5",
            "c9342a2140d04b24b1249cb63a450532",
            "be4c6c2a966945478d0407be11f9f1b1",
            "7bdeef5d674d4e7db2d649f26e9eee93",
            "30dc6c1768fd44c3a5975156fdaf52c9",
            "1a8fbaf60be94539bb6996329dc35baf",
            "4f7d438b19a7476296674a56381591fc",
            "99b9c0ddf64c40b1a19e71b40297ce7a",
            "e14732dfef83468ba2f8318cacfeb112",
            "516f90f05b64471ebaa50f5d97aac2b4",
            "dea9c127fb794a1cb0ee26328b69e606",
            "9b408d8f3b3f43809ae629bd85badacc",
            "fd406a3e620a403eab33152314c89991",
            "3930c29f2e8548358becf7d4586d58fb",
            "39583f04b68d41a7aac573c0be24b528",
            "225ce4671b5549009733893cb2ea2891",
            "3c2d50b234a74dffabb88f5eef38f3ca",
            "58cd5ed29d5a492dac876cdd3a10d640",
            "6956010bcf954693b05dee11baedcbf4",
            "8beeacb0ed3a4a5f8a78367ce28beec9",
            "3adac82e12da456e97663863f9353b89",
            "0e6a65ecc78043bfa6e0a8a88c46cf9e",
            "dd3a890c976d445c97d5f9699224663b",
            "c55a49dabe9846cfbfb301b19d64f289",
            "0b6e928627644b9eb51a159beb917f6c",
            "deb3b4b755434d2ab9ea117767ba4ad9",
            "e682c478d89248d58ffa388230dd4a3d",
            "38e4ea4a62ab4d12b1f79e0f9d4d29fc",
            "c69d8a95d14242d29580c92d8ff0f58b",
            "cdc2cfdb0df645dfb91363710228435c",
            "3f168d5d91f14ea2aa96abdf455dda3d",
            "ebada7e2f3d14cb99f75bafbd804b3aa",
            "8a789e54c89c4d06aa06a2c55f7c30bd",
            "392e5f1ee62849f1be90b1cdcde1fdb2",
            "93980486228445b0ab4b72e0c09683e2",
            "59334d4d646f4b5987c53c41d70b85ed",
            "ddec56bb95e54e5fa180eff760f5287f",
            "a8bbb4db24f44e52b134e40c26446014",
            "29fa9ff2c3f54ce8bca315b793cb1699",
            "af634145485447e8b379cf8e4f91a266",
            "ca15903ccb3a42d3bb24cf9b6531777f",
            "b2a5959e360146d99d2317e7ed455d52"
          ]
        },
        "id": "lcotW3IhNmar",
        "outputId": "80a5f3fd-b21f-47de-feb6-63ddf16d614b"
      },
      "source": [
        "done = False\n",
        "# LRs = [0.015,0.01,0.1]\n",
        "# its = [i for i in range(0,EPOCH,EPOCH//len(LRs))]\n",
        "\n",
        "resnet = resnet18()\n",
        "resnet.fc = nn.Linear(resnet.fc.in_features,2)\n",
        "# resnet.fc.register_forward_hook(lambda m, inp, out: F.dropout(out, p=0.5, training=m.training)) # add a dropout layer\n",
        "# resnet.load_state_dict(torch.load(\"/content/drive/MyDrive/speedata/workspace/models/SpeedyNet18.pth\"))\n",
        "resnet = resnet.to(device)\n",
        "print(\"RESNET18 INITIALIZED\")\n",
        "send().msg(\"RESNET18 INITIALIZED\")\n",
        "\n",
        "loss_func = nn.CrossEntropyLoss()\n",
        "optimizer = optim.Adam(resnet.parameters(), lr=0.001)\n",
        "NAME = f\"SpeedyNet185050split\"\n",
        "\n",
        "train_loss_vals = []\n",
        "train_accuracy_vals = []\n",
        "test_loss_vals = []\n",
        "test_accuracy_vals = []\n",
        "\n",
        "start = time.time()\n",
        "for ep in range(EPOCH):\n",
        "  messages = ''\n",
        "  # if ep in its:\n",
        "\n",
        "    # print(f\"Setting LR to {LRs[its.index(ep)]}\")\n",
        "    # messages += f\"Setting LR to {LRs[its.index(ep)]}\" # for telegram\n",
        "\n",
        "    # optimizer.param_groups[0]['lr'] = LRs[its.index(ep)]\n",
        "\n",
        "  print(f\"Epoch: {ep+1}/{EPOCH}\\nLR: {optimizer.param_groups[0]['lr']}\")\n",
        "  messages += f\"\\nEpoch: {ep+1}/{EPOCH}\\nLR: {optimizer.param_groups[0]['lr']}\" # for telegram\n",
        "\n",
        "  vals = epoch(resnet, dataloader[\"TEST\"], dataloader[\"TRAIN\"], loss_func, optimizer, device)\n",
        "  train_loss_vals.append(vals[0])\n",
        "  train_accuracy_vals.append(vals[1])\n",
        "  test_loss_vals.append(vals[2])\n",
        "  test_accuracy_vals.append(vals[3])\n",
        "\n",
        "  print(f\"Test Loss: {test_loss_vals[-1]:.3f} Test Accuracy: {test_accuracy_vals[-1]:.3f}\")\n",
        "  print(f\"Train Loss: {train_loss_vals[-1]:.3f} Train Accuracy: {train_accuracy_vals[-1]:.3f}\")\n",
        "  messages += f\"\\nTest Loss: {test_loss_vals[-1]:.3f} Test Accuracy: {test_accuracy_vals[-1]:.3f}\" # for telegram\n",
        "  messages += f\"\\nTrain Loss: {train_loss_vals[-1]:.3f} Train Accuracy: {train_accuracy_vals[-1]:.3f}\"\n",
        "  print(f\"Time: {(time.time()-start)/60:.2f} min(s)\")\n",
        "  messages += f\"\\nTime elapsed: {(time.time()-start)/60:.2f} min(s)\" # for telegram\n",
        "  \n",
        "  if len(test_loss_vals)>2:\n",
        "    if all(x > test_loss_vals[-1] for x in test_loss_vals[:-1]):\n",
        "    # if test_loss_vals[-2]>test_loss_vals[-1]:\n",
        "      model_name = os.path.join(FOLDERS[\"MODELS\"],f\"{NAME}.pth\")\n",
        "      \n",
        "      print(f\"Improvement detected. Saving the model\\n\")\n",
        "      messages += f\"\\nImprovement detected. Saving the model\" # for telegram\n",
        "\n",
        "      torch.save(resnet.state_dict(),model_name)\n",
        "  fig, a = plt.subplots(2,2, squeeze=False, figsize=(14,7))\n",
        "  a[0][0].plot(train_loss_vals)\n",
        "  a[0][0].set_title(\"Train Loss\")\n",
        "  a[0][0].grid(True)\n",
        "  a[0][1].plot(train_accuracy_vals)\n",
        "  a[0][1].set_title(\"Train accuracy\")\n",
        "  a[0][1].grid(True)\n",
        "  a[1][0].plot(test_loss_vals)\n",
        "  a[1][0].set_title(\"Test loss\")\n",
        "  a[1][0].grid(True)\n",
        "  a[1][1].plot(test_accuracy_vals)\n",
        "  a[1][1].set_title(\"Test accuracy\")\n",
        "  a[1][1].grid(True)\n",
        "  fig.suptitle(f\"RESNET18 {BATCH}/batch, {EPOCH} Epochs, LR: {str(optimizer.param_groups[0]['lr']).replace('0.','')}\\n\")\n",
        "  # plt.show()\n",
        "  performanceplot = f\"PERFORMANCE.jpg\"\n",
        "  fig.savefig(performanceplot)\n",
        "  send().pic(performanceplot)\n",
        "  send().msg(messages)\n",
        "  send().msg('———————————————————————')\n",
        "\n",
        "print(f\"Total time taken to train for {EPOCH} epochs on ResNet18: {(time.time()-start)/60:.2f} min(s)\")\n",
        "send().msg(f\"Total time taken to train for {EPOCH} epochs ResNet18: {(time.time()-start)/60:.2f} min(s)\")\n",
        "print(f\"{max(train_accuracy_vals)*100:.2f}% highest train accuracy at {train_accuracy_vals.index(max(train_accuracy_vals))} epoch and {max(test_accuracy_vals)*100:.2f}% highest test accuracy at {test_accuracy_vals.index(max(test_accuracy_vals))} epoch\")\n",
        "send().msg(f\"{max(train_accuracy_vals)*100:.2f}% highest train accuracy at {train_accuracy_vals.index(max(train_accuracy_vals))} epoch and {max(test_accuracy_vals)*100:.2f}% highest test accuracy at {test_accuracy_vals.index(max(test_accuracy_vals))} epoch\")\n",
        "done = True"
      ],
      "execution_count": null,
      "outputs": [
        {
          "metadata": {
            "tags": null
          },
          "name": "stdout",
          "output_type": "stream",
          "text": [
            "RESNET18 INITIALIZED\n",
            "Epoch: 1/15\n",
            "LR: 0.001\n",
            "\t\tTraining the Neural Network\n"
          ]
        },
        {
          "data": {
            "application/vnd.jupyter.widget-view+json": {
              "model_id": "c31c80f2565f4ba7a0984d85432e60c1",
              "version_major": 2,
              "version_minor": 0
            },
            "text/plain": [
              "  0%|          | 0/1092 [00:00<?, ?it/s]"
            ]
          },
          "metadata": {},
          "output_type": "display_data"
        },
        {
          "output_type": "stream",
          "name": "stdout",
          "text": [
            "\t\tValidating Neural Network\n"
          ]
        },
        {
          "output_type": "display_data",
          "data": {
            "application/vnd.jupyter.widget-view+json": {
              "model_id": "516f90f05b64471ebaa50f5d97aac2b4",
              "version_minor": 0,
              "version_major": 2
            },
            "text/plain": [
              "  0%|          | 0/1092 [00:00<?, ?it/s]"
            ]
          },
          "metadata": {}
        },
        {
          "output_type": "stream",
          "name": "stdout",
          "text": [
            "Test Loss: 0.643 Test Accuracy: 0.639\n",
            "Train Loss: 0.700 Train Accuracy: 0.542\n",
            "Time: 19.88 min(s)\n",
            "Epoch: 2/15\n",
            "LR: 0.001\n",
            "\t\tTraining the Neural Network\n"
          ]
        },
        {
          "output_type": "display_data",
          "data": {
            "application/vnd.jupyter.widget-view+json": {
              "model_id": "3adac82e12da456e97663863f9353b89",
              "version_minor": 0,
              "version_major": 2
            },
            "text/plain": [
              "  0%|          | 0/1092 [00:00<?, ?it/s]"
            ]
          },
          "metadata": {}
        },
        {
          "output_type": "stream",
          "name": "stdout",
          "text": [
            "\t\tValidating Neural Network\n"
          ]
        },
        {
          "output_type": "display_data",
          "data": {
            "application/vnd.jupyter.widget-view+json": {
              "model_id": "ebada7e2f3d14cb99f75bafbd804b3aa",
              "version_minor": 0,
              "version_major": 2
            },
            "text/plain": [
              "  0%|          | 0/1092 [00:00<?, ?it/s]"
            ]
          },
          "metadata": {}
        }
      ]
    },
    {
      "cell_type": "code",
      "metadata": {
        "id": "Fg8bNpYhR2E4"
      },
      "source": [
        "fig, a = plt.subplots(2,2, squeeze=False, figsize=(14,7))\n",
        "a[0][0].plot(train_loss_vals)\n",
        "a[0][0].set_title(\"Train Loss\")\n",
        "a[0][0].grid(True)\n",
        "a[0][1].plot(train_accuracy_vals)\n",
        "a[0][1].set_title(\"Train accuracy\")\n",
        "a[0][1].grid(True)\n",
        "a[1][0].plot(test_loss_vals)\n",
        "a[1][0].set_title(\"Test loss\")\n",
        "a[1][0].grid(True)\n",
        "a[1][1].plot(test_accuracy_vals)\n",
        "a[1][1].set_title(\"Test accuracy\")\n",
        "a[1][1].grid(True)\n",
        "fig.suptitle(f\"RESNET18 {BATCH}/batch, {EPOCH} Epochs, LR: {str(optimizer.param_groups[0]['lr']).replace('0.','')}\\n\")\n",
        "plt.show()\n",
        "performanceplot = f\"{FOLDERS['PERFORMANCE']}/{NAME}.jpg\"\n",
        "fig.savefig(performanceplot)\n",
        "send().pic(performanceplot)"
      ],
      "execution_count": null,
      "outputs": []
    },
    {
      "cell_type": "code",
      "metadata": {
        "id": "2azNA-n62vi2"
      },
      "source": [
        "%reset"
      ],
      "execution_count": null,
      "outputs": []
    }
  ]
}