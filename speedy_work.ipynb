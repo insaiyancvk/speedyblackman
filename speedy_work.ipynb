{
  "nbformat": 4,
  "nbformat_minor": 0,
  "metadata": {
    "colab": {
      "name": "speedy work.ipynb",
      "provenance": [],
      "collapsed_sections": [],
      "include_colab_link": true
    },
    "kernelspec": {
      "name": "python3",
      "display_name": "Python 3"
    },
    "language_info": {
      "name": "python"
    },
    "widgets": {
      "application/vnd.jupyter.widget-state+json": {
        "114f19f3c7fb42758a183a4c2febf2c1": {
          "model_module": "@jupyter-widgets/controls",
          "model_name": "HBoxModel",
          "model_module_version": "1.5.0",
          "state": {
            "_view_name": "HBoxView",
            "_dom_classes": [],
            "_model_name": "HBoxModel",
            "_view_module": "@jupyter-widgets/controls",
            "_model_module_version": "1.5.0",
            "_view_count": null,
            "_view_module_version": "1.5.0",
            "box_style": "",
            "layout": "IPY_MODEL_e558c7d5d271485280b699d9d421c4ef",
            "_model_module": "@jupyter-widgets/controls",
            "children": [
              "IPY_MODEL_c08bddc2180c4c48b5a687814c7c073d",
              "IPY_MODEL_66459c89118a4f33b037899149dc1447",
              "IPY_MODEL_020502b162914fb380febc9425bbca78"
            ]
          }
        },
        "e558c7d5d271485280b699d9d421c4ef": {
          "model_module": "@jupyter-widgets/base",
          "model_name": "LayoutModel",
          "model_module_version": "1.2.0",
          "state": {
            "_view_name": "LayoutView",
            "grid_template_rows": null,
            "right": null,
            "justify_content": null,
            "_view_module": "@jupyter-widgets/base",
            "overflow": null,
            "_model_module_version": "1.2.0",
            "_view_count": null,
            "flex_flow": null,
            "width": null,
            "min_width": null,
            "border": null,
            "align_items": null,
            "bottom": null,
            "_model_module": "@jupyter-widgets/base",
            "top": null,
            "grid_column": null,
            "overflow_y": null,
            "overflow_x": null,
            "grid_auto_flow": null,
            "grid_area": null,
            "grid_template_columns": null,
            "flex": null,
            "_model_name": "LayoutModel",
            "justify_items": null,
            "grid_row": null,
            "max_height": null,
            "align_content": null,
            "visibility": null,
            "align_self": null,
            "height": null,
            "min_height": null,
            "padding": null,
            "grid_auto_rows": null,
            "grid_gap": null,
            "max_width": null,
            "order": null,
            "_view_module_version": "1.2.0",
            "grid_template_areas": null,
            "object_position": null,
            "object_fit": null,
            "grid_auto_columns": null,
            "margin": null,
            "display": null,
            "left": null
          }
        },
        "c08bddc2180c4c48b5a687814c7c073d": {
          "model_module": "@jupyter-widgets/controls",
          "model_name": "HTMLModel",
          "model_module_version": "1.5.0",
          "state": {
            "_view_name": "HTMLView",
            "style": "IPY_MODEL_c675ef005f254baca0cf0fbdfa7546d4",
            "_dom_classes": [],
            "description": "",
            "_model_name": "HTMLModel",
            "placeholder": "​",
            "_view_module": "@jupyter-widgets/controls",
            "_model_module_version": "1.5.0",
            "value": "Extracting: 100%",
            "_view_count": null,
            "_view_module_version": "1.5.0",
            "description_tooltip": null,
            "_model_module": "@jupyter-widgets/controls",
            "layout": "IPY_MODEL_2260362a6c19425a8ae68ff06ec86fa3"
          }
        },
        "66459c89118a4f33b037899149dc1447": {
          "model_module": "@jupyter-widgets/controls",
          "model_name": "FloatProgressModel",
          "model_module_version": "1.5.0",
          "state": {
            "_view_name": "ProgressView",
            "style": "IPY_MODEL_d182c071e4024ace8f84f130bb448a9c",
            "_dom_classes": [],
            "description": "",
            "_model_name": "FloatProgressModel",
            "bar_style": "success",
            "max": 34916,
            "_view_module": "@jupyter-widgets/controls",
            "_model_module_version": "1.5.0",
            "value": 34916,
            "_view_count": null,
            "_view_module_version": "1.5.0",
            "orientation": "horizontal",
            "min": 0,
            "description_tooltip": null,
            "_model_module": "@jupyter-widgets/controls",
            "layout": "IPY_MODEL_1c932cc1811a43439fb28a1ebafb8720"
          }
        },
        "020502b162914fb380febc9425bbca78": {
          "model_module": "@jupyter-widgets/controls",
          "model_name": "HTMLModel",
          "model_module_version": "1.5.0",
          "state": {
            "_view_name": "HTMLView",
            "style": "IPY_MODEL_b439130c39ca487a90f3725f0ddcc121",
            "_dom_classes": [],
            "description": "",
            "_model_name": "HTMLModel",
            "placeholder": "​",
            "_view_module": "@jupyter-widgets/controls",
            "_model_module_version": "1.5.0",
            "value": " 34916/34916 [01:30&lt;00:00, 392.41it/s]",
            "_view_count": null,
            "_view_module_version": "1.5.0",
            "description_tooltip": null,
            "_model_module": "@jupyter-widgets/controls",
            "layout": "IPY_MODEL_e77af2baecaa4b26ba8a8be8fa424b56"
          }
        },
        "c675ef005f254baca0cf0fbdfa7546d4": {
          "model_module": "@jupyter-widgets/controls",
          "model_name": "DescriptionStyleModel",
          "model_module_version": "1.5.0",
          "state": {
            "_view_name": "StyleView",
            "_model_name": "DescriptionStyleModel",
            "description_width": "",
            "_view_module": "@jupyter-widgets/base",
            "_model_module_version": "1.5.0",
            "_view_count": null,
            "_view_module_version": "1.2.0",
            "_model_module": "@jupyter-widgets/controls"
          }
        },
        "2260362a6c19425a8ae68ff06ec86fa3": {
          "model_module": "@jupyter-widgets/base",
          "model_name": "LayoutModel",
          "model_module_version": "1.2.0",
          "state": {
            "_view_name": "LayoutView",
            "grid_template_rows": null,
            "right": null,
            "justify_content": null,
            "_view_module": "@jupyter-widgets/base",
            "overflow": null,
            "_model_module_version": "1.2.0",
            "_view_count": null,
            "flex_flow": null,
            "width": null,
            "min_width": null,
            "border": null,
            "align_items": null,
            "bottom": null,
            "_model_module": "@jupyter-widgets/base",
            "top": null,
            "grid_column": null,
            "overflow_y": null,
            "overflow_x": null,
            "grid_auto_flow": null,
            "grid_area": null,
            "grid_template_columns": null,
            "flex": null,
            "_model_name": "LayoutModel",
            "justify_items": null,
            "grid_row": null,
            "max_height": null,
            "align_content": null,
            "visibility": null,
            "align_self": null,
            "height": null,
            "min_height": null,
            "padding": null,
            "grid_auto_rows": null,
            "grid_gap": null,
            "max_width": null,
            "order": null,
            "_view_module_version": "1.2.0",
            "grid_template_areas": null,
            "object_position": null,
            "object_fit": null,
            "grid_auto_columns": null,
            "margin": null,
            "display": null,
            "left": null
          }
        },
        "d182c071e4024ace8f84f130bb448a9c": {
          "model_module": "@jupyter-widgets/controls",
          "model_name": "ProgressStyleModel",
          "model_module_version": "1.5.0",
          "state": {
            "_view_name": "StyleView",
            "_model_name": "ProgressStyleModel",
            "description_width": "",
            "_view_module": "@jupyter-widgets/base",
            "_model_module_version": "1.5.0",
            "_view_count": null,
            "_view_module_version": "1.2.0",
            "bar_color": null,
            "_model_module": "@jupyter-widgets/controls"
          }
        },
        "1c932cc1811a43439fb28a1ebafb8720": {
          "model_module": "@jupyter-widgets/base",
          "model_name": "LayoutModel",
          "model_module_version": "1.2.0",
          "state": {
            "_view_name": "LayoutView",
            "grid_template_rows": null,
            "right": null,
            "justify_content": null,
            "_view_module": "@jupyter-widgets/base",
            "overflow": null,
            "_model_module_version": "1.2.0",
            "_view_count": null,
            "flex_flow": null,
            "width": null,
            "min_width": null,
            "border": null,
            "align_items": null,
            "bottom": null,
            "_model_module": "@jupyter-widgets/base",
            "top": null,
            "grid_column": null,
            "overflow_y": null,
            "overflow_x": null,
            "grid_auto_flow": null,
            "grid_area": null,
            "grid_template_columns": null,
            "flex": null,
            "_model_name": "LayoutModel",
            "justify_items": null,
            "grid_row": null,
            "max_height": null,
            "align_content": null,
            "visibility": null,
            "align_self": null,
            "height": null,
            "min_height": null,
            "padding": null,
            "grid_auto_rows": null,
            "grid_gap": null,
            "max_width": null,
            "order": null,
            "_view_module_version": "1.2.0",
            "grid_template_areas": null,
            "object_position": null,
            "object_fit": null,
            "grid_auto_columns": null,
            "margin": null,
            "display": null,
            "left": null
          }
        },
        "b439130c39ca487a90f3725f0ddcc121": {
          "model_module": "@jupyter-widgets/controls",
          "model_name": "DescriptionStyleModel",
          "model_module_version": "1.5.0",
          "state": {
            "_view_name": "StyleView",
            "_model_name": "DescriptionStyleModel",
            "description_width": "",
            "_view_module": "@jupyter-widgets/base",
            "_model_module_version": "1.5.0",
            "_view_count": null,
            "_view_module_version": "1.2.0",
            "_model_module": "@jupyter-widgets/controls"
          }
        },
        "e77af2baecaa4b26ba8a8be8fa424b56": {
          "model_module": "@jupyter-widgets/base",
          "model_name": "LayoutModel",
          "model_module_version": "1.2.0",
          "state": {
            "_view_name": "LayoutView",
            "grid_template_rows": null,
            "right": null,
            "justify_content": null,
            "_view_module": "@jupyter-widgets/base",
            "overflow": null,
            "_model_module_version": "1.2.0",
            "_view_count": null,
            "flex_flow": null,
            "width": null,
            "min_width": null,
            "border": null,
            "align_items": null,
            "bottom": null,
            "_model_module": "@jupyter-widgets/base",
            "top": null,
            "grid_column": null,
            "overflow_y": null,
            "overflow_x": null,
            "grid_auto_flow": null,
            "grid_area": null,
            "grid_template_columns": null,
            "flex": null,
            "_model_name": "LayoutModel",
            "justify_items": null,
            "grid_row": null,
            "max_height": null,
            "align_content": null,
            "visibility": null,
            "align_self": null,
            "height": null,
            "min_height": null,
            "padding": null,
            "grid_auto_rows": null,
            "grid_gap": null,
            "max_width": null,
            "order": null,
            "_view_module_version": "1.2.0",
            "grid_template_areas": null,
            "object_position": null,
            "object_fit": null,
            "grid_auto_columns": null,
            "margin": null,
            "display": null,
            "left": null
          }
        },
        "f4720ea5329c40b2af09bb6f2ca1a469": {
          "model_module": "@jupyter-widgets/controls",
          "model_name": "HBoxModel",
          "model_module_version": "1.5.0",
          "state": {
            "_view_name": "HBoxView",
            "_dom_classes": [],
            "_model_name": "HBoxModel",
            "_view_module": "@jupyter-widgets/controls",
            "_model_module_version": "1.5.0",
            "_view_count": null,
            "_view_module_version": "1.5.0",
            "box_style": "",
            "layout": "IPY_MODEL_6f44c8579df04812b87a29429775fb49",
            "_model_module": "@jupyter-widgets/controls",
            "children": [
              "IPY_MODEL_1962feade92b44a4ad8748c9c55c8209",
              "IPY_MODEL_aa4efc76d65a42fa84fdded37d672e26",
              "IPY_MODEL_e4707d4712294f9e9ad03315b145d075"
            ]
          }
        },
        "6f44c8579df04812b87a29429775fb49": {
          "model_module": "@jupyter-widgets/base",
          "model_name": "LayoutModel",
          "model_module_version": "1.2.0",
          "state": {
            "_view_name": "LayoutView",
            "grid_template_rows": null,
            "right": null,
            "justify_content": null,
            "_view_module": "@jupyter-widgets/base",
            "overflow": null,
            "_model_module_version": "1.2.0",
            "_view_count": null,
            "flex_flow": null,
            "width": null,
            "min_width": null,
            "border": null,
            "align_items": null,
            "bottom": null,
            "_model_module": "@jupyter-widgets/base",
            "top": null,
            "grid_column": null,
            "overflow_y": null,
            "overflow_x": null,
            "grid_auto_flow": null,
            "grid_area": null,
            "grid_template_columns": null,
            "flex": null,
            "_model_name": "LayoutModel",
            "justify_items": null,
            "grid_row": null,
            "max_height": null,
            "align_content": null,
            "visibility": null,
            "align_self": null,
            "height": null,
            "min_height": null,
            "padding": null,
            "grid_auto_rows": null,
            "grid_gap": null,
            "max_width": null,
            "order": null,
            "_view_module_version": "1.2.0",
            "grid_template_areas": null,
            "object_position": null,
            "object_fit": null,
            "grid_auto_columns": null,
            "margin": null,
            "display": null,
            "left": null
          }
        },
        "1962feade92b44a4ad8748c9c55c8209": {
          "model_module": "@jupyter-widgets/controls",
          "model_name": "HTMLModel",
          "model_module_version": "1.5.0",
          "state": {
            "_view_name": "HTMLView",
            "style": "IPY_MODEL_272f3b9491af4e5396338471b30d58d8",
            "_dom_classes": [],
            "description": "",
            "_model_name": "HTMLModel",
            "placeholder": "​",
            "_view_module": "@jupyter-widgets/controls",
            "_model_module_version": "1.5.0",
            "value": " 90%",
            "_view_count": null,
            "_view_module_version": "1.5.0",
            "description_tooltip": null,
            "_model_module": "@jupyter-widgets/controls",
            "layout": "IPY_MODEL_b623f244c88b47099f4bfd4ef2296bf5"
          }
        },
        "aa4efc76d65a42fa84fdded37d672e26": {
          "model_module": "@jupyter-widgets/controls",
          "model_name": "FloatProgressModel",
          "model_module_version": "1.5.0",
          "state": {
            "_view_name": "ProgressView",
            "style": "IPY_MODEL_325a0d8320724fdaa90d4caa0ccfcf96",
            "_dom_classes": [],
            "description": "",
            "_model_name": "FloatProgressModel",
            "bar_style": "",
            "max": 1746,
            "_view_module": "@jupyter-widgets/controls",
            "_model_module_version": "1.5.0",
            "value": 1566,
            "_view_count": null,
            "_view_module_version": "1.5.0",
            "orientation": "horizontal",
            "min": 0,
            "description_tooltip": null,
            "_model_module": "@jupyter-widgets/controls",
            "layout": "IPY_MODEL_c5047a9030f54ab7bedc9adfde580430"
          }
        },
        "e4707d4712294f9e9ad03315b145d075": {
          "model_module": "@jupyter-widgets/controls",
          "model_name": "HTMLModel",
          "model_module_version": "1.5.0",
          "state": {
            "_view_name": "HTMLView",
            "style": "IPY_MODEL_a9eeab52257647dfb55fee685a39216e",
            "_dom_classes": [],
            "description": "",
            "_model_name": "HTMLModel",
            "placeholder": "​",
            "_view_module": "@jupyter-widgets/controls",
            "_model_module_version": "1.5.0",
            "value": " 1565/1746 [16:29&lt;01:55,  1.57it/s]",
            "_view_count": null,
            "_view_module_version": "1.5.0",
            "description_tooltip": null,
            "_model_module": "@jupyter-widgets/controls",
            "layout": "IPY_MODEL_60ea7b23082b42f7b70cb11020543944"
          }
        },
        "272f3b9491af4e5396338471b30d58d8": {
          "model_module": "@jupyter-widgets/controls",
          "model_name": "DescriptionStyleModel",
          "model_module_version": "1.5.0",
          "state": {
            "_view_name": "StyleView",
            "_model_name": "DescriptionStyleModel",
            "description_width": "",
            "_view_module": "@jupyter-widgets/base",
            "_model_module_version": "1.5.0",
            "_view_count": null,
            "_view_module_version": "1.2.0",
            "_model_module": "@jupyter-widgets/controls"
          }
        },
        "b623f244c88b47099f4bfd4ef2296bf5": {
          "model_module": "@jupyter-widgets/base",
          "model_name": "LayoutModel",
          "model_module_version": "1.2.0",
          "state": {
            "_view_name": "LayoutView",
            "grid_template_rows": null,
            "right": null,
            "justify_content": null,
            "_view_module": "@jupyter-widgets/base",
            "overflow": null,
            "_model_module_version": "1.2.0",
            "_view_count": null,
            "flex_flow": null,
            "width": null,
            "min_width": null,
            "border": null,
            "align_items": null,
            "bottom": null,
            "_model_module": "@jupyter-widgets/base",
            "top": null,
            "grid_column": null,
            "overflow_y": null,
            "overflow_x": null,
            "grid_auto_flow": null,
            "grid_area": null,
            "grid_template_columns": null,
            "flex": null,
            "_model_name": "LayoutModel",
            "justify_items": null,
            "grid_row": null,
            "max_height": null,
            "align_content": null,
            "visibility": null,
            "align_self": null,
            "height": null,
            "min_height": null,
            "padding": null,
            "grid_auto_rows": null,
            "grid_gap": null,
            "max_width": null,
            "order": null,
            "_view_module_version": "1.2.0",
            "grid_template_areas": null,
            "object_position": null,
            "object_fit": null,
            "grid_auto_columns": null,
            "margin": null,
            "display": null,
            "left": null
          }
        },
        "325a0d8320724fdaa90d4caa0ccfcf96": {
          "model_module": "@jupyter-widgets/controls",
          "model_name": "ProgressStyleModel",
          "model_module_version": "1.5.0",
          "state": {
            "_view_name": "StyleView",
            "_model_name": "ProgressStyleModel",
            "description_width": "",
            "_view_module": "@jupyter-widgets/base",
            "_model_module_version": "1.5.0",
            "_view_count": null,
            "_view_module_version": "1.2.0",
            "bar_color": null,
            "_model_module": "@jupyter-widgets/controls"
          }
        },
        "c5047a9030f54ab7bedc9adfde580430": {
          "model_module": "@jupyter-widgets/base",
          "model_name": "LayoutModel",
          "model_module_version": "1.2.0",
          "state": {
            "_view_name": "LayoutView",
            "grid_template_rows": null,
            "right": null,
            "justify_content": null,
            "_view_module": "@jupyter-widgets/base",
            "overflow": null,
            "_model_module_version": "1.2.0",
            "_view_count": null,
            "flex_flow": null,
            "width": null,
            "min_width": null,
            "border": null,
            "align_items": null,
            "bottom": null,
            "_model_module": "@jupyter-widgets/base",
            "top": null,
            "grid_column": null,
            "overflow_y": null,
            "overflow_x": null,
            "grid_auto_flow": null,
            "grid_area": null,
            "grid_template_columns": null,
            "flex": null,
            "_model_name": "LayoutModel",
            "justify_items": null,
            "grid_row": null,
            "max_height": null,
            "align_content": null,
            "visibility": null,
            "align_self": null,
            "height": null,
            "min_height": null,
            "padding": null,
            "grid_auto_rows": null,
            "grid_gap": null,
            "max_width": null,
            "order": null,
            "_view_module_version": "1.2.0",
            "grid_template_areas": null,
            "object_position": null,
            "object_fit": null,
            "grid_auto_columns": null,
            "margin": null,
            "display": null,
            "left": null
          }
        },
        "a9eeab52257647dfb55fee685a39216e": {
          "model_module": "@jupyter-widgets/controls",
          "model_name": "DescriptionStyleModel",
          "model_module_version": "1.5.0",
          "state": {
            "_view_name": "StyleView",
            "_model_name": "DescriptionStyleModel",
            "description_width": "",
            "_view_module": "@jupyter-widgets/base",
            "_model_module_version": "1.5.0",
            "_view_count": null,
            "_view_module_version": "1.2.0",
            "_model_module": "@jupyter-widgets/controls"
          }
        },
        "60ea7b23082b42f7b70cb11020543944": {
          "model_module": "@jupyter-widgets/base",
          "model_name": "LayoutModel",
          "model_module_version": "1.2.0",
          "state": {
            "_view_name": "LayoutView",
            "grid_template_rows": null,
            "right": null,
            "justify_content": null,
            "_view_module": "@jupyter-widgets/base",
            "overflow": null,
            "_model_module_version": "1.2.0",
            "_view_count": null,
            "flex_flow": null,
            "width": null,
            "min_width": null,
            "border": null,
            "align_items": null,
            "bottom": null,
            "_model_module": "@jupyter-widgets/base",
            "top": null,
            "grid_column": null,
            "overflow_y": null,
            "overflow_x": null,
            "grid_auto_flow": null,
            "grid_area": null,
            "grid_template_columns": null,
            "flex": null,
            "_model_name": "LayoutModel",
            "justify_items": null,
            "grid_row": null,
            "max_height": null,
            "align_content": null,
            "visibility": null,
            "align_self": null,
            "height": null,
            "min_height": null,
            "padding": null,
            "grid_auto_rows": null,
            "grid_gap": null,
            "max_width": null,
            "order": null,
            "_view_module_version": "1.2.0",
            "grid_template_areas": null,
            "object_position": null,
            "object_fit": null,
            "grid_auto_columns": null,
            "margin": null,
            "display": null,
            "left": null
          }
        }
      }
    },
    "accelerator": "GPU"
  },
  "cells": [
    {
      "cell_type": "markdown",
      "metadata": {
        "id": "view-in-github",
        "colab_type": "text"
      },
      "source": [
        "<a href=\"https://colab.research.google.com/github/insaiyancvk/speedyblackman/blob/main/speedy_work.ipynb\" target=\"_parent\"><img src=\"https://colab.research.google.com/assets/colab-badge.svg\" alt=\"Open In Colab\"/></a>"
      ]
    },
    {
      "cell_type": "markdown",
      "metadata": {
        "id": "4UjHGrv6t_tj"
      },
      "source": [
        "## Starting with Left/Right work"
      ]
    },
    {
      "cell_type": "code",
      "metadata": {
        "colab": {
          "base_uri": "https://localhost:8080/"
        },
        "id": "C0Nm05DdZax3",
        "outputId": "7ea7088a-da0b-426a-c465-645dd652afbf"
      },
      "source": [
        "from google.colab import drive\n",
        "drive.mount('/content/drive')\n",
        "# from IPython.display import Image\n",
        "!pip install -q python-telegram-bot"
      ],
      "execution_count": 1,
      "outputs": [
        {
          "output_type": "stream",
          "name": "stdout",
          "text": [
            "Drive already mounted at /content/drive; to attempt to forcibly remount, call drive.mount(\"/content/drive\", force_remount=True).\n"
          ]
        }
      ]
    },
    {
      "cell_type": "code",
      "metadata": {
        "colab": {
          "base_uri": "https://localhost:8080/"
        },
        "id": "8W_vojderBBd",
        "outputId": "13f5c5a5-efa5-4d45-f59b-44c64381bf9b"
      },
      "source": [
        "import numpy as np\n",
        "import matplotlib.pyplot as plt\n",
        "import os, telegram, json, cv2, time, random, zipfile\n",
        "from PIL import Image\n",
        "\n",
        "import torch\n",
        "import torchvision\n",
        "\n",
        "from torch.utils.data import DataLoader\n",
        "from torchvision.utils import make_grid\n",
        "import torch.nn as nn\n",
        "import torch.nn.functional as F\n",
        "import torch.optim as optim\n",
        "\n",
        "from torchvision.models.resnet import resnet18\n",
        "import torchvision.transforms as transforms\n",
        "import torchvision.datasets as datasets\n",
        "\n",
        "from tqdm.notebook import tqdm\n",
        "import warnings\n",
        "warnings.filterwarnings(\"ignore\")\n",
        "\n",
        "device = 'cuda' if torch.cuda.is_available() else 'cpu'\n",
        "print(f\"{device} activated.\")"
      ],
      "execution_count": 15,
      "outputs": [
        {
          "output_type": "stream",
          "name": "stdout",
          "text": [
            "cuda activated.\n"
          ]
        }
      ]
    },
    {
      "cell_type": "code",
      "metadata": {
        "colab": {
          "base_uri": "https://localhost:8080/",
          "height": 151,
          "referenced_widgets": [
            "114f19f3c7fb42758a183a4c2febf2c1",
            "e558c7d5d271485280b699d9d421c4ef",
            "c08bddc2180c4c48b5a687814c7c073d",
            "66459c89118a4f33b037899149dc1447",
            "020502b162914fb380febc9425bbca78",
            "c675ef005f254baca0cf0fbdfa7546d4",
            "2260362a6c19425a8ae68ff06ec86fa3",
            "d182c071e4024ace8f84f130bb448a9c",
            "1c932cc1811a43439fb28a1ebafb8720",
            "b439130c39ca487a90f3725f0ddcc121",
            "e77af2baecaa4b26ba8a8be8fa424b56"
          ]
        },
        "id": "urcq2PHu87jE",
        "outputId": "3a6ff695-25c4-43a2-b2f1-942cea7ca5ec"
      },
      "source": [
        "print(\"Initializing kaggle\")\n",
        "!rm -rf /root/.kaggle && mkdir /root/.kaggle && cp /content/drive/MyDrive/kaggle.json . && mv kaggle.json /root/.kaggle/kaggle.json\n",
        "\n",
        "print(\"Downloading the dataset\")\n",
        "!kaggle datasets download insaiyancvk/nfs-rivals-left-and-right-turn-data\n",
        "\n",
        "print(\"Extracting the dataset\")\n",
        "with zipfile.ZipFile(\"nfs-rivals-left-and-right-turn-data.zip\") as zf:\n",
        "  for member in tqdm(zf.infolist(), desc='Extracting'):\n",
        "    try:\n",
        "      zf.extract(member, \"/content\")\n",
        "    except zipfile.error:\n",
        "      pass\n",
        "!rm nfs-rivals-left-and-right-turn-data.zip"
      ],
      "execution_count": 3,
      "outputs": [
        {
          "output_type": "stream",
          "name": "stdout",
          "text": [
            "Initializing kaggle\n",
            "Downloading the dataset\n",
            "Downloading nfs-rivals-left-and-right-turn-data.zip to /content\n",
            "100% 6.86G/6.88G [02:12<00:00, 56.8MB/s]\n",
            "100% 6.88G/6.88G [02:12<00:00, 55.7MB/s]\n",
            "Extracting the dataset\n"
          ]
        },
        {
          "output_type": "display_data",
          "data": {
            "application/vnd.jupyter.widget-view+json": {
              "model_id": "114f19f3c7fb42758a183a4c2febf2c1",
              "version_minor": 0,
              "version_major": 2
            },
            "text/plain": [
              "Extracting:   0%|          | 0/34916 [00:00<?, ?it/s]"
            ]
          },
          "metadata": {}
        }
      ]
    },
    {
      "cell_type": "code",
      "metadata": {
        "id": "56WwgEYv76sC",
        "cellView": "form"
      },
      "source": [
        "#@title Telegram bot\n",
        "class send(): \n",
        "\n",
        "  def __init__(self):\n",
        "    f = open ('/content/drive/MyDrive/tel.json', 'r')\n",
        "    self.tel = json.load(f)\n",
        "    f.close()\n",
        "    self.bot = telegram.Bot(token=self.tel['token']) \n",
        "\n",
        "  def msg(self, mesg):\n",
        "    self.bot.sendMessage(chat_id=self.tel['nnboiid'], text=mesg)\n",
        "\n",
        "  def pic(self, path):\n",
        "    self.bot.sendPhoto(chat_id=self.tel['nnboiid'], photo=open(path, 'rb'))\n",
        "bot = send()"
      ],
      "execution_count": 16,
      "outputs": []
    },
    {
      "cell_type": "markdown",
      "metadata": {
        "id": "ccbNVWvmytly"
      },
      "source": [
        "### Defining some constants"
      ]
    },
    {
      "cell_type": "code",
      "metadata": {
        "colab": {
          "base_uri": "https://localhost:8080/"
        },
        "id": "oBMrWsusv0_H",
        "cellView": "form",
        "outputId": "8a31af58-b493-4653-b13e-d23a61be0b71"
      },
      "source": [
        "#@title\n",
        "print(\"Initializing classes\")\n",
        "\n",
        "class_list = [\n",
        "              'a',\n",
        "              'd']\n",
        "\n",
        "print(\"Creating workspace\")\n",
        "\n",
        "drive = os.path.join(\"drive\",\"MyDrive\")\n",
        "FOLDERS = {\n",
        "    \"TRAIN\": os.path.join(\"set2\",\"train\"),\n",
        "    \"TEST\": os.path.join(\"set2\",\"test\"),\n",
        "    \"WORKSPACE\": os.path.join(drive,\"speedata\",\"workspace\"),\n",
        "    \"MODELS\": os.path.join(drive,\"speedata\",\"workspace\",\"models\"),\n",
        "    \"PERFORMANCE\": os.path.join(drive,\"speedata\",\"workspace\",\"performance\")\n",
        "}\n",
        "\n",
        "for key in FOLDERS:\n",
        "  if not os.path.isdir(FOLDERS[key]):\n",
        "    print(key, \"directory doesn't exist. Creating one.\")\n",
        "    os.mkdir(FOLDERS[key])\n",
        "    print(key, \"directory created.\")"
      ],
      "execution_count": 17,
      "outputs": [
        {
          "output_type": "stream",
          "name": "stdout",
          "text": [
            "Initializing classes\n",
            "Creating workspace\n"
          ]
        }
      ]
    },
    {
      "cell_type": "markdown",
      "metadata": {
        "id": "kGdmtDrgLNrV"
      },
      "source": [
        "### Defining the transformations on train and test data"
      ]
    },
    {
      "cell_type": "code",
      "metadata": {
        "colab": {
          "base_uri": "https://localhost:8080/"
        },
        "id": "xJseNya9-gMC",
        "outputId": "fb42758a-5dd7-4402-d2fe-cd95918dd9b6"
      },
      "source": [
        "print(\"Defining the transformations for the speedy data\")\n",
        "transformations = {\n",
        "    \"TRAIN\": transforms.Compose([\n",
        "                        transforms.Resize([256,256]),\n",
        "                        transforms.ColorJitter(brightness=(0.8,1.5), contrast=(0.8,1.5), saturation=(0.8,1.5)),\n",
        "                        # transforms.RandomInvert(0.5),\n",
        "                        # transforms.RandomRotation(degrees=(-10,10)),\n",
        "                        transforms.ToTensor(),\n",
        "                        transforms.Normalize((0.5,0.5,0.5),(0.5,0.5,0.5))\n",
        "    ]),\n",
        "    \"TEST\": transforms.Compose([\n",
        "                      transforms.Resize([256,256]),\n",
        "                      transforms.ToTensor(),\n",
        "                      transforms.Normalize((0.5,0.5,0.5),(0.5,0.5,0.5))\n",
        "    ])\n",
        "}"
      ],
      "execution_count": 19,
      "outputs": [
        {
          "output_type": "stream",
          "name": "stdout",
          "text": [
            "Defining the transformations for the speedy data\n"
          ]
        }
      ]
    },
    {
      "cell_type": "markdown",
      "metadata": {
        "id": "8iJCW7NkLVTc"
      },
      "source": [
        "### Define dataset of the _speedata_"
      ]
    },
    {
      "cell_type": "code",
      "metadata": {
        "id": "whCbQCikKP39",
        "colab": {
          "base_uri": "https://localhost:8080/"
        },
        "outputId": "c56a3faa-79c0-4a44-9267-632d92845ee3"
      },
      "source": [
        "#@title\n",
        "print(\"Creating a dataset of the speedata\")\n",
        "dataset = {\n",
        "    \"TRAIN\": datasets.ImageFolder(\n",
        "        FOLDERS[\"TRAIN\"],\n",
        "        transform = transformations[\"TRAIN\"]\n",
        "    ),\n",
        "    \"TEST\": datasets.ImageFolder(\n",
        "        FOLDERS[\"TEST\"],\n",
        "        transform = transformations[\"TEST\"]\n",
        "    )\n",
        "}"
      ],
      "execution_count": 20,
      "outputs": [
        {
          "output_type": "stream",
          "name": "stdout",
          "text": [
            "Creating a dataset of the speedata\n"
          ]
        }
      ]
    },
    {
      "cell_type": "markdown",
      "metadata": {
        "id": "LMSmSZ9FLlle"
      },
      "source": [
        "### Create Dataloader of the _speedata_"
      ]
    },
    {
      "cell_type": "code",
      "metadata": {
        "cellView": "form",
        "id": "17ElGBFu9lbZ"
      },
      "source": [
        "BATCH =  16#@param {type:\"integer\"}"
      ],
      "execution_count": 21,
      "outputs": []
    },
    {
      "cell_type": "code",
      "metadata": {
        "colab": {
          "base_uri": "https://localhost:8080/"
        },
        "id": "0XLulVJfKvg-",
        "outputId": "8b97cd32-ea68-4e60-eba0-f6bb6c139b82"
      },
      "source": [
        "#@title\n",
        "print(\"Creating dataloaders\")\n",
        "dataloader = {\n",
        "    \"TRAIN\": DataLoader(\n",
        "        dataset[\"TRAIN\"],\n",
        "        batch_size = BATCH,\n",
        "        shuffle = True\n",
        "    ),\n",
        "    \"TEST\": DataLoader(\n",
        "        dataset[\"TEST\"],\n",
        "        batch_size = BATCH,\n",
        "        shuffle = True\n",
        "    )\n",
        "}\n",
        "print(\"Data preprocessing completed.\")"
      ],
      "execution_count": 22,
      "outputs": [
        {
          "output_type": "stream",
          "name": "stdout",
          "text": [
            "Creating dataloaders\n",
            "Data preprocessing completed.\n"
          ]
        }
      ]
    },
    {
      "cell_type": "markdown",
      "metadata": {
        "id": "q-154QhrLH4m"
      },
      "source": [
        "# The G"
      ]
    },
    {
      "cell_type": "code",
      "metadata": {
        "id": "OEpKt51fMU7V",
        "cellView": "form"
      },
      "source": [
        "#@title Epoch function\n",
        "\n",
        "def epoch(model, test_loader ,train_loader, loss_func, optim, device):\n",
        "\n",
        "  test_loss = 0\n",
        "  test_accuracy = 0\n",
        "  train_loss = 0\n",
        "  train_accuracy = 0\n",
        "\n",
        "  model = model.to(device)\n",
        "\n",
        "  print(\"\\t\\tTraining the Neural Network\")\n",
        "  model.train(True)\n",
        "  for image, label in tqdm(train_loader):\n",
        "      optim.zero_grad()      \n",
        "      output = model(image.to(device))\n",
        "      loss = loss_func(\n",
        "        output,\n",
        "        label.to(device)\n",
        "        )\n",
        "      loss.backward()\n",
        "      optim.step()\n",
        "\n",
        "      accuracy = np.average(\n",
        "            np.argmax(\n",
        "              output.cpu().detach().numpy(), axis=1) == label.cpu().detach().numpy()\n",
        "        )\n",
        "\n",
        "      train_loss += loss.item()/len(train_loader) # training average loss\n",
        "      train_accuracy += accuracy/len(train_loader) # training average accuracy\n",
        "  model.train(False)\n",
        "\n",
        "  print(\"\\t\\tValidating Neural Network\")\n",
        "  model.eval()\n",
        "\n",
        "  for image, label in tqdm(test_loader):\n",
        "\n",
        "      output = model(image.to(device))\n",
        "      loss = loss_func(\n",
        "        output,\n",
        "        label.to(device)\n",
        "      )\n",
        "      \n",
        "      accuracy = np.average(\n",
        "        np.argmax(\n",
        "            output.cpu().detach().numpy(), axis=1) == label.cpu().detach().numpy()\n",
        "        )\n",
        "\n",
        "      test_loss += loss.item()/len(test_loader) # Validation average loss\n",
        "      test_accuracy += accuracy/len(test_loader) # Validation average accuracy\n",
        "      \n",
        "  return (\n",
        "\n",
        "    # TRAIN LOSS\n",
        "    train_loss,\n",
        "\n",
        "    # TRAIN ACCURACY\n",
        "    train_accuracy,\n",
        "\n",
        "    # TEST LOSS, ACCURACY\n",
        "    test_loss,\n",
        "    test_accuracy\n",
        "  )"
      ],
      "execution_count": 23,
      "outputs": []
    },
    {
      "cell_type": "code",
      "metadata": {
        "id": "zUCpviHGNDnU",
        "cellView": "form"
      },
      "source": [
        "EPOCH =  15#@param {type:\"integer\"}"
      ],
      "execution_count": 24,
      "outputs": []
    },
    {
      "cell_type": "code",
      "metadata": {
        "id": "K63sU1ZMzrQ4"
      },
      "source": [
        "!pip install pretrainedmodels\n",
        "import pretrainedmodels"
      ],
      "execution_count": null,
      "outputs": []
    },
    {
      "cell_type": "code",
      "metadata": {
        "id": "HamY2oshzhrD"
      },
      "source": [
        "class Resnet18(nn.Module):\n",
        "  def __init__(self):\n",
        "      super(EfficientNet_b0, self).__init__()\n",
        "      self.model =  pretrainedmodels.__dict__['resnet18'](pretrained='imagenet')\n",
        "      \n",
        "      self.classifier_layer = nn.Sequential(\n",
        "          nn.Linear(512 , 256),\n",
        "          nn.BatchNorm1d(256),\n",
        "          nn.Dropout(0.2),\n",
        "          nn.Linear(256 , 128),\n",
        "          nn.Linear(128 , 2)\n",
        "      )\n",
        "\n",
        "  def forward(self, x):\n",
        "    batch_size ,_,_,_ = x.shape     #taking out batch_size from input image\n",
        "    x = self.model.features(x)\n",
        "    x = torch.nn.functional.adaptive_avg_pool2d(x,1).reshape(batch_size,-1)     # then reshaping the batch_size\n",
        "    x = self.classifier_layer(x)\n",
        "    return x"
      ],
      "execution_count": null,
      "outputs": []
    },
    {
      "cell_type": "code",
      "metadata": {
        "colab": {
          "base_uri": "https://localhost:8080/",
          "height": 117,
          "referenced_widgets": [
            "f4720ea5329c40b2af09bb6f2ca1a469",
            "6f44c8579df04812b87a29429775fb49",
            "1962feade92b44a4ad8748c9c55c8209",
            "aa4efc76d65a42fa84fdded37d672e26",
            "e4707d4712294f9e9ad03315b145d075",
            "272f3b9491af4e5396338471b30d58d8",
            "b623f244c88b47099f4bfd4ef2296bf5",
            "325a0d8320724fdaa90d4caa0ccfcf96",
            "c5047a9030f54ab7bedc9adfde580430",
            "a9eeab52257647dfb55fee685a39216e",
            "60ea7b23082b42f7b70cb11020543944"
          ]
        },
        "id": "lcotW3IhNmar",
        "outputId": "86ef65e0-977c-4e85-bac6-b052d7324a5d"
      },
      "source": [
        "done = False\n",
        "# LRs = [0.015,0.01,0.1]\n",
        "# its = [i for i in range(0,EPOCH,EPOCH//len(LRs))]\n",
        "\n",
        "resnet = resnet18()\n",
        "# resnet.fc = nn.Linear(resnet.fc.in_features,2)\n",
        "# resnet.fc.register_forward_hook(lambda m, inp, out: F.dropout(out, p=0.5, training=m.training)) # add a dropout layer\n",
        "# resnet.load_state_dict(torch.load(\"/content/drive/MyDrive/speedata/workspace/models/SpeedyNet18.pth\"))\n",
        "resnet = resnet.to(device)\n",
        "print(\"RESNET18 INITIALIZED\")\n",
        "send().msg(\"RESNET18 INITIALIZED\")\n",
        "\n",
        "loss_func = nn.CrossEntropyLoss()\n",
        "optimizer = optim.Adam(resnet.parameters(), lr=0.01)\n",
        "NAME = f\"SpeedyNet18\"\n",
        "\n",
        "train_loss_vals = []\n",
        "train_accuracy_vals = []\n",
        "test_loss_vals = []\n",
        "test_accuracy_vals = []\n",
        "\n",
        "start = time.time()\n",
        "for ep in range(EPOCH):\n",
        "  messages = ''\n",
        "  # if ep in its:\n",
        "\n",
        "    # print(f\"Setting LR to {LRs[its.index(ep)]}\")\n",
        "    # messages += f\"Setting LR to {LRs[its.index(ep)]}\" # for telegram\n",
        "\n",
        "    # optimizer.param_groups[0]['lr'] = LRs[its.index(ep)]\n",
        "\n",
        "  print(f\"Epoch: {ep+1}/{EPOCH}\\nLR: {optimizer.param_groups[0]['lr']}\")\n",
        "  messages += f\"\\nEpoch: {ep+1}/{EPOCH}\\nLR: {optimizer.param_groups[0]['lr']}\" # for telegram\n",
        "\n",
        "  vals = epoch(resnet, dataloader[\"TEST\"], dataloader[\"TRAIN\"], loss_func, optimizer, device)\n",
        "  train_loss_vals.append(vals[0])\n",
        "  train_accuracy_vals.append(vals[1])\n",
        "  test_loss_vals.append(vals[2])\n",
        "  test_accuracy_vals.append(vals[3])\n",
        "\n",
        "  print(f\"Test Loss: {test_loss_vals[-1]:.3f} Test Accuracy: {test_accuracy_vals[-1]:.3f}\")\n",
        "  print(f\"Train Loss: {train_loss_vals[-1]:.3f} Train Accuracy: {train_accuracy_vals[-1]:.3f}\")\n",
        "  messages += f\"\\nTest Loss: {test_loss_vals[-1]:.3f} Test Accuracy: {test_accuracy_vals[-1]:.3f}\" # for telegram\n",
        "  messages += f\"\\nTrain Loss: {train_loss_vals[-1]:.3f} Train Accuracy: {train_accuracy_vals[-1]:.3f}\"\n",
        "  print(f\"Time: {(time.time()-start)/60:.2f} min(s)\")\n",
        "  messages += f\"\\nTime elapsed: {(time.time()-start)/60:.2f} min(s)\" # for telegram\n",
        "  \n",
        "  if len(test_loss_vals)>2:\n",
        "    if all(x > test_loss_vals[-1] for x in test_loss_vals[:-1]):\n",
        "    # if test_loss_vals[-2]>test_loss_vals[-1]:\n",
        "      model_name = os.path.join(FOLDERS[\"MODELS\"],f\"{NAME}.pth\")\n",
        "      \n",
        "      print(f\"Improvement detected. Saving the model\\n\")\n",
        "      messages += f\"\\nImprovement detected. Saving the model\" # for telegram\n",
        "\n",
        "      torch.save(resnet.state_dict(),model_name)\n",
        "  fig, a = plt.subplots(2,2, squeeze=False, figsize=(14,7))\n",
        "  a[0][0].plot(train_loss_vals)\n",
        "  a[0][0].set_title(\"Train Loss\")\n",
        "  a[0][0].grid(True)\n",
        "  a[0][1].plot(train_accuracy_vals)\n",
        "  a[0][1].set_title(\"Train accuracy\")\n",
        "  a[0][1].grid(True)\n",
        "  a[1][0].plot(test_loss_vals)\n",
        "  a[1][0].set_title(\"Test loss\")\n",
        "  a[1][0].grid(True)\n",
        "  a[1][1].plot(test_accuracy_vals)\n",
        "  a[1][1].set_title(\"Test accuracy\")\n",
        "  a[1][1].grid(True)\n",
        "  fig.suptitle(f\"RESNET18 {BATCH}/batch, {EPOCH} Epochs, LR: {str(optimizer.param_groups[0]['lr']).replace('0.','')}\\n\")\n",
        "  # plt.show()\n",
        "  performanceplot = f\"{FOLDERS['PERFORMANCE']}/{NAME}.jpg\"\n",
        "  # fig.savefig(performanceplot)\n",
        "  send().pic(performanceplot)\n",
        "  send().msg(messages)\n",
        "  send().msg('———————————————————————')\n",
        "\n",
        "print(f\"Total time taken to train for {EPOCH} epochs on ResNet18: {(time.time()-start)/60:.2f} min(s)\")\n",
        "send().msg(f\"Total time taken to train for {EPOCH} epochs ResNet18: {(time.time()-start)/60:.2f} min(s)\")\n",
        "print(f\"{max(train_accuracy_vals)*100:.2f}% highest train accuracy at {train_accuracy_vals.index(max(train_accuracy_vals))} epoch and {max(test_accuracy_vals)*100:.2f}% highest test accuracy at {test_accuracy_vals.index(max(test_accuracy_vals))} epoch\")\n",
        "send().msg(f\"{max(train_accuracy_vals)*100:.2f}% highest train accuracy at {train_accuracy_vals.index(max(train_accuracy_vals))} epoch and {max(test_accuracy_vals)*100:.2f}% highest test accuracy at {test_accuracy_vals.index(max(test_accuracy_vals))} epoch\")\n",
        "done = True"
      ],
      "execution_count": null,
      "outputs": [
        {
          "output_type": "stream",
          "name": "stdout",
          "text": [
            "RESNET18 INITIALIZED\n",
            "Epoch: 1/15\n",
            "LR: 0.01\n",
            "\t\tTraining the Neural Network\n"
          ]
        },
        {
          "output_type": "display_data",
          "data": {
            "application/vnd.jupyter.widget-view+json": {
              "model_id": "f4720ea5329c40b2af09bb6f2ca1a469",
              "version_minor": 0,
              "version_major": 2
            },
            "text/plain": [
              "  0%|          | 0/1746 [00:00<?, ?it/s]"
            ]
          },
          "metadata": {}
        }
      ]
    },
    {
      "cell_type": "code",
      "metadata": {
        "id": "Fg8bNpYhR2E4"
      },
      "source": [
        "fig, a = plt.subplots(2,2, squeeze=False, figsize=(14,7))\n",
        "a[0][0].plot(train_loss_vals)\n",
        "a[0][0].set_title(\"Train Loss\")\n",
        "a[0][0].grid(True)\n",
        "a[0][1].plot(train_accuracy_vals)\n",
        "a[0][1].set_title(\"Train accuracy\")\n",
        "a[0][1].grid(True)\n",
        "a[1][0].plot(test_loss_vals)\n",
        "a[1][0].set_title(\"Test loss\")\n",
        "a[1][0].grid(True)\n",
        "a[1][1].plot(test_accuracy_vals)\n",
        "a[1][1].set_title(\"Test accuracy\")\n",
        "a[1][1].grid(True)\n",
        "fig.suptitle(f\"RESNET18 {BATCH}/batch, {EPOCH} Epochs, LR: {str(optimizer.param_groups[0]['lr']).replace('0.','')}\\n\")\n",
        "plt.show()\n",
        "performanceplot = f\"{FOLDERS['PERFORMANCE']}/{NAME}.jpg\"\n",
        "fig.savefig(performanceplot)\n",
        "send().pic(performanceplot)"
      ],
      "execution_count": null,
      "outputs": []
    },
    {
      "cell_type": "code",
      "metadata": {
        "id": "uFxfJFjoiFPL"
      },
      "source": [
        ""
      ],
      "execution_count": null,
      "outputs": []
    }
  ]
}